{
 "cells": [
  {
   "cell_type": "markdown",
   "metadata": {
    "id": "z3lxf31cV12l"
   },
   "source": [
    "## Can We Predict If A Startup Will Be Acquired?"
   ]
  },
  {
   "cell_type": "code",
   "execution_count": 1,
   "metadata": {
    "colab": {
     "base_uri": "https://localhost:8080/"
    },
    "executionInfo": {
     "elapsed": 9200,
     "status": "ok",
     "timestamp": 1639777470955,
     "user": {
      "displayName": "Mrunali Ghelani",
      "photoUrl": "https://lh3.googleusercontent.com/a-/AOh14GjIXk9MqqJDkKwFaLcC47jG7SgRsARhiVlw-D9atD8=s64",
      "userId": "13430289795696458228"
     },
     "user_tz": 480
    },
    "id": "7FT2W0y6nA2C",
    "outputId": "d52793cf-49b0-4173-a7c1-09d1841642e4"
   },
   "outputs": [
    {
     "name": "stdout",
     "output_type": "stream",
     "text": [
      "Requirement already satisfied: imbalanced-learn in /Users/mrunalighelani/opt/anaconda3/lib/python3.8/site-packages (0.8.1)\n",
      "Requirement already satisfied: numpy>=1.13.3 in /Users/mrunalighelani/opt/anaconda3/lib/python3.8/site-packages (from imbalanced-learn) (1.20.1)\n",
      "Requirement already satisfied: joblib>=0.11 in /Users/mrunalighelani/opt/anaconda3/lib/python3.8/site-packages (from imbalanced-learn) (1.0.1)\n",
      "Requirement already satisfied: scikit-learn>=0.24 in /Users/mrunalighelani/opt/anaconda3/lib/python3.8/site-packages (from imbalanced-learn) (1.0.1)\n",
      "Requirement already satisfied: scipy>=0.19.1 in /Users/mrunalighelani/opt/anaconda3/lib/python3.8/site-packages (from imbalanced-learn) (1.6.2)\n",
      "Requirement already satisfied: threadpoolctl>=2.0.0 in /Users/mrunalighelani/opt/anaconda3/lib/python3.8/site-packages (from scikit-learn>=0.24->imbalanced-learn) (2.1.0)\n",
      "Requirement already satisfied: category_encoders in /Users/mrunalighelani/opt/anaconda3/lib/python3.8/site-packages (2.3.0)\n",
      "Requirement already satisfied: scipy>=1.0.0 in /Users/mrunalighelani/opt/anaconda3/lib/python3.8/site-packages (from category_encoders) (1.6.2)\n",
      "Requirement already satisfied: scikit-learn>=0.20.0 in /Users/mrunalighelani/opt/anaconda3/lib/python3.8/site-packages (from category_encoders) (1.0.1)\n",
      "Requirement already satisfied: patsy>=0.5.1 in /Users/mrunalighelani/opt/anaconda3/lib/python3.8/site-packages (from category_encoders) (0.5.1)\n",
      "Requirement already satisfied: statsmodels>=0.9.0 in /Users/mrunalighelani/opt/anaconda3/lib/python3.8/site-packages (from category_encoders) (0.12.2)\n",
      "Requirement already satisfied: numpy>=1.14.0 in /Users/mrunalighelani/opt/anaconda3/lib/python3.8/site-packages (from category_encoders) (1.20.1)\n",
      "Requirement already satisfied: pandas>=0.21.1 in /Users/mrunalighelani/opt/anaconda3/lib/python3.8/site-packages (from category_encoders) (1.2.4)\n",
      "Requirement already satisfied: python-dateutil>=2.7.3 in /Users/mrunalighelani/opt/anaconda3/lib/python3.8/site-packages (from pandas>=0.21.1->category_encoders) (2.8.1)\n",
      "Requirement already satisfied: pytz>=2017.3 in /Users/mrunalighelani/opt/anaconda3/lib/python3.8/site-packages (from pandas>=0.21.1->category_encoders) (2021.1)\n",
      "Requirement already satisfied: six in /Users/mrunalighelani/opt/anaconda3/lib/python3.8/site-packages (from patsy>=0.5.1->category_encoders) (1.15.0)\n",
      "Requirement already satisfied: threadpoolctl>=2.0.0 in /Users/mrunalighelani/opt/anaconda3/lib/python3.8/site-packages (from scikit-learn>=0.20.0->category_encoders) (2.1.0)\n",
      "Requirement already satisfied: joblib>=0.11 in /Users/mrunalighelani/opt/anaconda3/lib/python3.8/site-packages (from scikit-learn>=0.20.0->category_encoders) (1.0.1)\n",
      "Requirement already satisfied: scikit-learn==1.0.1 in /Users/mrunalighelani/opt/anaconda3/lib/python3.8/site-packages (1.0.1)\n",
      "Requirement already satisfied: threadpoolctl>=2.0.0 in /Users/mrunalighelani/opt/anaconda3/lib/python3.8/site-packages (from scikit-learn==1.0.1) (2.1.0)\n",
      "Requirement already satisfied: scipy>=1.1.0 in /Users/mrunalighelani/opt/anaconda3/lib/python3.8/site-packages (from scikit-learn==1.0.1) (1.6.2)\n",
      "Requirement already satisfied: joblib>=0.11 in /Users/mrunalighelani/opt/anaconda3/lib/python3.8/site-packages (from scikit-learn==1.0.1) (1.0.1)\n",
      "Requirement already satisfied: numpy>=1.14.6 in /Users/mrunalighelani/opt/anaconda3/lib/python3.8/site-packages (from scikit-learn==1.0.1) (1.20.1)\n"
     ]
    }
   ],
   "source": [
    "!pip install imbalanced-learn\n",
    "!pip install category_encoders\n",
    "!pip install scikit-learn==1.0.1"
   ]
  },
  {
   "cell_type": "code",
   "execution_count": 2,
   "metadata": {
    "executionInfo": {
     "elapsed": 4,
     "status": "ok",
     "timestamp": 1639777470956,
     "user": {
      "displayName": "Mrunali Ghelani",
      "photoUrl": "https://lh3.googleusercontent.com/a-/AOh14GjIXk9MqqJDkKwFaLcC47jG7SgRsARhiVlw-D9atD8=s64",
      "userId": "13430289795696458228"
     },
     "user_tz": 480
    },
    "id": "OLFP1q7DR0gD"
   },
   "outputs": [],
   "source": [
    "from collections import Counter\n",
    "import numpy as np\n",
    "import pandas as pd\n",
    "import seaborn as sns\n",
    "import matplotlib.pyplot as plt\n",
    "import category_encoders as ce\n",
    "from imblearn.under_sampling import RandomUnderSampler\n",
    "from sklearn.preprocessing import MinMaxScaler\n",
    "from sklearn.model_selection import train_test_split, cross_val_score\n",
    "from sklearn.tree import DecisionTreeClassifier, plot_tree\n",
    "from sklearn.metrics import classification_report, confusion_matrix\n",
    "from sklearn.metrics import ConfusionMatrixDisplay\n",
    "from sklearn.discriminant_analysis import QuadraticDiscriminantAnalysis"
   ]
  },
  {
   "cell_type": "code",
   "execution_count": 3,
   "metadata": {
    "colab": {
     "base_uri": "https://localhost:8080/",
     "height": 531
    },
    "executionInfo": {
     "elapsed": 1700,
     "status": "ok",
     "timestamp": 1639777472653,
     "user": {
      "displayName": "Mrunali Ghelani",
      "photoUrl": "https://lh3.googleusercontent.com/a-/AOh14GjIXk9MqqJDkKwFaLcC47jG7SgRsARhiVlw-D9atD8=s64",
      "userId": "13430289795696458228"
     },
     "user_tz": 480
    },
    "id": "AjyI1RZOR8wH",
    "outputId": "ac086d0a-2bd7-46ed-f3bc-5224591f488c"
   },
   "outputs": [
    {
     "name": "stdout",
     "output_type": "stream",
     "text": [
      "(196553, 15)\n"
     ]
    },
    {
     "data": {
      "text/html": [
       "<div>\n",
       "<style scoped>\n",
       "    .dataframe tbody tr th:only-of-type {\n",
       "        vertical-align: middle;\n",
       "    }\n",
       "\n",
       "    .dataframe tbody tr th {\n",
       "        vertical-align: top;\n",
       "    }\n",
       "\n",
       "    .dataframe thead th {\n",
       "        text-align: right;\n",
       "    }\n",
       "</style>\n",
       "<table border=\"1\" class=\"dataframe\">\n",
       "  <thead>\n",
       "    <tr style=\"text-align: right;\">\n",
       "      <th></th>\n",
       "      <th>id</th>\n",
       "      <th>entity_id</th>\n",
       "      <th>name</th>\n",
       "      <th>category_code</th>\n",
       "      <th>status</th>\n",
       "      <th>overview</th>\n",
       "      <th>country_code</th>\n",
       "      <th>city</th>\n",
       "      <th>region</th>\n",
       "      <th>funding_rounds</th>\n",
       "      <th>funding_total_usd</th>\n",
       "      <th>founded_at</th>\n",
       "      <th>founded_year</th>\n",
       "      <th>founded_month</th>\n",
       "      <th>founded_month_year</th>\n",
       "    </tr>\n",
       "  </thead>\n",
       "  <tbody>\n",
       "    <tr>\n",
       "      <th>0</th>\n",
       "      <td>c:1</td>\n",
       "      <td>1</td>\n",
       "      <td>Wetpaint</td>\n",
       "      <td>web</td>\n",
       "      <td>operating</td>\n",
       "      <td>Wetpaint is a technology platform company that...</td>\n",
       "      <td>USA</td>\n",
       "      <td>Seattle</td>\n",
       "      <td>Seattle</td>\n",
       "      <td>3</td>\n",
       "      <td>39750000</td>\n",
       "      <td>2005-10-17</td>\n",
       "      <td>2005.0</td>\n",
       "      <td>10.0</td>\n",
       "      <td>2005-10</td>\n",
       "    </tr>\n",
       "    <tr>\n",
       "      <th>1</th>\n",
       "      <td>c:10</td>\n",
       "      <td>10</td>\n",
       "      <td>Flektor</td>\n",
       "      <td>games_video</td>\n",
       "      <td>acquired</td>\n",
       "      <td>Flektor is a rich-media mash-up platform that ...</td>\n",
       "      <td>USA</td>\n",
       "      <td>Culver City</td>\n",
       "      <td>Los Angeles</td>\n",
       "      <td>0</td>\n",
       "      <td>0</td>\n",
       "      <td>2006-05-01</td>\n",
       "      <td>2006.0</td>\n",
       "      <td>5.0</td>\n",
       "      <td>2006-05</td>\n",
       "    </tr>\n",
       "    <tr>\n",
       "      <th>2</th>\n",
       "      <td>c:100</td>\n",
       "      <td>100</td>\n",
       "      <td>There</td>\n",
       "      <td>games_video</td>\n",
       "      <td>acquired</td>\n",
       "      <td>There.com is an online virtual world where any...</td>\n",
       "      <td>USA</td>\n",
       "      <td>San Mateo</td>\n",
       "      <td>SF Bay</td>\n",
       "      <td>0</td>\n",
       "      <td>0</td>\n",
       "      <td>1999-01-01</td>\n",
       "      <td>1999.0</td>\n",
       "      <td>1.0</td>\n",
       "      <td>1999-01</td>\n",
       "    </tr>\n",
       "    <tr>\n",
       "      <th>3</th>\n",
       "      <td>c:10000</td>\n",
       "      <td>10000</td>\n",
       "      <td>MYWEBBO</td>\n",
       "      <td>network_hosting</td>\n",
       "      <td>operating</td>\n",
       "      <td>BRAND NEW ONLINE SOCIAL NETWORKING WEBSITE,FOR...</td>\n",
       "      <td>NaN</td>\n",
       "      <td>NaN</td>\n",
       "      <td>unknown</td>\n",
       "      <td>0</td>\n",
       "      <td>0</td>\n",
       "      <td>2008-07-26</td>\n",
       "      <td>2008.0</td>\n",
       "      <td>7.0</td>\n",
       "      <td>2008-07</td>\n",
       "    </tr>\n",
       "    <tr>\n",
       "      <th>4</th>\n",
       "      <td>c:10001</td>\n",
       "      <td>10001</td>\n",
       "      <td>THE Movie Streamer</td>\n",
       "      <td>games_video</td>\n",
       "      <td>operating</td>\n",
       "      <td>This company shows free movies online on their...</td>\n",
       "      <td>NaN</td>\n",
       "      <td>NaN</td>\n",
       "      <td>unknown</td>\n",
       "      <td>0</td>\n",
       "      <td>0</td>\n",
       "      <td>2008-07-26</td>\n",
       "      <td>2008.0</td>\n",
       "      <td>7.0</td>\n",
       "      <td>2008-07</td>\n",
       "    </tr>\n",
       "  </tbody>\n",
       "</table>\n",
       "</div>"
      ],
      "text/plain": [
       "        id  entity_id                name    category_code     status  \\\n",
       "0      c:1          1            Wetpaint              web  operating   \n",
       "1     c:10         10             Flektor      games_video   acquired   \n",
       "2    c:100        100               There      games_video   acquired   \n",
       "3  c:10000      10000             MYWEBBO  network_hosting  operating   \n",
       "4  c:10001      10001  THE Movie Streamer      games_video  operating   \n",
       "\n",
       "                                            overview country_code  \\\n",
       "0  Wetpaint is a technology platform company that...          USA   \n",
       "1  Flektor is a rich-media mash-up platform that ...          USA   \n",
       "2  There.com is an online virtual world where any...          USA   \n",
       "3  BRAND NEW ONLINE SOCIAL NETWORKING WEBSITE,FOR...          NaN   \n",
       "4  This company shows free movies online on their...          NaN   \n",
       "\n",
       "          city       region  funding_rounds  funding_total_usd  founded_at  \\\n",
       "0      Seattle      Seattle               3           39750000  2005-10-17   \n",
       "1  Culver City  Los Angeles               0                  0  2006-05-01   \n",
       "2    San Mateo       SF Bay               0                  0  1999-01-01   \n",
       "3          NaN      unknown               0                  0  2008-07-26   \n",
       "4          NaN      unknown               0                  0  2008-07-26   \n",
       "\n",
       "   founded_year  founded_month founded_month_year  \n",
       "0        2005.0           10.0            2005-10  \n",
       "1        2006.0            5.0            2006-05  \n",
       "2        1999.0            1.0            1999-01  \n",
       "3        2008.0            7.0            2008-07  \n",
       "4        2008.0            7.0            2008-07  "
      ]
     },
     "execution_count": 3,
     "metadata": {},
     "output_type": "execute_result"
    }
   ],
   "source": [
    "filepath = \"Startup Investment Dataset/updated_Mf_company_3.csv\"\n",
    "startups = pd.read_csv(filepath)\n",
    "print(startups.shape)\n",
    "startups.head()"
   ]
  },
  {
   "cell_type": "markdown",
   "metadata": {
    "id": "W2yNBQvtPTqo"
   },
   "source": [
    "### Data Cleaning for Data Modeling\n"
   ]
  },
  {
   "cell_type": "code",
   "execution_count": 4,
   "metadata": {
    "colab": {
     "base_uri": "https://localhost:8080/"
    },
    "executionInfo": {
     "elapsed": 13,
     "status": "ok",
     "timestamp": 1639777472653,
     "user": {
      "displayName": "Mrunali Ghelani",
      "photoUrl": "https://lh3.googleusercontent.com/a-/AOh14GjIXk9MqqJDkKwFaLcC47jG7SgRsARhiVlw-D9atD8=s64",
      "userId": "13430289795696458228"
     },
     "user_tz": 480
    },
    "id": "2jivEKGHpoy6",
    "outputId": "50d68ae2-ff5e-4dc3-acd9-dd944e84f2b9"
   },
   "outputs": [
    {
     "name": "stdout",
     "output_type": "stream",
     "text": [
      "(111864, 15)\n"
     ]
    }
   ],
   "source": [
    "# Select 21st Century data\n",
    "\n",
    "startups = startups[startups['founded_year'] >= 2000]\n",
    "print(startups.shape)"
   ]
  },
  {
   "cell_type": "code",
   "execution_count": 5,
   "metadata": {
    "colab": {
     "base_uri": "https://localhost:8080/",
     "height": 354
    },
    "executionInfo": {
     "elapsed": 11,
     "status": "ok",
     "timestamp": 1639777472653,
     "user": {
      "displayName": "Mrunali Ghelani",
      "photoUrl": "https://lh3.googleusercontent.com/a-/AOh14GjIXk9MqqJDkKwFaLcC47jG7SgRsARhiVlw-D9atD8=s64",
      "userId": "13430289795696458228"
     },
     "user_tz": 480
    },
    "id": "hi4gzG36Sp03",
    "outputId": "72fb2f9e-b5e0-4f4e-c734-0af77c0df0d9"
   },
   "outputs": [
    {
     "data": {
      "text/html": [
       "<div>\n",
       "<style scoped>\n",
       "    .dataframe tbody tr th:only-of-type {\n",
       "        vertical-align: middle;\n",
       "    }\n",
       "\n",
       "    .dataframe tbody tr th {\n",
       "        vertical-align: top;\n",
       "    }\n",
       "\n",
       "    .dataframe thead th {\n",
       "        text-align: right;\n",
       "    }\n",
       "</style>\n",
       "<table border=\"1\" class=\"dataframe\">\n",
       "  <thead>\n",
       "    <tr style=\"text-align: right;\">\n",
       "      <th></th>\n",
       "      <th>id</th>\n",
       "      <th>category_code</th>\n",
       "      <th>status</th>\n",
       "      <th>country_code</th>\n",
       "      <th>city</th>\n",
       "      <th>region</th>\n",
       "      <th>funding_rounds</th>\n",
       "      <th>funding_total_usd</th>\n",
       "      <th>founded_at</th>\n",
       "      <th>founded_year</th>\n",
       "      <th>founded_month</th>\n",
       "      <th>founded_month_year</th>\n",
       "    </tr>\n",
       "  </thead>\n",
       "  <tbody>\n",
       "    <tr>\n",
       "      <th>0</th>\n",
       "      <td>c:1</td>\n",
       "      <td>web</td>\n",
       "      <td>operating</td>\n",
       "      <td>USA</td>\n",
       "      <td>Seattle</td>\n",
       "      <td>Seattle</td>\n",
       "      <td>3</td>\n",
       "      <td>39750000</td>\n",
       "      <td>2005-10-17</td>\n",
       "      <td>2005.0</td>\n",
       "      <td>10.0</td>\n",
       "      <td>2005-10</td>\n",
       "    </tr>\n",
       "    <tr>\n",
       "      <th>1</th>\n",
       "      <td>c:10</td>\n",
       "      <td>games_video</td>\n",
       "      <td>acquired</td>\n",
       "      <td>USA</td>\n",
       "      <td>Culver City</td>\n",
       "      <td>Los Angeles</td>\n",
       "      <td>0</td>\n",
       "      <td>0</td>\n",
       "      <td>2006-05-01</td>\n",
       "      <td>2006.0</td>\n",
       "      <td>5.0</td>\n",
       "      <td>2006-05</td>\n",
       "    </tr>\n",
       "    <tr>\n",
       "      <th>3</th>\n",
       "      <td>c:10000</td>\n",
       "      <td>network_hosting</td>\n",
       "      <td>operating</td>\n",
       "      <td>NaN</td>\n",
       "      <td>NaN</td>\n",
       "      <td>unknown</td>\n",
       "      <td>0</td>\n",
       "      <td>0</td>\n",
       "      <td>2008-07-26</td>\n",
       "      <td>2008.0</td>\n",
       "      <td>7.0</td>\n",
       "      <td>2008-07</td>\n",
       "    </tr>\n",
       "    <tr>\n",
       "      <th>4</th>\n",
       "      <td>c:10001</td>\n",
       "      <td>games_video</td>\n",
       "      <td>operating</td>\n",
       "      <td>NaN</td>\n",
       "      <td>NaN</td>\n",
       "      <td>unknown</td>\n",
       "      <td>0</td>\n",
       "      <td>0</td>\n",
       "      <td>2008-07-26</td>\n",
       "      <td>2008.0</td>\n",
       "      <td>7.0</td>\n",
       "      <td>2008-07</td>\n",
       "    </tr>\n",
       "    <tr>\n",
       "      <th>5</th>\n",
       "      <td>c:10002</td>\n",
       "      <td>advertising</td>\n",
       "      <td>operating</td>\n",
       "      <td>MAR</td>\n",
       "      <td>Agadir</td>\n",
       "      <td>Agadir</td>\n",
       "      <td>0</td>\n",
       "      <td>0</td>\n",
       "      <td>2007-06-27</td>\n",
       "      <td>2007.0</td>\n",
       "      <td>6.0</td>\n",
       "      <td>2007-06</td>\n",
       "    </tr>\n",
       "  </tbody>\n",
       "</table>\n",
       "</div>"
      ],
      "text/plain": [
       "        id    category_code     status country_code         city       region  \\\n",
       "0      c:1              web  operating          USA      Seattle      Seattle   \n",
       "1     c:10      games_video   acquired          USA  Culver City  Los Angeles   \n",
       "3  c:10000  network_hosting  operating          NaN          NaN      unknown   \n",
       "4  c:10001      games_video  operating          NaN          NaN      unknown   \n",
       "5  c:10002      advertising  operating          MAR       Agadir       Agadir   \n",
       "\n",
       "   funding_rounds  funding_total_usd  founded_at  founded_year  founded_month  \\\n",
       "0               3           39750000  2005-10-17        2005.0           10.0   \n",
       "1               0                  0  2006-05-01        2006.0            5.0   \n",
       "3               0                  0  2008-07-26        2008.0            7.0   \n",
       "4               0                  0  2008-07-26        2008.0            7.0   \n",
       "5               0                  0  2007-06-27        2007.0            6.0   \n",
       "\n",
       "  founded_month_year  \n",
       "0            2005-10  \n",
       "1            2006-05  \n",
       "3            2008-07  \n",
       "4            2008-07  \n",
       "5            2007-06  "
      ]
     },
     "execution_count": 5,
     "metadata": {},
     "output_type": "execute_result"
    }
   ],
   "source": [
    "# Drop unnecessary columns\n",
    "\n",
    "startups.drop(columns=['entity_id','name','overview'],inplace=True)\n",
    "startups.head()"
   ]
  },
  {
   "cell_type": "code",
   "execution_count": 6,
   "metadata": {
    "colab": {
     "base_uri": "https://localhost:8080/"
    },
    "executionInfo": {
     "elapsed": 8,
     "status": "ok",
     "timestamp": 1639777472653,
     "user": {
      "displayName": "Mrunali Ghelani",
      "photoUrl": "https://lh3.googleusercontent.com/a-/AOh14GjIXk9MqqJDkKwFaLcC47jG7SgRsARhiVlw-D9atD8=s64",
      "userId": "13430289795696458228"
     },
     "user_tz": 480
    },
    "id": "kTUyyp1IVgn3",
    "outputId": "be820a56-cd1b-4946-c4d1-5200e7b3bb8b"
   },
   "outputs": [
    {
     "data": {
      "text/plain": [
       "acquired       3975\n",
       "closed         2022\n",
       "ipo             337\n",
       "operating    105530\n",
       "Name: status, dtype: int64"
      ]
     },
     "execution_count": 6,
     "metadata": {},
     "output_type": "execute_result"
    }
   ],
   "source": [
    "startups['status'].value_counts().sort_index()"
   ]
  },
  {
   "cell_type": "code",
   "execution_count": 7,
   "metadata": {
    "colab": {
     "base_uri": "https://localhost:8080/"
    },
    "executionInfo": {
     "elapsed": 8,
     "status": "ok",
     "timestamp": 1639777472654,
     "user": {
      "displayName": "Mrunali Ghelani",
      "photoUrl": "https://lh3.googleusercontent.com/a-/AOh14GjIXk9MqqJDkKwFaLcC47jG7SgRsARhiVlw-D9atD8=s64",
      "userId": "13430289795696458228"
     },
     "user_tz": 480
    },
    "id": "dE4aorHDYRHc",
    "outputId": "014d2abc-b155-4cfe-c8cb-c8d6b48f0e20"
   },
   "outputs": [
    {
     "name": "stdout",
     "output_type": "stream",
     "text": [
      "(109842, 12)\n"
     ]
    }
   ],
   "source": [
    "# Exclude closed startups as they cannot be acquired\n",
    "\n",
    "startups = startups[startups[\"status\"].isin(['acquired','operating','ipo'])]\n",
    "print(startups.shape)"
   ]
  },
  {
   "cell_type": "code",
   "execution_count": 8,
   "metadata": {
    "colab": {
     "base_uri": "https://localhost:8080/"
    },
    "executionInfo": {
     "elapsed": 810,
     "status": "ok",
     "timestamp": 1639777473458,
     "user": {
      "displayName": "Mrunali Ghelani",
      "photoUrl": "https://lh3.googleusercontent.com/a-/AOh14GjIXk9MqqJDkKwFaLcC47jG7SgRsARhiVlw-D9atD8=s64",
      "userId": "13430289795696458228"
     },
     "user_tz": 480
    },
    "id": "GdLU79d8YL_d",
    "outputId": "3166c876-4f74-4478-da15-613fb7b21195"
   },
   "outputs": [
    {
     "name": "stdout",
     "output_type": "stream",
     "text": [
      "<class 'pandas.core.frame.DataFrame'>\n",
      "Int64Index: 53981 entries, 0 to 196552\n",
      "Data columns (total 12 columns):\n",
      " #   Column              Non-Null Count  Dtype  \n",
      "---  ------              --------------  -----  \n",
      " 0   id                  53981 non-null  object \n",
      " 1   category_code       53981 non-null  object \n",
      " 2   status              53981 non-null  object \n",
      " 3   country_code        53981 non-null  object \n",
      " 4   city                53981 non-null  object \n",
      " 5   region              53981 non-null  object \n",
      " 6   funding_rounds      53981 non-null  int64  \n",
      " 7   funding_total_usd   53981 non-null  int64  \n",
      " 8   founded_at          53981 non-null  object \n",
      " 9   founded_year        53981 non-null  float64\n",
      " 10  founded_month       53981 non-null  float64\n",
      " 11  founded_month_year  53981 non-null  object \n",
      "dtypes: float64(2), int64(2), object(8)\n",
      "memory usage: 5.4+ MB\n"
     ]
    }
   ],
   "source": [
    "# Drop missing rows\n",
    "\n",
    "startups.dropna(inplace=True)\n",
    "startups.info()"
   ]
  },
  {
   "cell_type": "code",
   "execution_count": 9,
   "metadata": {
    "colab": {
     "base_uri": "https://localhost:8080/",
     "height": 305
    },
    "executionInfo": {
     "elapsed": 10,
     "status": "ok",
     "timestamp": 1639777473458,
     "user": {
      "displayName": "Mrunali Ghelani",
      "photoUrl": "https://lh3.googleusercontent.com/a-/AOh14GjIXk9MqqJDkKwFaLcC47jG7SgRsARhiVlw-D9atD8=s64",
      "userId": "13430289795696458228"
     },
     "user_tz": 480
    },
    "id": "loZCENjPTaqh",
    "outputId": "5f9344ef-f727-4de8-99e7-536be3eeed84"
   },
   "outputs": [
    {
     "name": "stdout",
     "output_type": "stream",
     "text": [
      "(53981, 13)\n"
     ]
    },
    {
     "data": {
      "text/html": [
       "<div>\n",
       "<style scoped>\n",
       "    .dataframe tbody tr th:only-of-type {\n",
       "        vertical-align: middle;\n",
       "    }\n",
       "\n",
       "    .dataframe tbody tr th {\n",
       "        vertical-align: top;\n",
       "    }\n",
       "\n",
       "    .dataframe thead th {\n",
       "        text-align: right;\n",
       "    }\n",
       "</style>\n",
       "<table border=\"1\" class=\"dataframe\">\n",
       "  <thead>\n",
       "    <tr style=\"text-align: right;\">\n",
       "      <th></th>\n",
       "      <th>id</th>\n",
       "      <th>category_code</th>\n",
       "      <th>status</th>\n",
       "      <th>country_code</th>\n",
       "      <th>city</th>\n",
       "      <th>region</th>\n",
       "      <th>funding_rounds</th>\n",
       "      <th>funding_total_usd</th>\n",
       "      <th>founded_at</th>\n",
       "      <th>founded_year</th>\n",
       "      <th>founded_month</th>\n",
       "      <th>founded_month_year</th>\n",
       "      <th>acquired</th>\n",
       "    </tr>\n",
       "  </thead>\n",
       "  <tbody>\n",
       "    <tr>\n",
       "      <th>0</th>\n",
       "      <td>c:1</td>\n",
       "      <td>web</td>\n",
       "      <td>operating</td>\n",
       "      <td>USA</td>\n",
       "      <td>Seattle</td>\n",
       "      <td>Seattle</td>\n",
       "      <td>3</td>\n",
       "      <td>39750000</td>\n",
       "      <td>2005-10-17</td>\n",
       "      <td>2005.0</td>\n",
       "      <td>10.0</td>\n",
       "      <td>2005-10</td>\n",
       "      <td>0</td>\n",
       "    </tr>\n",
       "    <tr>\n",
       "      <th>1</th>\n",
       "      <td>c:10</td>\n",
       "      <td>games_video</td>\n",
       "      <td>acquired</td>\n",
       "      <td>USA</td>\n",
       "      <td>Culver City</td>\n",
       "      <td>Los Angeles</td>\n",
       "      <td>0</td>\n",
       "      <td>0</td>\n",
       "      <td>2006-05-01</td>\n",
       "      <td>2006.0</td>\n",
       "      <td>5.0</td>\n",
       "      <td>2006-05</td>\n",
       "      <td>1</td>\n",
       "    </tr>\n",
       "    <tr>\n",
       "      <th>5</th>\n",
       "      <td>c:10002</td>\n",
       "      <td>advertising</td>\n",
       "      <td>operating</td>\n",
       "      <td>MAR</td>\n",
       "      <td>Agadir</td>\n",
       "      <td>Agadir</td>\n",
       "      <td>0</td>\n",
       "      <td>0</td>\n",
       "      <td>2007-06-27</td>\n",
       "      <td>2007.0</td>\n",
       "      <td>6.0</td>\n",
       "      <td>2007-06</td>\n",
       "      <td>0</td>\n",
       "    </tr>\n",
       "    <tr>\n",
       "      <th>6</th>\n",
       "      <td>c:10003</td>\n",
       "      <td>cleantech</td>\n",
       "      <td>operating</td>\n",
       "      <td>IND</td>\n",
       "      <td>Vadodara</td>\n",
       "      <td>Vadodara</td>\n",
       "      <td>0</td>\n",
       "      <td>0</td>\n",
       "      <td>2008-08-20</td>\n",
       "      <td>2008.0</td>\n",
       "      <td>8.0</td>\n",
       "      <td>2008-08</td>\n",
       "      <td>0</td>\n",
       "    </tr>\n",
       "    <tr>\n",
       "      <th>12</th>\n",
       "      <td>c:10009</td>\n",
       "      <td>advertising</td>\n",
       "      <td>operating</td>\n",
       "      <td>USA</td>\n",
       "      <td>Santa Fe</td>\n",
       "      <td>Santa Fe</td>\n",
       "      <td>0</td>\n",
       "      <td>0</td>\n",
       "      <td>2008-08-01</td>\n",
       "      <td>2008.0</td>\n",
       "      <td>8.0</td>\n",
       "      <td>2008-08</td>\n",
       "      <td>0</td>\n",
       "    </tr>\n",
       "  </tbody>\n",
       "</table>\n",
       "</div>"
      ],
      "text/plain": [
       "         id category_code     status country_code         city       region  \\\n",
       "0       c:1           web  operating          USA      Seattle      Seattle   \n",
       "1      c:10   games_video   acquired          USA  Culver City  Los Angeles   \n",
       "5   c:10002   advertising  operating          MAR       Agadir       Agadir   \n",
       "6   c:10003     cleantech  operating          IND     Vadodara     Vadodara   \n",
       "12  c:10009   advertising  operating          USA     Santa Fe     Santa Fe   \n",
       "\n",
       "    funding_rounds  funding_total_usd  founded_at  founded_year  \\\n",
       "0                3           39750000  2005-10-17        2005.0   \n",
       "1                0                  0  2006-05-01        2006.0   \n",
       "5                0                  0  2007-06-27        2007.0   \n",
       "6                0                  0  2008-08-20        2008.0   \n",
       "12               0                  0  2008-08-01        2008.0   \n",
       "\n",
       "    founded_month founded_month_year  acquired  \n",
       "0            10.0            2005-10         0  \n",
       "1             5.0            2006-05         1  \n",
       "5             6.0            2007-06         0  \n",
       "6             8.0            2008-08         0  \n",
       "12            8.0            2008-08         0  "
      ]
     },
     "execution_count": 9,
     "metadata": {},
     "output_type": "execute_result"
    }
   ],
   "source": [
    "# Create new column 'acquired' which is the value to be predicted\n",
    "\n",
    "startups[\"acquired\"] = (startups['status'] == 'acquired').apply(int)\n",
    "print(startups.shape)\n",
    "startups.head()"
   ]
  },
  {
   "cell_type": "code",
   "execution_count": 10,
   "metadata": {
    "colab": {
     "base_uri": "https://localhost:8080/"
    },
    "executionInfo": {
     "elapsed": 9,
     "status": "ok",
     "timestamp": 1639777473459,
     "user": {
      "displayName": "Mrunali Ghelani",
      "photoUrl": "https://lh3.googleusercontent.com/a-/AOh14GjIXk9MqqJDkKwFaLcC47jG7SgRsARhiVlw-D9atD8=s64",
      "userId": "13430289795696458228"
     },
     "user_tz": 480
    },
    "id": "XQFE_7nZYHs3",
    "outputId": "60e9b1c5-46db-42ad-d6b7-f9612d351715"
   },
   "outputs": [
    {
     "data": {
      "text/plain": [
       "0    51005\n",
       "1     2976\n",
       "Name: acquired, dtype: int64"
      ]
     },
     "execution_count": 10,
     "metadata": {},
     "output_type": "execute_result"
    }
   ],
   "source": [
    "startups[\"acquired\"].value_counts()"
   ]
  },
  {
   "cell_type": "markdown",
   "metadata": {
    "id": "pWq0rvltQS0w"
   },
   "source": [
    "Check for Incorrect/Missing/Invalid funding amounts and Outliers"
   ]
  },
  {
   "cell_type": "code",
   "execution_count": 11,
   "metadata": {
    "colab": {
     "base_uri": "https://localhost:8080/"
    },
    "executionInfo": {
     "elapsed": 8,
     "status": "ok",
     "timestamp": 1639777473459,
     "user": {
      "displayName": "Mrunali Ghelani",
      "photoUrl": "https://lh3.googleusercontent.com/a-/AOh14GjIXk9MqqJDkKwFaLcC47jG7SgRsARhiVlw-D9atD8=s64",
      "userId": "13430289795696458228"
     },
     "user_tz": 480
    },
    "id": "l4Nh6SA1P-UO",
    "outputId": "9ac6940d-3931-4f8a-8381-d1ac1f6eef08"
   },
   "outputs": [
    {
     "name": "stdout",
     "output_type": "stream",
     "text": [
      "67.11065004353384\n"
     ]
    }
   ],
   "source": [
    "# Check % of data where funding amount is 0\n",
    "\n",
    "print(len(startups[startups.funding_total_usd==0])/len(startups)*100)"
   ]
  },
  {
   "cell_type": "code",
   "execution_count": 12,
   "metadata": {
    "colab": {
     "base_uri": "https://localhost:8080/"
    },
    "executionInfo": {
     "elapsed": 7,
     "status": "ok",
     "timestamp": 1639777473459,
     "user": {
      "displayName": "Mrunali Ghelani",
      "photoUrl": "https://lh3.googleusercontent.com/a-/AOh14GjIXk9MqqJDkKwFaLcC47jG7SgRsARhiVlw-D9atD8=s64",
      "userId": "13430289795696458228"
     },
     "user_tz": 480
    },
    "id": "ZbrMxEkoQTEN",
    "outputId": "1743fd14-a3cb-4a20-e9c4-30f50f78eeab"
   },
   "outputs": [
    {
     "data": {
      "text/plain": [
       "0    34130\n",
       "1     1850\n",
       "2      208\n",
       "3       31\n",
       "4        6\n",
       "5        2\n",
       "Name: funding_rounds, dtype: int64"
      ]
     },
     "execution_count": 12,
     "metadata": {},
     "output_type": "execute_result"
    }
   ],
   "source": [
    "# For funding amt=0, check what are no. of funding rounds\n",
    "\n",
    "funding_0 = startups[startups.funding_total_usd==0]\n",
    "funding_0['funding_rounds'].value_counts()"
   ]
  },
  {
   "cell_type": "code",
   "execution_count": 13,
   "metadata": {
    "colab": {
     "base_uri": "https://localhost:8080/"
    },
    "executionInfo": {
     "elapsed": 6,
     "status": "ok",
     "timestamp": 1639777473459,
     "user": {
      "displayName": "Mrunali Ghelani",
      "photoUrl": "https://lh3.googleusercontent.com/a-/AOh14GjIXk9MqqJDkKwFaLcC47jG7SgRsARhiVlw-D9atD8=s64",
      "userId": "13430289795696458228"
     },
     "user_tz": 480
    },
    "id": "t9CaAEs3QnmU",
    "outputId": "5f75bef1-edc6-44d3-8528-9bcff419c9b7"
   },
   "outputs": [
    {
     "name": "stdout",
     "output_type": "stream",
     "text": [
      "             id\n",
      "2750    c:11843\n",
      "8587   c:142873\n",
      "11782   c:14710\n",
      "12327   c:14785\n",
      "15055  c:151711\n",
      "             id\n",
      "185656  c:75058\n",
      "185999  c:75513\n",
      "187598    c:775\n",
      "193698  c:84848\n",
      "193815    c:850\n"
     ]
    }
   ],
   "source": [
    "print(funding_0[(funding_0['funding_rounds']==3) & (funding_0['funding_total_usd']==0)][['id']].head())\n",
    "print(funding_0[(funding_0['funding_rounds']==3) & (funding_0['funding_total_usd']==0)][['id']].tail())"
   ]
  },
  {
   "cell_type": "code",
   "execution_count": 14,
   "metadata": {
    "colab": {
     "base_uri": "https://localhost:8080/"
    },
    "executionInfo": {
     "elapsed": 6,
     "status": "ok",
     "timestamp": 1639777473460,
     "user": {
      "displayName": "Mrunali Ghelani",
      "photoUrl": "https://lh3.googleusercontent.com/a-/AOh14GjIXk9MqqJDkKwFaLcC47jG7SgRsARhiVlw-D9atD8=s64",
      "userId": "13430289795696458228"
     },
     "user_tz": 480
    },
    "id": "qNMlKbdIfZGV",
    "outputId": "a14a8e91-288f-4985-b0b8-f1ef981a71c3"
   },
   "outputs": [
    {
     "name": "stdout",
     "output_type": "stream",
     "text": [
      "2097\n",
      "5.78850028983907\n"
     ]
    }
   ],
   "source": [
    "# Check no. and % of data where funding amt=0 but funding rounds>0\n",
    "\n",
    "print(len(funding_0[(funding_0['funding_rounds']>0) & (funding_0['funding_total_usd']==0)]))\n",
    "print(len(funding_0[(funding_0['funding_rounds']>0) & (funding_0['funding_total_usd']==0)])/len(funding_0)*100.0)"
   ]
  },
  {
   "cell_type": "markdown",
   "metadata": {
    "id": "NIekLUF1Rjry"
   },
   "source": [
    "There should be no data where we have 1 or more funding rounds but 0 funding amounts raised. \n",
    "\n",
    "Hence, we deep-dive into the data to evaluate possible reasons for this"
   ]
  },
  {
   "cell_type": "code",
   "execution_count": 15,
   "metadata": {
    "colab": {
     "base_uri": "https://localhost:8080/",
     "height": 143
    },
    "executionInfo": {
     "elapsed": 4019,
     "status": "ok",
     "timestamp": 1639777477474,
     "user": {
      "displayName": "Mrunali Ghelani",
      "photoUrl": "https://lh3.googleusercontent.com/a-/AOh14GjIXk9MqqJDkKwFaLcC47jG7SgRsARhiVlw-D9atD8=s64",
      "userId": "13430289795696458228"
     },
     "user_tz": 480
    },
    "id": "l-5XE36aRFpt",
    "outputId": "75a331ce-0463-4329-f8b6-f6a9f6836ad2"
   },
   "outputs": [
    {
     "data": {
      "text/html": [
       "<div>\n",
       "<style scoped>\n",
       "    .dataframe tbody tr th:only-of-type {\n",
       "        vertical-align: middle;\n",
       "    }\n",
       "\n",
       "    .dataframe tbody tr th {\n",
       "        vertical-align: top;\n",
       "    }\n",
       "\n",
       "    .dataframe thead th {\n",
       "        text-align: right;\n",
       "    }\n",
       "</style>\n",
       "<table border=\"1\" class=\"dataframe\">\n",
       "  <thead>\n",
       "    <tr style=\"text-align: right;\">\n",
       "      <th></th>\n",
       "      <th>id</th>\n",
       "      <th>name</th>\n",
       "    </tr>\n",
       "  </thead>\n",
       "  <tbody>\n",
       "    <tr>\n",
       "      <th>2750</th>\n",
       "      <td>c:11843</td>\n",
       "      <td>Green Plug</td>\n",
       "    </tr>\n",
       "    <tr>\n",
       "      <th>185656</th>\n",
       "      <td>c:75058</td>\n",
       "      <td>PriceMe</td>\n",
       "    </tr>\n",
       "    <tr>\n",
       "      <th>193815</th>\n",
       "      <td>c:850</td>\n",
       "      <td>Jamdat Mobile</td>\n",
       "    </tr>\n",
       "  </tbody>\n",
       "</table>\n",
       "</div>"
      ],
      "text/plain": [
       "             id           name\n",
       "2750    c:11843     Green Plug\n",
       "185656  c:75058        PriceMe\n",
       "193815    c:850  Jamdat Mobile"
      ]
     },
     "execution_count": 15,
     "metadata": {},
     "output_type": "execute_result"
    }
   ],
   "source": [
    "company = pd.read_csv(\"Startup Investment Dataset/updated_objects_company.csv\")\n",
    "company[company['id'].isin(['c:11843', 'c:850', 'c:75058'])][['id', 'name']]"
   ]
  },
  {
   "cell_type": "markdown",
   "metadata": {
    "id": "W-8J88OaSdJj"
   },
   "source": [
    "https://www.crunchbase.com/organization/jamdatmobile/company_financials\n",
    "\n",
    "JAMDAT Mobile has raised a total of $29M in funding over 3 rounds. Their latest funding was raised on Dec 4, 2003 from a Series D round.\n",
    "\n",
    "https://www.crunchbase.com/organization/green-plug/company_financials\n",
    "\n",
    "Green Plug has had multiple successful funding rounds but the data is unavailable online.\n",
    "\n",
    "https://www.crunchbase.com/organization/priceme/company_financials\n",
    "\n",
    "Price Me also has had multiple successful funding rounds but the data is unavailable online.\n",
    "\n",
    "Hence, we see that when funding rounds > 0 but funding amount = 0, there is missing or incorrect data. \n",
    "\n",
    "Hence, we exclude these rows."
   ]
  },
  {
   "cell_type": "code",
   "execution_count": 16,
   "metadata": {
    "colab": {
     "base_uri": "https://localhost:8080/"
    },
    "executionInfo": {
     "elapsed": 24,
     "status": "ok",
     "timestamp": 1639777477475,
     "user": {
      "displayName": "Mrunali Ghelani",
      "photoUrl": "https://lh3.googleusercontent.com/a-/AOh14GjIXk9MqqJDkKwFaLcC47jG7SgRsARhiVlw-D9atD8=s64",
      "userId": "13430289795696458228"
     },
     "user_tz": 480
    },
    "id": "hfQKaymiRFnR",
    "outputId": "9bc5de1d-0deb-4081-f82a-8a3aed0eb218"
   },
   "outputs": [
    {
     "name": "stdout",
     "output_type": "stream",
     "text": [
      "(53981, 13)\n",
      "(51884, 13)\n"
     ]
    }
   ],
   "source": [
    "print(startups.shape)\n",
    "startups = startups[(startups['funding_rounds']==0) | (startups['funding_total_usd']!=0)]\n",
    "print(startups.shape)"
   ]
  },
  {
   "cell_type": "markdown",
   "metadata": {
    "id": "mud5cjk4R_Yz"
   },
   "source": [
    "We now look at funding round data distribution to identify and remove outliers"
   ]
  },
  {
   "cell_type": "code",
   "execution_count": 17,
   "metadata": {
    "colab": {
     "base_uri": "https://localhost:8080/",
     "height": 295
    },
    "executionInfo": {
     "elapsed": 582,
     "status": "ok",
     "timestamp": 1639777478038,
     "user": {
      "displayName": "Mrunali Ghelani",
      "photoUrl": "https://lh3.googleusercontent.com/a-/AOh14GjIXk9MqqJDkKwFaLcC47jG7SgRsARhiVlw-D9atD8=s64",
      "userId": "13430289795696458228"
     },
     "user_tz": 480
    },
    "id": "LRzySEC1drcu",
    "outputId": "5bb6e400-021f-4a90-9c9d-cb7b5872a86a"
   },
   "outputs": [
    {
     "data": {
      "text/plain": [
       "<AxesSubplot:ylabel='Frequency'>"
      ]
     },
     "execution_count": 17,
     "metadata": {},
     "output_type": "execute_result"
    },
    {
     "data": {
      "image/png": "[encoded data removed]",
      "text/plain": [
       "<Figure size 432x288 with 1 Axes>"
      ]
     },
     "metadata": {
      "needs_background": "light"
     },
     "output_type": "display_data"
    }
   ],
   "source": [
    "startups['funding_total_usd'].plot.hist()"
   ]
  },
  {
   "cell_type": "code",
   "execution_count": 18,
   "metadata": {
    "colab": {
     "base_uri": "https://localhost:8080/",
     "height": 299
    },
    "executionInfo": {
     "elapsed": 8,
     "status": "ok",
     "timestamp": 1639777478038,
     "user": {
      "displayName": "Mrunali Ghelani",
      "photoUrl": "https://lh3.googleusercontent.com/a-/AOh14GjIXk9MqqJDkKwFaLcC47jG7SgRsARhiVlw-D9atD8=s64",
      "userId": "13430289795696458228"
     },
     "user_tz": 480
    },
    "id": "eT4HygPWdvYA",
    "outputId": "897e3a5e-ee09-4c1b-f290-bf7bcba55900"
   },
   "outputs": [
    {
     "data": {
      "text/plain": [
       "Text(0.5, 1.0, 'Funding Amount Before Outlier Removal')"
      ]
     },
     "execution_count": 18,
     "metadata": {},
     "output_type": "execute_result"
    },
    {
     "data": {
      "image/png": "[encoded data removed]",
      "text/plain": [
       "<Figure size 432x288 with 1 Axes>"
      ]
     },
     "metadata": {
      "needs_background": "light"
     },
     "output_type": "display_data"
    }
   ],
   "source": [
    "startups['funding_total_usd'].plot.box()\n",
    "plt.title(\"Funding Amount Before Outlier Removal\")"
   ]
  },
  {
   "cell_type": "code",
   "execution_count": 19,
   "metadata": {
    "colab": {
     "base_uri": "https://localhost:8080/"
    },
    "executionInfo": {
     "elapsed": 6,
     "status": "ok",
     "timestamp": 1639777478039,
     "user": {
      "displayName": "Mrunali Ghelani",
      "photoUrl": "https://lh3.googleusercontent.com/a-/AOh14GjIXk9MqqJDkKwFaLcC47jG7SgRsARhiVlw-D9atD8=s64",
      "userId": "13430289795696458228"
     },
     "user_tz": 480
    },
    "id": "xqeiunb2dj34",
    "outputId": "3e9702c1-b05f-476f-af88-5d0048c74047"
   },
   "outputs": [
    {
     "data": {
      "text/plain": [
       "count    5.188400e+04\n",
       "mean     5.094850e+06\n",
       "std      4.157508e+07\n",
       "min      0.000000e+00\n",
       "25%      0.000000e+00\n",
       "50%      0.000000e+00\n",
       "75%      6.057375e+05\n",
       "max      5.700000e+09\n",
       "Name: funding_total_usd, dtype: float64"
      ]
     },
     "execution_count": 19,
     "metadata": {},
     "output_type": "execute_result"
    }
   ],
   "source": [
    "summary_stats = startups['funding_total_usd'].describe()\n",
    "summary_stats"
   ]
  },
  {
   "cell_type": "markdown",
   "metadata": {
    "id": "k_3k2ZgbSJYH"
   },
   "source": [
    "Outliers can be considered as values outside the (Q1 - 1.5 * IQR, Q3 + 1.5 * IQR) range, where IQR = (Q3−Q1)\n"
   ]
  },
  {
   "cell_type": "code",
   "execution_count": 20,
   "metadata": {
    "colab": {
     "base_uri": "https://localhost:8080/"
    },
    "executionInfo": {
     "elapsed": 5,
     "status": "ok",
     "timestamp": 1639777478039,
     "user": {
      "displayName": "Mrunali Ghelani",
      "photoUrl": "https://lh3.googleusercontent.com/a-/AOh14GjIXk9MqqJDkKwFaLcC47jG7SgRsARhiVlw-D9atD8=s64",
      "userId": "13430289795696458228"
     },
     "user_tz": 480
    },
    "id": "Q2C78KXrhZK3",
    "outputId": "b6b4d982-5905-4190-d2ea-9a2a0cd2bcbc"
   },
   "outputs": [
    {
     "name": "stdout",
     "output_type": "stream",
     "text": [
      "IQR =  605737.5\n",
      "Min val of range =  0.0\n",
      "Max val of range =  1514343.75\n"
     ]
    }
   ],
   "source": [
    "iqr = summary_stats['75%'] - summary_stats['25%']\n",
    "min_val = max(summary_stats['min'],(summary_stats['25%'] - (1.5 * iqr)))\n",
    "max_val = min(summary_stats['max'], (summary_stats['75%'] + (1.5 * iqr)))\n",
    "print(\"IQR = \",iqr)\n",
    "print(\"Min val of range = \",min_val)\n",
    "print(\"Max val of range = \",max_val)"
   ]
  },
  {
   "cell_type": "code",
   "execution_count": 21,
   "metadata": {
    "colab": {
     "base_uri": "https://localhost:8080/",
     "height": 299
    },
    "executionInfo": {
     "elapsed": 440,
     "status": "ok",
     "timestamp": 1639777478475,
     "user": {
      "displayName": "Mrunali Ghelani",
      "photoUrl": "https://lh3.googleusercontent.com/a-/AOh14GjIXk9MqqJDkKwFaLcC47jG7SgRsARhiVlw-D9atD8=s64",
      "userId": "13430289795696458228"
     },
     "user_tz": 480
    },
    "id": "aOgjXvIQPYr8",
    "outputId": "1e21f341-69d4-407a-bf5f-275230f37512"
   },
   "outputs": [
    {
     "data": {
      "text/plain": [
       "Text(0.5, 1.0, 'Funding Amount After Outlier Removal')"
      ]
     },
     "execution_count": 21,
     "metadata": {},
     "output_type": "execute_result"
    },
    {
     "data": {
      "image/png": "[encoded data removed]",
      "text/plain": [
       "<Figure size 432x288 with 1 Axes>"
      ]
     },
     "metadata": {
      "needs_background": "light"
     },
     "output_type": "display_data"
    }
   ],
   "source": [
    "startups['funding_total_usd'].plot.box()\n",
    "plt.title(\"Funding Amount After Outlier Removal\")"
   ]
  },
  {
   "cell_type": "markdown",
   "metadata": {
    "id": "zwptgEUqSZZ5"
   },
   "source": [
    "We have removed outliers, but the funding amounts are distributed over a wide range of values (0,1.5e6).\n",
    "\n",
    "We need to standardize this values to a (0,1) range to ensure strong model"
   ]
  },
  {
   "cell_type": "code",
   "execution_count": 22,
   "metadata": {
    "colab": {
     "base_uri": "https://localhost:8080/",
     "height": 346
    },
    "executionInfo": {
     "elapsed": 225,
     "status": "ok",
     "timestamp": 1639777478698,
     "user": {
      "displayName": "Mrunali Ghelani",
      "photoUrl": "https://lh3.googleusercontent.com/a-/AOh14GjIXk9MqqJDkKwFaLcC47jG7SgRsARhiVlw-D9atD8=s64",
      "userId": "13430289795696458228"
     },
     "user_tz": 480
    },
    "id": "ykT0vgVLhZHI",
    "outputId": "2e52b148-03e4-40a6-ed35-63fda5fc3f3f"
   },
   "outputs": [
    {
     "name": "stdout",
     "output_type": "stream",
     "text": [
      "(51884, 13)\n",
      "(41527, 13)\n"
     ]
    },
    {
     "data": {
      "text/plain": [
       "Text(0.5, 1.0, 'Funding Amount Before Standardization')"
      ]
     },
     "execution_count": 22,
     "metadata": {},
     "output_type": "execute_result"
    },
    {
     "data": {
      "image/png": "[encoded data removed]",
      "text/plain": [
       "<Figure size 432x288 with 1 Axes>"
      ]
     },
     "metadata": {
      "needs_background": "light"
     },
     "output_type": "display_data"
    }
   ],
   "source": [
    "print(startups.shape)\n",
    "startups = startups[startups['funding_total_usd']<=max_val]\n",
    "print(startups.shape)\n",
    "startups['funding_total_usd'].plot.hist()\n",
    "plt.title(\"Funding Amount Before Standardization\")"
   ]
  },
  {
   "cell_type": "code",
   "execution_count": 23,
   "metadata": {
    "colab": {
     "base_uri": "https://localhost:8080/"
    },
    "executionInfo": {
     "elapsed": 11,
     "status": "ok",
     "timestamp": 1639777478699,
     "user": {
      "displayName": "Mrunali Ghelani",
      "photoUrl": "https://lh3.googleusercontent.com/a-/AOh14GjIXk9MqqJDkKwFaLcC47jG7SgRsARhiVlw-D9atD8=s64",
      "userId": "13430289795696458228"
     },
     "user_tz": 480
    },
    "id": "1Nf2dYtmdvSd",
    "outputId": "32e13d20-804b-4e78-dee6-3cf61666a4be"
   },
   "outputs": [
    {
     "data": {
      "text/plain": [
       "count    4.152700e+04\n",
       "mean     9.173543e+04\n",
       "std      2.726417e+05\n",
       "min      0.000000e+00\n",
       "25%      0.000000e+00\n",
       "50%      0.000000e+00\n",
       "75%      0.000000e+00\n",
       "max      1.513946e+06\n",
       "Name: funding_total_usd, dtype: float64"
      ]
     },
     "execution_count": 23,
     "metadata": {},
     "output_type": "execute_result"
    }
   ],
   "source": [
    "startups['funding_total_usd'].describe()"
   ]
  },
  {
   "cell_type": "code",
   "execution_count": 24,
   "metadata": {
    "colab": {
     "base_uri": "https://localhost:8080/"
    },
    "executionInfo": {
     "elapsed": 7,
     "status": "ok",
     "timestamp": 1639777478699,
     "user": {
      "displayName": "Mrunali Ghelani",
      "photoUrl": "https://lh3.googleusercontent.com/a-/AOh14GjIXk9MqqJDkKwFaLcC47jG7SgRsARhiVlw-D9atD8=s64",
      "userId": "13430289795696458228"
     },
     "user_tz": 480
    },
    "id": "hYVzKYmNOrZ9",
    "outputId": "7ea1f49b-85e8-44f6-e760-421486c28c34"
   },
   "outputs": [
    {
     "data": {
      "text/plain": [
       "array([[0.        ],\n",
       "       [0.        ],\n",
       "       [0.        ],\n",
       "       ...,\n",
       "       [0.49539416],\n",
       "       [0.        ],\n",
       "       [0.31374963]])"
      ]
     },
     "execution_count": 24,
     "metadata": {},
     "output_type": "execute_result"
    }
   ],
   "source": [
    "scaler = MinMaxScaler()\n",
    "scaled_val = scaler.fit_transform(startups[['funding_total_usd']])\n",
    "scaled_val"
   ]
  },
  {
   "cell_type": "code",
   "execution_count": 25,
   "metadata": {
    "colab": {
     "base_uri": "https://localhost:8080/",
     "height": 305
    },
    "executionInfo": {
     "elapsed": 6,
     "status": "ok",
     "timestamp": 1639777478699,
     "user": {
      "displayName": "Mrunali Ghelani",
      "photoUrl": "https://lh3.googleusercontent.com/a-/AOh14GjIXk9MqqJDkKwFaLcC47jG7SgRsARhiVlw-D9atD8=s64",
      "userId": "13430289795696458228"
     },
     "user_tz": 480
    },
    "id": "OaixIQu3rzTU",
    "outputId": "e5247e87-153e-4964-d9a6-f819c98826b9"
   },
   "outputs": [
    {
     "data": {
      "text/html": [
       "<div>\n",
       "<style scoped>\n",
       "    .dataframe tbody tr th:only-of-type {\n",
       "        vertical-align: middle;\n",
       "    }\n",
       "\n",
       "    .dataframe tbody tr th {\n",
       "        vertical-align: top;\n",
       "    }\n",
       "\n",
       "    .dataframe thead th {\n",
       "        text-align: right;\n",
       "    }\n",
       "</style>\n",
       "<table border=\"1\" class=\"dataframe\">\n",
       "  <thead>\n",
       "    <tr style=\"text-align: right;\">\n",
       "      <th></th>\n",
       "      <th>id</th>\n",
       "      <th>category_code</th>\n",
       "      <th>status</th>\n",
       "      <th>country_code</th>\n",
       "      <th>city</th>\n",
       "      <th>region</th>\n",
       "      <th>funding_rounds</th>\n",
       "      <th>funding_total_usd</th>\n",
       "      <th>founded_at</th>\n",
       "      <th>founded_year</th>\n",
       "      <th>founded_month</th>\n",
       "      <th>founded_month_year</th>\n",
       "      <th>acquired</th>\n",
       "    </tr>\n",
       "  </thead>\n",
       "  <tbody>\n",
       "    <tr>\n",
       "      <th>1</th>\n",
       "      <td>c:10</td>\n",
       "      <td>games_video</td>\n",
       "      <td>acquired</td>\n",
       "      <td>USA</td>\n",
       "      <td>Culver City</td>\n",
       "      <td>Los Angeles</td>\n",
       "      <td>0</td>\n",
       "      <td>0.0</td>\n",
       "      <td>2006-05-01</td>\n",
       "      <td>2006.0</td>\n",
       "      <td>5.0</td>\n",
       "      <td>2006-05</td>\n",
       "      <td>1</td>\n",
       "    </tr>\n",
       "    <tr>\n",
       "      <th>5</th>\n",
       "      <td>c:10002</td>\n",
       "      <td>advertising</td>\n",
       "      <td>operating</td>\n",
       "      <td>MAR</td>\n",
       "      <td>Agadir</td>\n",
       "      <td>Agadir</td>\n",
       "      <td>0</td>\n",
       "      <td>0.0</td>\n",
       "      <td>2007-06-27</td>\n",
       "      <td>2007.0</td>\n",
       "      <td>6.0</td>\n",
       "      <td>2007-06</td>\n",
       "      <td>0</td>\n",
       "    </tr>\n",
       "    <tr>\n",
       "      <th>6</th>\n",
       "      <td>c:10003</td>\n",
       "      <td>cleantech</td>\n",
       "      <td>operating</td>\n",
       "      <td>IND</td>\n",
       "      <td>Vadodara</td>\n",
       "      <td>Vadodara</td>\n",
       "      <td>0</td>\n",
       "      <td>0.0</td>\n",
       "      <td>2008-08-20</td>\n",
       "      <td>2008.0</td>\n",
       "      <td>8.0</td>\n",
       "      <td>2008-08</td>\n",
       "      <td>0</td>\n",
       "    </tr>\n",
       "    <tr>\n",
       "      <th>12</th>\n",
       "      <td>c:10009</td>\n",
       "      <td>advertising</td>\n",
       "      <td>operating</td>\n",
       "      <td>USA</td>\n",
       "      <td>Santa Fe</td>\n",
       "      <td>Santa Fe</td>\n",
       "      <td>0</td>\n",
       "      <td>0.0</td>\n",
       "      <td>2008-08-01</td>\n",
       "      <td>2008.0</td>\n",
       "      <td>8.0</td>\n",
       "      <td>2008-08</td>\n",
       "      <td>0</td>\n",
       "    </tr>\n",
       "    <tr>\n",
       "      <th>15</th>\n",
       "      <td>c:10011</td>\n",
       "      <td>games_video</td>\n",
       "      <td>operating</td>\n",
       "      <td>USA</td>\n",
       "      <td>Julian</td>\n",
       "      <td>San Diego</td>\n",
       "      <td>0</td>\n",
       "      <td>0.0</td>\n",
       "      <td>2008-01-01</td>\n",
       "      <td>2008.0</td>\n",
       "      <td>1.0</td>\n",
       "      <td>2008-01</td>\n",
       "      <td>0</td>\n",
       "    </tr>\n",
       "  </tbody>\n",
       "</table>\n",
       "</div>"
      ],
      "text/plain": [
       "         id category_code     status country_code         city       region  \\\n",
       "1      c:10   games_video   acquired          USA  Culver City  Los Angeles   \n",
       "5   c:10002   advertising  operating          MAR       Agadir       Agadir   \n",
       "6   c:10003     cleantech  operating          IND     Vadodara     Vadodara   \n",
       "12  c:10009   advertising  operating          USA     Santa Fe     Santa Fe   \n",
       "15  c:10011   games_video  operating          USA       Julian    San Diego   \n",
       "\n",
       "    funding_rounds  funding_total_usd  founded_at  founded_year  \\\n",
       "1                0                0.0  2006-05-01        2006.0   \n",
       "5                0                0.0  2007-06-27        2007.0   \n",
       "6                0                0.0  2008-08-20        2008.0   \n",
       "12               0                0.0  2008-08-01        2008.0   \n",
       "15               0                0.0  2008-01-01        2008.0   \n",
       "\n",
       "    founded_month founded_month_year  acquired  \n",
       "1             5.0            2006-05         1  \n",
       "5             6.0            2007-06         0  \n",
       "6             8.0            2008-08         0  \n",
       "12            8.0            2008-08         0  \n",
       "15            1.0            2008-01         0  "
      ]
     },
     "execution_count": 25,
     "metadata": {},
     "output_type": "execute_result"
    }
   ],
   "source": [
    "startups['funding_total_usd'] = scaled_val\n",
    "startups.head()"
   ]
  },
  {
   "cell_type": "code",
   "execution_count": 26,
   "metadata": {
    "colab": {
     "base_uri": "https://localhost:8080/"
    },
    "executionInfo": {
     "elapsed": 5,
     "status": "ok",
     "timestamp": 1639777478699,
     "user": {
      "displayName": "Mrunali Ghelani",
      "photoUrl": "https://lh3.googleusercontent.com/a-/AOh14GjIXk9MqqJDkKwFaLcC47jG7SgRsARhiVlw-D9atD8=s64",
      "userId": "13430289795696458228"
     },
     "user_tz": 480
    },
    "id": "nfnSllIHrzQn",
    "outputId": "9c3ab80e-8445-458a-cc73-eff35a2ae333"
   },
   "outputs": [
    {
     "data": {
      "text/plain": [
       "count    41527.000000\n",
       "mean         0.060594\n",
       "std          0.180087\n",
       "min          0.000000\n",
       "25%          0.000000\n",
       "50%          0.000000\n",
       "75%          0.000000\n",
       "max          1.000000\n",
       "Name: funding_total_usd, dtype: float64"
      ]
     },
     "execution_count": 26,
     "metadata": {},
     "output_type": "execute_result"
    }
   ],
   "source": [
    "startups['funding_total_usd'].describe()"
   ]
  },
  {
   "cell_type": "code",
   "execution_count": 27,
   "metadata": {
    "colab": {
     "base_uri": "https://localhost:8080/",
     "height": 298
    },
    "executionInfo": {
     "elapsed": 500,
     "status": "ok",
     "timestamp": 1639777479195,
     "user": {
      "displayName": "Mrunali Ghelani",
      "photoUrl": "https://lh3.googleusercontent.com/a-/AOh14GjIXk9MqqJDkKwFaLcC47jG7SgRsARhiVlw-D9atD8=s64",
      "userId": "13430289795696458228"
     },
     "user_tz": 480
    },
    "id": "A5kZficrqgQh",
    "outputId": "5c626b19-ca20-4485-8b39-32b7706a6c44"
   },
   "outputs": [
    {
     "data": {
      "text/plain": [
       "Text(0.5, 1.0, 'Funding Amount After Standardization')"
      ]
     },
     "execution_count": 27,
     "metadata": {},
     "output_type": "execute_result"
    },
    {
     "data": {
      "image/png": "[encoded data removed]",
      "text/plain": [
       "<Figure size 432x288 with 1 Axes>"
      ]
     },
     "metadata": {
      "needs_background": "light"
     },
     "output_type": "display_data"
    }
   ],
   "source": [
    "startups['funding_total_usd'].plot.hist()\n",
    "plt.title(\"Funding Amount After Standardization\")"
   ]
  },
  {
   "cell_type": "markdown",
   "metadata": {
    "id": "FuYOYx87veBz"
   },
   "source": [
    "Analyzing correlation between numerical columns"
   ]
  },
  {
   "cell_type": "code",
   "execution_count": 28,
   "metadata": {
    "colab": {
     "base_uri": "https://localhost:8080/",
     "height": 206
    },
    "executionInfo": {
     "elapsed": 8,
     "status": "ok",
     "timestamp": 1639777479196,
     "user": {
      "displayName": "Mrunali Ghelani",
      "photoUrl": "https://lh3.googleusercontent.com/a-/AOh14GjIXk9MqqJDkKwFaLcC47jG7SgRsARhiVlw-D9atD8=s64",
      "userId": "13430289795696458228"
     },
     "user_tz": 480
    },
    "id": "R8Yc06Q9yK01",
    "outputId": "dcf3950c-230d-46f2-df56-a27d1b8e757c"
   },
   "outputs": [
    {
     "data": {
      "text/html": [
       "<div>\n",
       "<style scoped>\n",
       "    .dataframe tbody tr th:only-of-type {\n",
       "        vertical-align: middle;\n",
       "    }\n",
       "\n",
       "    .dataframe tbody tr th {\n",
       "        vertical-align: top;\n",
       "    }\n",
       "\n",
       "    .dataframe thead th {\n",
       "        text-align: right;\n",
       "    }\n",
       "</style>\n",
       "<table border=\"1\" class=\"dataframe\">\n",
       "  <thead>\n",
       "    <tr style=\"text-align: right;\">\n",
       "      <th></th>\n",
       "      <th>funding_rounds</th>\n",
       "      <th>funding_total_usd</th>\n",
       "      <th>founded_year</th>\n",
       "      <th>founded_month</th>\n",
       "      <th>acquired</th>\n",
       "    </tr>\n",
       "  </thead>\n",
       "  <tbody>\n",
       "    <tr>\n",
       "      <th>funding_rounds</th>\n",
       "      <td>1.000000</td>\n",
       "      <td>0.679750</td>\n",
       "      <td>0.134535</td>\n",
       "      <td>-0.027023</td>\n",
       "      <td>0.013374</td>\n",
       "    </tr>\n",
       "    <tr>\n",
       "      <th>funding_total_usd</th>\n",
       "      <td>0.679750</td>\n",
       "      <td>1.000000</td>\n",
       "      <td>0.070802</td>\n",
       "      <td>-0.064987</td>\n",
       "      <td>0.027589</td>\n",
       "    </tr>\n",
       "    <tr>\n",
       "      <th>founded_year</th>\n",
       "      <td>0.134535</td>\n",
       "      <td>0.070802</td>\n",
       "      <td>1.000000</td>\n",
       "      <td>0.122215</td>\n",
       "      <td>-0.143963</td>\n",
       "    </tr>\n",
       "    <tr>\n",
       "      <th>founded_month</th>\n",
       "      <td>-0.027023</td>\n",
       "      <td>-0.064987</td>\n",
       "      <td>0.122215</td>\n",
       "      <td>1.000000</td>\n",
       "      <td>-0.050362</td>\n",
       "    </tr>\n",
       "    <tr>\n",
       "      <th>acquired</th>\n",
       "      <td>0.013374</td>\n",
       "      <td>0.027589</td>\n",
       "      <td>-0.143963</td>\n",
       "      <td>-0.050362</td>\n",
       "      <td>1.000000</td>\n",
       "    </tr>\n",
       "  </tbody>\n",
       "</table>\n",
       "</div>"
      ],
      "text/plain": [
       "                   funding_rounds  funding_total_usd  founded_year  \\\n",
       "funding_rounds           1.000000           0.679750      0.134535   \n",
       "funding_total_usd        0.679750           1.000000      0.070802   \n",
       "founded_year             0.134535           0.070802      1.000000   \n",
       "founded_month           -0.027023          -0.064987      0.122215   \n",
       "acquired                 0.013374           0.027589     -0.143963   \n",
       "\n",
       "                   founded_month  acquired  \n",
       "funding_rounds         -0.027023  0.013374  \n",
       "funding_total_usd      -0.064987  0.027589  \n",
       "founded_year            0.122215 -0.143963  \n",
       "founded_month           1.000000 -0.050362  \n",
       "acquired               -0.050362  1.000000  "
      ]
     },
     "execution_count": 28,
     "metadata": {},
     "output_type": "execute_result"
    }
   ],
   "source": [
    "s_corr = startups.corr()\n",
    "s_corr"
   ]
  },
  {
   "cell_type": "code",
   "execution_count": 29,
   "metadata": {
    "colab": {
     "base_uri": "https://localhost:8080/",
     "height": 360
    },
    "executionInfo": {
     "elapsed": 8,
     "status": "ok",
     "timestamp": 1639777479197,
     "user": {
      "displayName": "Mrunali Ghelani",
      "photoUrl": "https://lh3.googleusercontent.com/a-/AOh14GjIXk9MqqJDkKwFaLcC47jG7SgRsARhiVlw-D9atD8=s64",
      "userId": "13430289795696458228"
     },
     "user_tz": 480
    },
    "id": "0HaDhxnHyojY",
    "outputId": "3ff8b677-29c6-485c-d765-b45cad00a308"
   },
   "outputs": [
    {
     "data": {
      "image/png": "[encoded data removed]",
      "text/plain": [
       "<Figure size 432x288 with 2 Axes>"
      ]
     },
     "metadata": {
      "needs_background": "light"
     },
     "output_type": "display_data"
    }
   ],
   "source": [
    "sns.heatmap(s_corr)\n",
    "plt.title(\"Correlation Matrix\")\n",
    "plt.show()"
   ]
  },
  {
   "cell_type": "code",
   "execution_count": 30,
   "metadata": {
    "colab": {
     "base_uri": "https://localhost:8080/",
     "height": 206
    },
    "executionInfo": {
     "elapsed": 279,
     "status": "ok",
     "timestamp": 1639777479468,
     "user": {
      "displayName": "Mrunali Ghelani",
      "photoUrl": "https://lh3.googleusercontent.com/a-/AOh14GjIXk9MqqJDkKwFaLcC47jG7SgRsARhiVlw-D9atD8=s64",
      "userId": "13430289795696458228"
     },
     "user_tz": 480
    },
    "id": "k7kjq9p-jCKD",
    "outputId": "54303a56-235f-4995-a762-32793b12d78d"
   },
   "outputs": [
    {
     "data": {
      "text/html": [
       "<div>\n",
       "<style scoped>\n",
       "    .dataframe tbody tr th:only-of-type {\n",
       "        vertical-align: middle;\n",
       "    }\n",
       "\n",
       "    .dataframe tbody tr th {\n",
       "        vertical-align: top;\n",
       "    }\n",
       "\n",
       "    .dataframe thead th {\n",
       "        text-align: right;\n",
       "    }\n",
       "</style>\n",
       "<table border=\"1\" class=\"dataframe\">\n",
       "  <thead>\n",
       "    <tr style=\"text-align: right;\">\n",
       "      <th></th>\n",
       "      <th>category_code</th>\n",
       "      <th>country_code</th>\n",
       "      <th>city</th>\n",
       "      <th>region</th>\n",
       "      <th>funding_rounds</th>\n",
       "      <th>funding_total_usd</th>\n",
       "      <th>founded_year</th>\n",
       "      <th>founded_month</th>\n",
       "      <th>acquired</th>\n",
       "    </tr>\n",
       "  </thead>\n",
       "  <tbody>\n",
       "    <tr>\n",
       "      <th>0</th>\n",
       "      <td>games_video</td>\n",
       "      <td>USA</td>\n",
       "      <td>Culver City</td>\n",
       "      <td>Los Angeles</td>\n",
       "      <td>0</td>\n",
       "      <td>0.0</td>\n",
       "      <td>2006</td>\n",
       "      <td>5</td>\n",
       "      <td>1</td>\n",
       "    </tr>\n",
       "    <tr>\n",
       "      <th>1</th>\n",
       "      <td>advertising</td>\n",
       "      <td>MAR</td>\n",
       "      <td>Agadir</td>\n",
       "      <td>Agadir</td>\n",
       "      <td>0</td>\n",
       "      <td>0.0</td>\n",
       "      <td>2007</td>\n",
       "      <td>6</td>\n",
       "      <td>0</td>\n",
       "    </tr>\n",
       "    <tr>\n",
       "      <th>2</th>\n",
       "      <td>cleantech</td>\n",
       "      <td>IND</td>\n",
       "      <td>Vadodara</td>\n",
       "      <td>Vadodara</td>\n",
       "      <td>0</td>\n",
       "      <td>0.0</td>\n",
       "      <td>2008</td>\n",
       "      <td>8</td>\n",
       "      <td>0</td>\n",
       "    </tr>\n",
       "    <tr>\n",
       "      <th>3</th>\n",
       "      <td>advertising</td>\n",
       "      <td>USA</td>\n",
       "      <td>Santa Fe</td>\n",
       "      <td>Santa Fe</td>\n",
       "      <td>0</td>\n",
       "      <td>0.0</td>\n",
       "      <td>2008</td>\n",
       "      <td>8</td>\n",
       "      <td>0</td>\n",
       "    </tr>\n",
       "    <tr>\n",
       "      <th>4</th>\n",
       "      <td>games_video</td>\n",
       "      <td>USA</td>\n",
       "      <td>Julian</td>\n",
       "      <td>San Diego</td>\n",
       "      <td>0</td>\n",
       "      <td>0.0</td>\n",
       "      <td>2008</td>\n",
       "      <td>1</td>\n",
       "      <td>0</td>\n",
       "    </tr>\n",
       "  </tbody>\n",
       "</table>\n",
       "</div>"
      ],
      "text/plain": [
       "  category_code country_code         city       region  funding_rounds  \\\n",
       "0   games_video          USA  Culver City  Los Angeles               0   \n",
       "1   advertising          MAR       Agadir       Agadir               0   \n",
       "2     cleantech          IND     Vadodara     Vadodara               0   \n",
       "3   advertising          USA     Santa Fe     Santa Fe               0   \n",
       "4   games_video          USA       Julian    San Diego               0   \n",
       "\n",
       "   funding_total_usd founded_year founded_month  acquired  \n",
       "0                0.0         2006             5         1  \n",
       "1                0.0         2007             6         0  \n",
       "2                0.0         2008             8         0  \n",
       "3                0.0         2008             8         0  \n",
       "4                0.0         2008             1         0  "
      ]
     },
     "execution_count": 30,
     "metadata": {},
     "output_type": "execute_result"
    }
   ],
   "source": [
    "# Create final cleaned dataframe\n",
    "\n",
    "startups_2 = startups.drop(columns=['id', 'status', 'founded_month_year', 'founded_at'])\n",
    "startups_2['founded_year'] = startups_2['founded_year'].astype(int).astype(str)\n",
    "startups_2['founded_month'] = startups_2['founded_month'].astype(int).astype(str)\n",
    "startups_2.reset_index(inplace=True, drop=True)\n",
    "startups_2.head()"
   ]
  },
  {
   "cell_type": "markdown",
   "metadata": {
    "id": "hML_jG-OpGsC"
   },
   "source": [
    "#### Feature Engineering and Train-Test Data Split"
   ]
  },
  {
   "cell_type": "markdown",
   "metadata": {
    "id": "VZEnNK78UBci"
   },
   "source": [
    "Balancing Data"
   ]
  },
  {
   "cell_type": "code",
   "execution_count": 31,
   "metadata": {
    "executionInfo": {
     "elapsed": 9,
     "status": "ok",
     "timestamp": 1639777479468,
     "user": {
      "displayName": "Mrunali Ghelani",
      "photoUrl": "https://lh3.googleusercontent.com/a-/AOh14GjIXk9MqqJDkKwFaLcC47jG7SgRsARhiVlw-D9atD8=s64",
      "userId": "13430289795696458228"
     },
     "user_tz": 480
    },
    "id": "lgTVIG8QjFe_"
   },
   "outputs": [],
   "source": [
    "X = startups_2[['category_code', 'funding_rounds','country_code','city', 'region',\n",
    "              'funding_total_usd', 'founded_year', 'founded_month']]\n",
    "y = startups_2['acquired']"
   ]
  },
  {
   "cell_type": "code",
   "execution_count": 32,
   "metadata": {
    "colab": {
     "base_uri": "https://localhost:8080/"
    },
    "executionInfo": {
     "elapsed": 9,
     "status": "ok",
     "timestamp": 1639777479468,
     "user": {
      "displayName": "Mrunali Ghelani",
      "photoUrl": "https://lh3.googleusercontent.com/a-/AOh14GjIXk9MqqJDkKwFaLcC47jG7SgRsARhiVlw-D9atD8=s64",
      "userId": "13430289795696458228"
     },
     "user_tz": 480
    },
    "id": "V2xyjTY7fOMx",
    "outputId": "f9cc3d2f-6d3b-41d7-ace0-e4795ef78c02"
   },
   "outputs": [
    {
     "name": "stdout",
     "output_type": "stream",
     "text": [
      "[(0, 1492), (1, 1492)]\n",
      "  category_code  funding_rounds country_code       city     region  \\\n",
      "0      software               0          GBR     London     London   \n",
      "1     ecommerce               0          USA   New York   New York   \n",
      "2      software               0          GBR      Essex      Essex   \n",
      "3         other               0          IND  Bangalore  Bangalore   \n",
      "4   games_video               0          USA    Oakland     SF Bay   \n",
      "\n",
      "   funding_total_usd founded_year founded_month  \n",
      "0                0.0         2013             2  \n",
      "1                0.0         2007            12  \n",
      "2                0.0         2009            10  \n",
      "3                0.0         2009             5  \n",
      "4                0.0         2004             1  \n",
      "0    0\n",
      "1    0\n",
      "2    0\n",
      "3    0\n",
      "4    0\n",
      "Name: acquired, dtype: int64\n"
     ]
    }
   ],
   "source": [
    "rus = RandomUnderSampler(random_state=0)\n",
    "X_resampled, y_resampled = rus.fit_resample(X, y)\n",
    "print(sorted(Counter(y_resampled).items()))\n",
    "print(X_resampled.head())\n",
    "print(y_resampled.head())"
   ]
  },
  {
   "cell_type": "markdown",
   "metadata": {
    "id": "ScfZqGljyQMt"
   },
   "source": [
    "Converting categorical data into binary encoded data"
   ]
  },
  {
   "cell_type": "markdown",
   "metadata": {
    "id": "CkPaYPjh10Hh"
   },
   "source": [
    "Reference Link for Encoding Method Details is below:\n",
    "\n",
    "* https://towardsdatascience.com/smarter-ways-to-encode-categorical-data-for-machine-learning-part-1-of-3-6dca2f71b159\n"
   ]
  },
  {
   "cell_type": "code",
   "execution_count": 33,
   "metadata": {
    "colab": {
     "base_uri": "https://localhost:8080/"
    },
    "executionInfo": {
     "elapsed": 4,
     "status": "ok",
     "timestamp": 1639777479468,
     "user": {
      "displayName": "Mrunali Ghelani",
      "photoUrl": "https://lh3.googleusercontent.com/a-/AOh14GjIXk9MqqJDkKwFaLcC47jG7SgRsARhiVlw-D9atD8=s64",
      "userId": "13430289795696458228"
     },
     "user_tz": 480
    },
    "id": "aNVdOcIBeLyk",
    "outputId": "3bfa165b-c237-4edc-e83f-f96e0c468021"
   },
   "outputs": [
    {
     "name": "stdout",
     "output_type": "stream",
     "text": [
      "Column  category_code  has  42 distinct values\n",
      "Column  funding_rounds  has  11 distinct values\n",
      "Column  country_code  has  155 distinct values\n",
      "Column  city  has  6790 distinct values\n",
      "Column  region  has  3834 distinct values\n",
      "Column  funding_total_usd  has  2124 distinct values\n",
      "Column  founded_year  has  15 distinct values\n",
      "Column  founded_month  has  12 distinct values\n"
     ]
    }
   ],
   "source": [
    "for i in X_resampled.columns:\n",
    "    print(\"Column \", i, \" has \", len(startups_2[i].value_counts()), \"distinct values\")"
   ]
  },
  {
   "cell_type": "code",
   "execution_count": 34,
   "metadata": {
    "colab": {
     "base_uri": "https://localhost:8080/"
    },
    "executionInfo": {
     "elapsed": 3,
     "status": "ok",
     "timestamp": 1639777479468,
     "user": {
      "displayName": "Mrunali Ghelani",
      "photoUrl": "https://lh3.googleusercontent.com/a-/AOh14GjIXk9MqqJDkKwFaLcC47jG7SgRsARhiVlw-D9atD8=s64",
      "userId": "13430289795696458228"
     },
     "user_tz": 480
    },
    "id": "aN_LTX5te8hl",
    "outputId": "78a7f1da-e4cb-4dc7-e98a-bd32a568c130"
   },
   "outputs": [
    {
     "name": "stdout",
     "output_type": "stream",
     "text": [
      "(2984, 8)\n"
     ]
    }
   ],
   "source": [
    "print(X_resampled.shape)"
   ]
  },
  {
   "cell_type": "code",
   "execution_count": 35,
   "metadata": {
    "colab": {
     "base_uri": "https://localhost:8080/",
     "height": 548
    },
    "executionInfo": {
     "elapsed": 31735,
     "status": "ok",
     "timestamp": 1639777511201,
     "user": {
      "displayName": "Mrunali Ghelani",
      "photoUrl": "https://lh3.googleusercontent.com/a-/AOh14GjIXk9MqqJDkKwFaLcC47jG7SgRsARhiVlw-D9atD8=s64",
      "userId": "13430289795696458228"
     },
     "user_tz": 480
    },
    "id": "cozGjCHKyjHI",
    "outputId": "28a798fa-dd7c-48f3-d90e-e824c13989fa"
   },
   "outputs": [
    {
     "name": "stdout",
     "output_type": "stream",
     "text": [
      "(2984, 46)\n",
      "Index(['category_code_col_0', 'category_code_col_1', 'category_code_col_2',\n",
      "       'category_code_col_3', 'category_code_col_4', 'category_code_col_5',\n",
      "       'category_code_col_6', 'category_code_col_7', 'country_code_col_0',\n",
      "       'country_code_col_1', 'country_code_col_2', 'country_code_col_3',\n",
      "       'country_code_col_4', 'country_code_col_5', 'country_code_col_6',\n",
      "       'country_code_col_7', 'city_col_0', 'city_col_1', 'city_col_2',\n",
      "       'city_col_3', 'city_col_4', 'city_col_5', 'city_col_6', 'city_col_7',\n",
      "       'region_col_0', 'region_col_1', 'region_col_2', 'region_col_3',\n",
      "       'region_col_4', 'region_col_5', 'region_col_6', 'region_col_7',\n",
      "       'founded_year_col_0', 'founded_year_col_1', 'founded_year_col_2',\n",
      "       'founded_year_col_3', 'founded_year_col_4', 'founded_year_col_5',\n",
      "       'founded_year_col_6', 'founded_year_col_7', 'founded_month_col_0',\n",
      "       'founded_month_col_2', 'founded_month_col_3', 'founded_month_col_4',\n",
      "       'founded_month_col_5', 'founded_month_col_6'],\n",
      "      dtype='object')\n"
     ]
    },
    {
     "data": {
      "text/html": [
       "<div>\n",
       "<style scoped>\n",
       "    .dataframe tbody tr th:only-of-type {\n",
       "        vertical-align: middle;\n",
       "    }\n",
       "\n",
       "    .dataframe tbody tr th {\n",
       "        vertical-align: top;\n",
       "    }\n",
       "\n",
       "    .dataframe thead th {\n",
       "        text-align: right;\n",
       "    }\n",
       "</style>\n",
       "<table border=\"1\" class=\"dataframe\">\n",
       "  <thead>\n",
       "    <tr style=\"text-align: right;\">\n",
       "      <th></th>\n",
       "      <th>category_code_col_0</th>\n",
       "      <th>category_code_col_1</th>\n",
       "      <th>category_code_col_2</th>\n",
       "      <th>category_code_col_3</th>\n",
       "      <th>category_code_col_4</th>\n",
       "      <th>category_code_col_5</th>\n",
       "      <th>category_code_col_6</th>\n",
       "      <th>category_code_col_7</th>\n",
       "      <th>country_code_col_0</th>\n",
       "      <th>country_code_col_1</th>\n",
       "      <th>...</th>\n",
       "      <th>founded_year_col_4</th>\n",
       "      <th>founded_year_col_5</th>\n",
       "      <th>founded_year_col_6</th>\n",
       "      <th>founded_year_col_7</th>\n",
       "      <th>founded_month_col_0</th>\n",
       "      <th>founded_month_col_2</th>\n",
       "      <th>founded_month_col_3</th>\n",
       "      <th>founded_month_col_4</th>\n",
       "      <th>founded_month_col_5</th>\n",
       "      <th>founded_month_col_6</th>\n",
       "    </tr>\n",
       "  </thead>\n",
       "  <tbody>\n",
       "    <tr>\n",
       "      <th>0</th>\n",
       "      <td>0</td>\n",
       "      <td>1</td>\n",
       "      <td>0</td>\n",
       "      <td>0</td>\n",
       "      <td>0</td>\n",
       "      <td>0</td>\n",
       "      <td>0</td>\n",
       "      <td>0</td>\n",
       "      <td>0</td>\n",
       "      <td>0</td>\n",
       "      <td>...</td>\n",
       "      <td>0</td>\n",
       "      <td>0</td>\n",
       "      <td>0</td>\n",
       "      <td>0</td>\n",
       "      <td>0</td>\n",
       "      <td>0</td>\n",
       "      <td>0</td>\n",
       "      <td>1</td>\n",
       "      <td>0</td>\n",
       "      <td>0</td>\n",
       "    </tr>\n",
       "    <tr>\n",
       "      <th>1</th>\n",
       "      <td>0</td>\n",
       "      <td>0</td>\n",
       "      <td>0</td>\n",
       "      <td>0</td>\n",
       "      <td>1</td>\n",
       "      <td>0</td>\n",
       "      <td>0</td>\n",
       "      <td>0</td>\n",
       "      <td>0</td>\n",
       "      <td>0</td>\n",
       "      <td>...</td>\n",
       "      <td>1</td>\n",
       "      <td>0</td>\n",
       "      <td>0</td>\n",
       "      <td>0</td>\n",
       "      <td>1</td>\n",
       "      <td>0</td>\n",
       "      <td>0</td>\n",
       "      <td>0</td>\n",
       "      <td>0</td>\n",
       "      <td>0</td>\n",
       "    </tr>\n",
       "    <tr>\n",
       "      <th>2</th>\n",
       "      <td>0</td>\n",
       "      <td>1</td>\n",
       "      <td>0</td>\n",
       "      <td>0</td>\n",
       "      <td>0</td>\n",
       "      <td>0</td>\n",
       "      <td>0</td>\n",
       "      <td>0</td>\n",
       "      <td>0</td>\n",
       "      <td>0</td>\n",
       "      <td>...</td>\n",
       "      <td>0</td>\n",
       "      <td>0</td>\n",
       "      <td>0</td>\n",
       "      <td>0</td>\n",
       "      <td>1</td>\n",
       "      <td>0</td>\n",
       "      <td>0</td>\n",
       "      <td>0</td>\n",
       "      <td>0</td>\n",
       "      <td>0</td>\n",
       "    </tr>\n",
       "    <tr>\n",
       "      <th>3</th>\n",
       "      <td>0</td>\n",
       "      <td>0</td>\n",
       "      <td>0</td>\n",
       "      <td>0</td>\n",
       "      <td>0</td>\n",
       "      <td>0</td>\n",
       "      <td>0</td>\n",
       "      <td>1</td>\n",
       "      <td>0</td>\n",
       "      <td>0</td>\n",
       "      <td>...</td>\n",
       "      <td>0</td>\n",
       "      <td>0</td>\n",
       "      <td>0</td>\n",
       "      <td>0</td>\n",
       "      <td>0</td>\n",
       "      <td>0</td>\n",
       "      <td>0</td>\n",
       "      <td>0</td>\n",
       "      <td>1</td>\n",
       "      <td>0</td>\n",
       "    </tr>\n",
       "    <tr>\n",
       "      <th>4</th>\n",
       "      <td>0</td>\n",
       "      <td>0</td>\n",
       "      <td>0</td>\n",
       "      <td>0</td>\n",
       "      <td>0</td>\n",
       "      <td>0</td>\n",
       "      <td>0</td>\n",
       "      <td>1</td>\n",
       "      <td>0</td>\n",
       "      <td>0</td>\n",
       "      <td>...</td>\n",
       "      <td>0</td>\n",
       "      <td>0</td>\n",
       "      <td>0</td>\n",
       "      <td>1</td>\n",
       "      <td>0</td>\n",
       "      <td>0</td>\n",
       "      <td>1</td>\n",
       "      <td>0</td>\n",
       "      <td>0</td>\n",
       "      <td>0</td>\n",
       "    </tr>\n",
       "  </tbody>\n",
       "</table>\n",
       "<p>5 rows × 46 columns</p>\n",
       "</div>"
      ],
      "text/plain": [
       "   category_code_col_0  category_code_col_1  category_code_col_2  \\\n",
       "0                    0                    1                    0   \n",
       "1                    0                    0                    0   \n",
       "2                    0                    1                    0   \n",
       "3                    0                    0                    0   \n",
       "4                    0                    0                    0   \n",
       "\n",
       "   category_code_col_3  category_code_col_4  category_code_col_5  \\\n",
       "0                    0                    0                    0   \n",
       "1                    0                    1                    0   \n",
       "2                    0                    0                    0   \n",
       "3                    0                    0                    0   \n",
       "4                    0                    0                    0   \n",
       "\n",
       "   category_code_col_6  category_code_col_7  country_code_col_0  \\\n",
       "0                    0                    0                   0   \n",
       "1                    0                    0                   0   \n",
       "2                    0                    0                   0   \n",
       "3                    0                    1                   0   \n",
       "4                    0                    1                   0   \n",
       "\n",
       "   country_code_col_1  ...  founded_year_col_4  founded_year_col_5  \\\n",
       "0                   0  ...                   0                   0   \n",
       "1                   0  ...                   1                   0   \n",
       "2                   0  ...                   0                   0   \n",
       "3                   0  ...                   0                   0   \n",
       "4                   0  ...                   0                   0   \n",
       "\n",
       "   founded_year_col_6  founded_year_col_7  founded_month_col_0  \\\n",
       "0                   0                   0                    0   \n",
       "1                   0                   0                    1   \n",
       "2                   0                   0                    1   \n",
       "3                   0                   0                    0   \n",
       "4                   0                   1                    0   \n",
       "\n",
       "   founded_month_col_2  founded_month_col_3  founded_month_col_4  \\\n",
       "0                    0                    0                    1   \n",
       "1                    0                    0                    0   \n",
       "2                    0                    0                    0   \n",
       "3                    0                    0                    0   \n",
       "4                    0                    1                    0   \n",
       "\n",
       "   founded_month_col_5  founded_month_col_6  \n",
       "0                    0                    0  \n",
       "1                    0                    0  \n",
       "2                    0                    0  \n",
       "3                    1                    0  \n",
       "4                    0                    0  \n",
       "\n",
       "[5 rows x 46 columns]"
      ]
     },
     "execution_count": 35,
     "metadata": {},
     "output_type": "execute_result"
    }
   ],
   "source": [
    "column_list = ['category_code', 'country_code', 'city', 'region', 'founded_year', 'founded_month']\n",
    "\n",
    "encoded_df = pd.DataFrame()\n",
    "\n",
    "for i in column_list:\n",
    "    he = ce.HashingEncoder(n_components=8, drop_invariant=True, return_df=True)\n",
    "    df = he.fit_transform(X_resampled[i], y_resampled) \n",
    "    df = df.add_prefix(i + \"_\")\n",
    "    encoded_df = pd.concat([encoded_df, df], axis=1)\n",
    "    \n",
    "print(encoded_df.shape)\n",
    "print(encoded_df.columns)\n",
    "encoded_df.head()"
   ]
  },
  {
   "cell_type": "code",
   "execution_count": 36,
   "metadata": {
    "colab": {
     "base_uri": "https://localhost:8080/",
     "height": 288
    },
    "executionInfo": {
     "elapsed": 263,
     "status": "ok",
     "timestamp": 1639777511455,
     "user": {
      "displayName": "Mrunali Ghelani",
      "photoUrl": "https://lh3.googleusercontent.com/a-/AOh14GjIXk9MqqJDkKwFaLcC47jG7SgRsARhiVlw-D9atD8=s64",
      "userId": "13430289795696458228"
     },
     "user_tz": 480
    },
    "id": "9R_-sDj5GPTn",
    "outputId": "219eee72-defc-4418-bf34-dc6edd7f4984"
   },
   "outputs": [
    {
     "name": "stdout",
     "output_type": "stream",
     "text": [
      "(2984, 48)\n"
     ]
    },
    {
     "data": {
      "text/html": [
       "<div>\n",
       "<style scoped>\n",
       "    .dataframe tbody tr th:only-of-type {\n",
       "        vertical-align: middle;\n",
       "    }\n",
       "\n",
       "    .dataframe tbody tr th {\n",
       "        vertical-align: top;\n",
       "    }\n",
       "\n",
       "    .dataframe thead th {\n",
       "        text-align: right;\n",
       "    }\n",
       "</style>\n",
       "<table border=\"1\" class=\"dataframe\">\n",
       "  <thead>\n",
       "    <tr style=\"text-align: right;\">\n",
       "      <th></th>\n",
       "      <th>funding_rounds</th>\n",
       "      <th>funding_total_usd</th>\n",
       "      <th>category_code_col_0</th>\n",
       "      <th>category_code_col_1</th>\n",
       "      <th>category_code_col_2</th>\n",
       "      <th>category_code_col_3</th>\n",
       "      <th>category_code_col_4</th>\n",
       "      <th>category_code_col_5</th>\n",
       "      <th>category_code_col_6</th>\n",
       "      <th>category_code_col_7</th>\n",
       "      <th>...</th>\n",
       "      <th>founded_year_col_4</th>\n",
       "      <th>founded_year_col_5</th>\n",
       "      <th>founded_year_col_6</th>\n",
       "      <th>founded_year_col_7</th>\n",
       "      <th>founded_month_col_0</th>\n",
       "      <th>founded_month_col_2</th>\n",
       "      <th>founded_month_col_3</th>\n",
       "      <th>founded_month_col_4</th>\n",
       "      <th>founded_month_col_5</th>\n",
       "      <th>founded_month_col_6</th>\n",
       "    </tr>\n",
       "  </thead>\n",
       "  <tbody>\n",
       "    <tr>\n",
       "      <th>0</th>\n",
       "      <td>0</td>\n",
       "      <td>0.0</td>\n",
       "      <td>0</td>\n",
       "      <td>1</td>\n",
       "      <td>0</td>\n",
       "      <td>0</td>\n",
       "      <td>0</td>\n",
       "      <td>0</td>\n",
       "      <td>0</td>\n",
       "      <td>0</td>\n",
       "      <td>...</td>\n",
       "      <td>0</td>\n",
       "      <td>0</td>\n",
       "      <td>0</td>\n",
       "      <td>0</td>\n",
       "      <td>0</td>\n",
       "      <td>0</td>\n",
       "      <td>0</td>\n",
       "      <td>1</td>\n",
       "      <td>0</td>\n",
       "      <td>0</td>\n",
       "    </tr>\n",
       "    <tr>\n",
       "      <th>1</th>\n",
       "      <td>0</td>\n",
       "      <td>0.0</td>\n",
       "      <td>0</td>\n",
       "      <td>0</td>\n",
       "      <td>0</td>\n",
       "      <td>0</td>\n",
       "      <td>1</td>\n",
       "      <td>0</td>\n",
       "      <td>0</td>\n",
       "      <td>0</td>\n",
       "      <td>...</td>\n",
       "      <td>1</td>\n",
       "      <td>0</td>\n",
       "      <td>0</td>\n",
       "      <td>0</td>\n",
       "      <td>1</td>\n",
       "      <td>0</td>\n",
       "      <td>0</td>\n",
       "      <td>0</td>\n",
       "      <td>0</td>\n",
       "      <td>0</td>\n",
       "    </tr>\n",
       "    <tr>\n",
       "      <th>2</th>\n",
       "      <td>0</td>\n",
       "      <td>0.0</td>\n",
       "      <td>0</td>\n",
       "      <td>1</td>\n",
       "      <td>0</td>\n",
       "      <td>0</td>\n",
       "      <td>0</td>\n",
       "      <td>0</td>\n",
       "      <td>0</td>\n",
       "      <td>0</td>\n",
       "      <td>...</td>\n",
       "      <td>0</td>\n",
       "      <td>0</td>\n",
       "      <td>0</td>\n",
       "      <td>0</td>\n",
       "      <td>1</td>\n",
       "      <td>0</td>\n",
       "      <td>0</td>\n",
       "      <td>0</td>\n",
       "      <td>0</td>\n",
       "      <td>0</td>\n",
       "    </tr>\n",
       "    <tr>\n",
       "      <th>3</th>\n",
       "      <td>0</td>\n",
       "      <td>0.0</td>\n",
       "      <td>0</td>\n",
       "      <td>0</td>\n",
       "      <td>0</td>\n",
       "      <td>0</td>\n",
       "      <td>0</td>\n",
       "      <td>0</td>\n",
       "      <td>0</td>\n",
       "      <td>1</td>\n",
       "      <td>...</td>\n",
       "      <td>0</td>\n",
       "      <td>0</td>\n",
       "      <td>0</td>\n",
       "      <td>0</td>\n",
       "      <td>0</td>\n",
       "      <td>0</td>\n",
       "      <td>0</td>\n",
       "      <td>0</td>\n",
       "      <td>1</td>\n",
       "      <td>0</td>\n",
       "    </tr>\n",
       "    <tr>\n",
       "      <th>4</th>\n",
       "      <td>0</td>\n",
       "      <td>0.0</td>\n",
       "      <td>0</td>\n",
       "      <td>0</td>\n",
       "      <td>0</td>\n",
       "      <td>0</td>\n",
       "      <td>0</td>\n",
       "      <td>0</td>\n",
       "      <td>0</td>\n",
       "      <td>1</td>\n",
       "      <td>...</td>\n",
       "      <td>0</td>\n",
       "      <td>0</td>\n",
       "      <td>0</td>\n",
       "      <td>1</td>\n",
       "      <td>0</td>\n",
       "      <td>0</td>\n",
       "      <td>1</td>\n",
       "      <td>0</td>\n",
       "      <td>0</td>\n",
       "      <td>0</td>\n",
       "    </tr>\n",
       "  </tbody>\n",
       "</table>\n",
       "<p>5 rows × 48 columns</p>\n",
       "</div>"
      ],
      "text/plain": [
       "   funding_rounds  funding_total_usd  category_code_col_0  \\\n",
       "0               0                0.0                    0   \n",
       "1               0                0.0                    0   \n",
       "2               0                0.0                    0   \n",
       "3               0                0.0                    0   \n",
       "4               0                0.0                    0   \n",
       "\n",
       "   category_code_col_1  category_code_col_2  category_code_col_3  \\\n",
       "0                    1                    0                    0   \n",
       "1                    0                    0                    0   \n",
       "2                    1                    0                    0   \n",
       "3                    0                    0                    0   \n",
       "4                    0                    0                    0   \n",
       "\n",
       "   category_code_col_4  category_code_col_5  category_code_col_6  \\\n",
       "0                    0                    0                    0   \n",
       "1                    1                    0                    0   \n",
       "2                    0                    0                    0   \n",
       "3                    0                    0                    0   \n",
       "4                    0                    0                    0   \n",
       "\n",
       "   category_code_col_7  ...  founded_year_col_4  founded_year_col_5  \\\n",
       "0                    0  ...                   0                   0   \n",
       "1                    0  ...                   1                   0   \n",
       "2                    0  ...                   0                   0   \n",
       "3                    1  ...                   0                   0   \n",
       "4                    1  ...                   0                   0   \n",
       "\n",
       "   founded_year_col_6  founded_year_col_7  founded_month_col_0  \\\n",
       "0                   0                   0                    0   \n",
       "1                   0                   0                    1   \n",
       "2                   0                   0                    1   \n",
       "3                   0                   0                    0   \n",
       "4                   0                   1                    0   \n",
       "\n",
       "   founded_month_col_2  founded_month_col_3  founded_month_col_4  \\\n",
       "0                    0                    0                    1   \n",
       "1                    0                    0                    0   \n",
       "2                    0                    0                    0   \n",
       "3                    0                    0                    0   \n",
       "4                    0                    1                    0   \n",
       "\n",
       "   founded_month_col_5  founded_month_col_6  \n",
       "0                    0                    0  \n",
       "1                    0                    0  \n",
       "2                    0                    0  \n",
       "3                    1                    0  \n",
       "4                    0                    0  \n",
       "\n",
       "[5 rows x 48 columns]"
      ]
     },
     "execution_count": 36,
     "metadata": {},
     "output_type": "execute_result"
    }
   ],
   "source": [
    "X_resampled.drop(columns=column_list, inplace=True)\n",
    "X_resampled = pd.concat([X_resampled, encoded_df], axis=1)\n",
    "print(X_resampled.shape)\n",
    "X_resampled.head()"
   ]
  },
  {
   "cell_type": "markdown",
   "metadata": {
    "id": "eVLiCN7HpK-R"
   },
   "source": [
    "Split data into train and test sets with 80-20 split"
   ]
  },
  {
   "cell_type": "code",
   "execution_count": 37,
   "metadata": {
    "colab": {
     "base_uri": "https://localhost:8080/"
    },
    "executionInfo": {
     "elapsed": 12,
     "status": "ok",
     "timestamp": 1639777511455,
     "user": {
      "displayName": "Mrunali Ghelani",
      "photoUrl": "https://lh3.googleusercontent.com/a-/AOh14GjIXk9MqqJDkKwFaLcC47jG7SgRsARhiVlw-D9atD8=s64",
      "userId": "13430289795696458228"
     },
     "user_tz": 480
    },
    "id": "swzS9N6E_E-J",
    "outputId": "21e32f23-04fa-4da6-a9aa-f9f4608a8120"
   },
   "outputs": [
    {
     "name": "stdout",
     "output_type": "stream",
     "text": [
      "(2387, 48) [(0, 1201), (1, 1186)]\n",
      "(597, 48) [(0, 291), (1, 306)]\n"
     ]
    }
   ],
   "source": [
    "X_train, X_test, y_train, y_test = train_test_split(X_resampled, y_resampled, test_size=0.20)\n",
    "print(X_train.shape, sorted(Counter(y_train).items()))\n",
    "print(X_test.shape, sorted(Counter(y_test).items()))"
   ]
  },
  {
   "cell_type": "markdown",
   "metadata": {
    "id": "u6NDmQ7DolKr"
   },
   "source": [
    "### Data Modeling"
   ]
  },
  {
   "cell_type": "markdown",
   "metadata": {
    "id": "DVUwmDDKVqc-"
   },
   "source": [
    "##### Baseline Model - Decision Tree Classifier"
   ]
  },
  {
   "cell_type": "code",
   "execution_count": 38,
   "metadata": {
    "colab": {
     "base_uri": "https://localhost:8080/"
    },
    "executionInfo": {
     "elapsed": 7,
     "status": "ok",
     "timestamp": 1639777511456,
     "user": {
      "displayName": "Mrunali Ghelani",
      "photoUrl": "https://lh3.googleusercontent.com/a-/AOh14GjIXk9MqqJDkKwFaLcC47jG7SgRsARhiVlw-D9atD8=s64",
      "userId": "13430289795696458228"
     },
     "user_tz": 480
    },
    "id": "qjWck6cFrb9a",
    "outputId": "58b631fa-c0ce-45d7-a924-758b735ed436"
   },
   "outputs": [
    {
     "name": "stdout",
     "output_type": "stream",
     "text": [
      "Accuracy = 58.96%\n"
     ]
    }
   ],
   "source": [
    "clf = DecisionTreeClassifier(random_state=0)\n",
    "clf.fit(X_train, y_train)\n",
    "score = clf.score(X_test, y_test)\n",
    "print(\"Accuracy = \"+ str(round(score*100,2)) + \"%\")"
   ]
  },
  {
   "cell_type": "code",
   "execution_count": 39,
   "metadata": {
    "colab": {
     "base_uri": "https://localhost:8080/",
     "height": 453
    },
    "executionInfo": {
     "elapsed": 119,
     "status": "ok",
     "timestamp": 1639777511570,
     "user": {
      "displayName": "Mrunali Ghelani",
      "photoUrl": "https://lh3.googleusercontent.com/a-/AOh14GjIXk9MqqJDkKwFaLcC47jG7SgRsARhiVlw-D9atD8=s64",
      "userId": "13430289795696458228"
     },
     "user_tz": 480
    },
    "id": "UmKIocUC-p_D",
    "outputId": "01064517-9653-4330-c5c2-17ec7a1f77e4"
   },
   "outputs": [
    {
     "name": "stdout",
     "output_type": "stream",
     "text": [
      "              precision    recall  f1-score   support\n",
      "\n",
      "           0       0.58      0.59      0.59       291\n",
      "           1       0.60      0.58      0.59       306\n",
      "\n",
      "    accuracy                           0.59       597\n",
      "   macro avg       0.59      0.59      0.59       597\n",
      "weighted avg       0.59      0.59      0.59       597\n",
      "\n"
     ]
    },
    {
     "data": {
      "text/plain": [
       "<sklearn.metrics._plot.confusion_matrix.ConfusionMatrixDisplay at 0x7fbddbb266d0>"
      ]
     },
     "execution_count": 39,
     "metadata": {},
     "output_type": "execute_result"
    },
    {
     "data": {
      "image/png": "[encoded data removed]",
      "text/plain": [
       "<Figure size 432x288 with 2 Axes>"
      ]
     },
     "metadata": {
      "needs_background": "light"
     },
     "output_type": "display_data"
    }
   ],
   "source": [
    "y_pred = clf.predict(X_test)\n",
    "print(classification_report(y_test, y_pred))\n",
    "ConfusionMatrixDisplay.from_estimator(clf, X_test, y_test)"
   ]
  },
  {
   "cell_type": "code",
   "execution_count": 40,
   "metadata": {
    "colab": {
     "base_uri": "https://localhost:8080/",
     "height": 285
    },
    "executionInfo": {
     "elapsed": 781,
     "status": "ok",
     "timestamp": 1639777512350,
     "user": {
      "displayName": "Mrunali Ghelani",
      "photoUrl": "https://lh3.googleusercontent.com/a-/AOh14GjIXk9MqqJDkKwFaLcC47jG7SgRsARhiVlw-D9atD8=s64",
      "userId": "13430289795696458228"
     },
     "user_tz": 480
    },
    "id": "c5JDEWH6SD7V",
    "outputId": "fad93486-a4f5-4b2e-fccc-01aaedef0514"
   },
   "outputs": [
    {
     "data": {
      "text/plain": [
       "<AxesSubplot:>"
      ]
     },
     "execution_count": 40,
     "metadata": {},
     "output_type": "execute_result"
    },
    {
     "data": {
      "image/png": "[encoded data removed]",
      "text/plain": [
       "<Figure size 432x288 with 1 Axes>"
      ]
     },
     "metadata": {
      "needs_background": "light"
     },
     "output_type": "display_data"
    }
   ],
   "source": [
    "feature_imp = pd.DataFrame({'Feature': X_resampled.columns, 'Importance': clf.feature_importances_})\n",
    "feature_imp.sort_values(by='Importance', inplace=True, ascending=False)\n",
    "feature_imp.plot.bar()"
   ]
  },
  {
   "cell_type": "code",
   "execution_count": 41,
   "metadata": {
    "colab": {
     "base_uri": "https://localhost:8080/",
     "height": 492
    },
    "executionInfo": {
     "elapsed": 488,
     "status": "ok",
     "timestamp": 1639777512833,
     "user": {
      "displayName": "Mrunali Ghelani",
      "photoUrl": "https://lh3.googleusercontent.com/a-/AOh14GjIXk9MqqJDkKwFaLcC47jG7SgRsARhiVlw-D9atD8=s64",
      "userId": "13430289795696458228"
     },
     "user_tz": 480
    },
    "id": "-lZvuxlm702r",
    "outputId": "7474bede-6485-4a78-ecfd-b873d20cb0d8"
   },
   "outputs": [
    {
     "name": "stdout",
     "output_type": "stream",
     "text": [
      "                Feature  Importance\n",
      "1     funding_total_usd    0.095243\n",
      "35   founded_year_col_1    0.084309\n",
      "7   category_code_col_5    0.039881\n",
      "14   country_code_col_4    0.030877\n",
      "40   founded_year_col_6    0.030552\n",
      "3   category_code_col_1    0.030357\n",
      "21           city_col_3    0.030068\n",
      "37   founded_year_col_3    0.029925\n",
      "28         region_col_2    0.028597\n",
      "4   category_code_col_2    0.027794\n"
     ]
    },
    {
     "data": {
      "text/plain": [
       "Text(0.5, 1.0, 'Top 10 Features by Importance (Decision Trees)')"
      ]
     },
     "execution_count": 41,
     "metadata": {},
     "output_type": "execute_result"
    },
    {
     "data": {
      "image/png": "[encoded data removed]",
      "text/plain": [
       "<Figure size 432x288 with 1 Axes>"
      ]
     },
     "metadata": {
      "needs_background": "light"
     },
     "output_type": "display_data"
    }
   ],
   "source": [
    "feature_imp = pd.DataFrame({'Feature': X_resampled.columns, 'Importance': clf.feature_importances_})\n",
    "feature_imp.sort_values(by='Importance', inplace=True, ascending=False)\n",
    "top_10_feat = feature_imp.head(10)\n",
    "col_list = list(top_10_feat['Feature'])\n",
    "print(top_10_feat)\n",
    "top_10_feat.plot.bar()\n",
    "plt.title(\"Top 10 Features by Importance (Decision Trees)\")"
   ]
  },
  {
   "cell_type": "code",
   "execution_count": 42,
   "metadata": {
    "colab": {
     "base_uri": "https://localhost:8080/",
     "height": 35
    },
    "executionInfo": {
     "elapsed": 8,
     "status": "ok",
     "timestamp": 1639777512833,
     "user": {
      "displayName": "Mrunali Ghelani",
      "photoUrl": "https://lh3.googleusercontent.com/a-/AOh14GjIXk9MqqJDkKwFaLcC47jG7SgRsARhiVlw-D9atD8=s64",
      "userId": "13430289795696458228"
     },
     "user_tz": 480
    },
    "id": "AdqTrpO0jDxi",
    "outputId": "54ed411c-d2c1-49e3-befc-5eca018444d4"
   },
   "outputs": [
    {
     "data": {
      "image/png": "[encoded data removed]",
      "text/plain": [
       "<Figure size 1728x864 with 1 Axes>"
      ]
     },
     "metadata": {
      "needs_background": "light"
     },
     "output_type": "display_data"
    }
   ],
   "source": [
    "plt.figure(figsize=(24,12))\n",
    "\n",
    "plot_tree(clf, max_depth=3, fontsize=10, feature_names=clf.feature_names_in_, \n",
    "          class_names=[\"0\",\"1\"], filled=True, rounded=True)\n",
    "plt.show()"
   ]
  },
  {
   "cell_type": "markdown",
   "metadata": {
    "id": "vcxlupgw-jT4"
   },
   "source": [
    "We consider only these top 10 features for the final model"
   ]
  },
  {
   "cell_type": "markdown",
   "metadata": {
    "id": "Hg2qdJ-2CA0o"
   },
   "source": [
    "##### Final Model - Quadratic Discriminant Analysis (with Top 10 features)"
   ]
  },
  {
   "cell_type": "code",
   "execution_count": 43,
   "metadata": {
    "colab": {
     "base_uri": "https://localhost:8080/"
    },
    "executionInfo": {
     "elapsed": 8,
     "status": "ok",
     "timestamp": 1639777512834,
     "user": {
      "displayName": "Mrunali Ghelani",
      "photoUrl": "https://lh3.googleusercontent.com/a-/AOh14GjIXk9MqqJDkKwFaLcC47jG7SgRsARhiVlw-D9atD8=s64",
      "userId": "13430289795696458228"
     },
     "user_tz": 480
    },
    "id": "YzzlCHytB_mO",
    "outputId": "f5d3bef5-5336-445b-89ce-784dc70a144a"
   },
   "outputs": [
    {
     "name": "stdout",
     "output_type": "stream",
     "text": [
      "Accuracy = 62.48%\n"
     ]
    }
   ],
   "source": [
    "clf = QuadraticDiscriminantAnalysis()\n",
    "clf.fit(X_train[col_list], y_train)\n",
    "score = clf.score(X_test[col_list], y_test)\n",
    "print(\"Accuracy = \"+ str(round(score*100,2)) + \"%\")"
   ]
  },
  {
   "cell_type": "code",
   "execution_count": 44,
   "metadata": {
    "colab": {
     "base_uri": "https://localhost:8080/",
     "height": 453
    },
    "executionInfo": {
     "elapsed": 261,
     "status": "ok",
     "timestamp": 1639777513091,
     "user": {
      "displayName": "Mrunali Ghelani",
      "photoUrl": "https://lh3.googleusercontent.com/a-/AOh14GjIXk9MqqJDkKwFaLcC47jG7SgRsARhiVlw-D9atD8=s64",
      "userId": "13430289795696458228"
     },
     "user_tz": 480
    },
    "id": "eo7vx668B_mO",
    "outputId": "10a30db7-5a5a-424d-fbd6-a2a9f6ca226b"
   },
   "outputs": [
    {
     "name": "stdout",
     "output_type": "stream",
     "text": [
      "              precision    recall  f1-score   support\n",
      "\n",
      "           0       0.72      0.37      0.49       291\n",
      "           1       0.59      0.87      0.70       306\n",
      "\n",
      "    accuracy                           0.62       597\n",
      "   macro avg       0.66      0.62      0.60       597\n",
      "weighted avg       0.66      0.62      0.60       597\n",
      "\n"
     ]
    },
    {
     "data": {
      "text/plain": [
       "<sklearn.metrics._plot.confusion_matrix.ConfusionMatrixDisplay at 0x7fbdda09cd00>"
      ]
     },
     "execution_count": 44,
     "metadata": {},
     "output_type": "execute_result"
    },
    {
     "data": {
      "image/png": "[encoded data removed]",
      "text/plain": [
       "<Figure size 432x288 with 2 Axes>"
      ]
     },
     "metadata": {
      "needs_background": "light"
     },
     "output_type": "display_data"
    }
   ],
   "source": [
    "y_pred = clf.predict(X_test[col_list])\n",
    "print(classification_report(y_test, y_pred))\n",
    "ConfusionMatrixDisplay.from_estimator(clf, X_test[col_list], y_test)"
   ]
  },
  {
   "cell_type": "markdown",
   "metadata": {
    "id": "C6F12fzmWAjn"
   },
   "source": [
    "### Conclusion for Data Modeling"
   ]
  },
  {
   "cell_type": "markdown",
   "metadata": {
    "id": "1qEx3RfvWC7v"
   },
   "source": [
    "*   The QDA Classifier performs significantly better than the Decision Trees Classifier with respect to accuracy and F1-score\n",
    "*   Funding Amount and the Founded Year seem to be the most important features for predicting acquisition status, with feature importance values > 0.7\n",
    "*   Other features such as Category Code are relatively significant​"
   ]
  },
  {
   "cell_type": "code",
   "execution_count": null,
   "metadata": {
    "executionInfo": {
     "elapsed": 4,
     "status": "ok",
     "timestamp": 1639777513091,
     "user": {
      "displayName": "Mrunali Ghelani",
      "photoUrl": "https://lh3.googleusercontent.com/a-/AOh14GjIXk9MqqJDkKwFaLcC47jG7SgRsARhiVlw-D9atD8=s64",
      "userId": "13430289795696458228"
     },
     "user_tz": 480
    },
    "id": "fRWLDVlACME6"
   },
   "outputs": [],
   "source": []
  }
 ],
 "metadata": {
  "colab": {
   "authorship_tag": "ABX9TyOzR6hsbOfMx/h84iP2QJUJ",
   "collapsed_sections": [],
   "mount_file_id": "1os_Z_STWLbeh2VcBuj-KFcnX6RDF2S2y",
   "name": "Data Modeling.ipynb",
   "provenance": []
  },
  "kernelspec": {
   "display_name": "Python 3",
   "language": "python",
   "name": "python3"
  },
  "language_info": {
   "codemirror_mode": {
    "name": "ipython",
    "version": 3
   },
   "file_extension": ".py",
   "mimetype": "text/x-python",
   "name": "python",
   "nbconvert_exporter": "python",
   "pygments_lexer": "ipython3",
   "version": "3.8.5"
  }
 },
 "nbformat": 4,
 "nbformat_minor": 1
}
