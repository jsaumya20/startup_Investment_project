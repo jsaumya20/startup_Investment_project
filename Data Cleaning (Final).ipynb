{
 "cells": [
  {
   "cell_type": "code",
   "execution_count": 1,
   "metadata": {
    "id": "Iw-3V84UsImR"
   },
   "outputs": [],
   "source": [
    "import numpy as np \n",
    "import pandas as pd \n",
    "from datetime import datetime\n",
    "import matplotlib.pyplot as plt"
   ]
  },
  {
   "cell_type": "code",
   "execution_count": 2,
   "metadata": {
    "colab": {
     "base_uri": "https://localhost:8080/",
     "height": 402
    },
    "executionInfo": {
     "elapsed": 6968,
     "status": "ok",
     "timestamp": 1639781109330,
     "user": {
      "displayName": "Mrunali Ghelani",
      "photoUrl": "https://lh3.googleusercontent.com/a-/AOh14GjIXk9MqqJDkKwFaLcC47jG7SgRsARhiVlw-D9atD8=s64",
      "userId": "13430289795696458228"
     },
     "user_tz": 480
    },
    "id": "j5oSWiqZYOPp",
    "outputId": "f06829c4-16a7-480a-a13c-e5da9f8c05fd"
   },
   "outputs": [
    {
     "name": "stderr",
     "output_type": "stream",
     "text": [
      "/Users/mrunalighelani/opt/anaconda3/lib/python3.8/site-packages/IPython/core/interactiveshell.py:3165: DtypeWarning: Columns (3,7,9,10,17,18,21,22,23,25,26,29,30,37) have mixed types.Specify dtype option on import or set low_memory=False.\n",
      "  has_raised = await self.run_ast_nodes(code_ast.body, cell_name,\n"
     ]
    },
    {
     "name": "stdout",
     "output_type": "stream",
     "text": [
      "Total # of rows and columns =  (462651, 40)\n"
     ]
    },
    {
     "data": {
      "text/html": [
       "<div>\n",
       "<style scoped>\n",
       "    .dataframe tbody tr th:only-of-type {\n",
       "        vertical-align: middle;\n",
       "    }\n",
       "\n",
       "    .dataframe tbody tr th {\n",
       "        vertical-align: top;\n",
       "    }\n",
       "\n",
       "    .dataframe thead th {\n",
       "        text-align: right;\n",
       "    }\n",
       "</style>\n",
       "<table border=\"1\" class=\"dataframe\">\n",
       "  <thead>\n",
       "    <tr style=\"text-align: right;\">\n",
       "      <th></th>\n",
       "      <th>id</th>\n",
       "      <th>entity_type</th>\n",
       "      <th>entity_id</th>\n",
       "      <th>parent_id</th>\n",
       "      <th>name</th>\n",
       "      <th>normalized_name</th>\n",
       "      <th>permalink</th>\n",
       "      <th>category_code</th>\n",
       "      <th>status</th>\n",
       "      <th>founded_at</th>\n",
       "      <th>...</th>\n",
       "      <th>last_funding_at</th>\n",
       "      <th>funding_rounds</th>\n",
       "      <th>funding_total_usd</th>\n",
       "      <th>first_milestone_at</th>\n",
       "      <th>last_milestone_at</th>\n",
       "      <th>milestones</th>\n",
       "      <th>relationships</th>\n",
       "      <th>created_by</th>\n",
       "      <th>created_at</th>\n",
       "      <th>updated_at</th>\n",
       "    </tr>\n",
       "  </thead>\n",
       "  <tbody>\n",
       "    <tr>\n",
       "      <th>0</th>\n",
       "      <td>c:1</td>\n",
       "      <td>Company</td>\n",
       "      <td>1</td>\n",
       "      <td>NaN</td>\n",
       "      <td>Wetpaint</td>\n",
       "      <td>wetpaint</td>\n",
       "      <td>/company/wetpaint</td>\n",
       "      <td>web</td>\n",
       "      <td>operating</td>\n",
       "      <td>10/17/2005</td>\n",
       "      <td>...</td>\n",
       "      <td>5/19/2008</td>\n",
       "      <td>3</td>\n",
       "      <td>39750000</td>\n",
       "      <td>9/5/2010</td>\n",
       "      <td>9/18/2013</td>\n",
       "      <td>5</td>\n",
       "      <td>17</td>\n",
       "      <td>initial-importer</td>\n",
       "      <td>5/25/2007 6:51</td>\n",
       "      <td>4/13/2013 3:29</td>\n",
       "    </tr>\n",
       "    <tr>\n",
       "      <th>1</th>\n",
       "      <td>c:10</td>\n",
       "      <td>Company</td>\n",
       "      <td>10</td>\n",
       "      <td>NaN</td>\n",
       "      <td>Flektor</td>\n",
       "      <td>flektor</td>\n",
       "      <td>/company/flektor</td>\n",
       "      <td>games_video</td>\n",
       "      <td>acquired</td>\n",
       "      <td>NaN</td>\n",
       "      <td>...</td>\n",
       "      <td>NaN</td>\n",
       "      <td>0</td>\n",
       "      <td>0</td>\n",
       "      <td>NaN</td>\n",
       "      <td>NaN</td>\n",
       "      <td>0</td>\n",
       "      <td>6</td>\n",
       "      <td>initial-importer</td>\n",
       "      <td>5/31/2007 21:11</td>\n",
       "      <td>5/23/2008 23:23</td>\n",
       "    </tr>\n",
       "  </tbody>\n",
       "</table>\n",
       "<p>2 rows × 40 columns</p>\n",
       "</div>"
      ],
      "text/plain": [
       "     id entity_type  entity_id parent_id      name normalized_name  \\\n",
       "0   c:1     Company          1       NaN  Wetpaint        wetpaint   \n",
       "1  c:10     Company         10       NaN   Flektor         flektor   \n",
       "\n",
       "           permalink category_code     status  founded_at  ...  \\\n",
       "0  /company/wetpaint           web  operating  10/17/2005  ...   \n",
       "1   /company/flektor   games_video   acquired         NaN  ...   \n",
       "\n",
       "  last_funding_at funding_rounds funding_total_usd first_milestone_at  \\\n",
       "0       5/19/2008              3          39750000           9/5/2010   \n",
       "1             NaN              0                 0                NaN   \n",
       "\n",
       "  last_milestone_at  milestones  relationships        created_by  \\\n",
       "0         9/18/2013           5             17  initial-importer   \n",
       "1               NaN           0              6  initial-importer   \n",
       "\n",
       "        created_at       updated_at  \n",
       "0   5/25/2007 6:51   4/13/2013 3:29  \n",
       "1  5/31/2007 21:11  5/23/2008 23:23  \n",
       "\n",
       "[2 rows x 40 columns]"
      ]
     },
     "execution_count": 2,
     "metadata": {},
     "output_type": "execute_result"
    }
   ],
   "source": [
    "Mainfile = pd.read_csv('Startup Investment Dataset/objects.csv')\n",
    "print(\"Total # of rows and columns = \", Mainfile.shape)\n",
    "Mainfile.head(2)"
   ]
  },
  {
   "cell_type": "code",
   "execution_count": 3,
   "metadata": {},
   "outputs": [
    {
     "data": {
      "text/plain": [
       "Person          226708\n",
       "Company         196553\n",
       "Product          27738\n",
       "FinancialOrg     11652\n",
       "Name: entity_type, dtype: int64"
      ]
     },
     "execution_count": 3,
     "metadata": {},
     "output_type": "execute_result"
    }
   ],
   "source": [
    "Mainfile[\"entity_type\"].value_counts()"
   ]
  },
  {
   "cell_type": "code",
   "execution_count": 4,
   "metadata": {
    "colab": {
     "base_uri": "https://localhost:8080/",
     "height": 367
    },
    "executionInfo": {
     "elapsed": 267,
     "status": "ok",
     "timestamp": 1639781109593,
     "user": {
      "displayName": "Mrunali Ghelani",
      "photoUrl": "https://lh3.googleusercontent.com/a-/AOh14GjIXk9MqqJDkKwFaLcC47jG7SgRsARhiVlw-D9atD8=s64",
      "userId": "13430289795696458228"
     },
     "user_tz": 480
    },
    "id": "o2AxgZDmD6Gc",
    "outputId": "55ad16a6-09cb-473a-d23a-4ff8eb1df47d"
   },
   "outputs": [
    {
     "name": "stdout",
     "output_type": "stream",
     "text": [
      "Total # of rows and columns =  (208205, 40)\n"
     ]
    },
    {
     "data": {
      "text/html": [
       "<div>\n",
       "<style scoped>\n",
       "    .dataframe tbody tr th:only-of-type {\n",
       "        vertical-align: middle;\n",
       "    }\n",
       "\n",
       "    .dataframe tbody tr th {\n",
       "        vertical-align: top;\n",
       "    }\n",
       "\n",
       "    .dataframe thead th {\n",
       "        text-align: right;\n",
       "    }\n",
       "</style>\n",
       "<table border=\"1\" class=\"dataframe\">\n",
       "  <thead>\n",
       "    <tr style=\"text-align: right;\">\n",
       "      <th></th>\n",
       "      <th>id</th>\n",
       "      <th>entity_type</th>\n",
       "      <th>entity_id</th>\n",
       "      <th>parent_id</th>\n",
       "      <th>name</th>\n",
       "      <th>normalized_name</th>\n",
       "      <th>permalink</th>\n",
       "      <th>category_code</th>\n",
       "      <th>status</th>\n",
       "      <th>founded_at</th>\n",
       "      <th>...</th>\n",
       "      <th>last_funding_at</th>\n",
       "      <th>funding_rounds</th>\n",
       "      <th>funding_total_usd</th>\n",
       "      <th>first_milestone_at</th>\n",
       "      <th>last_milestone_at</th>\n",
       "      <th>milestones</th>\n",
       "      <th>relationships</th>\n",
       "      <th>created_by</th>\n",
       "      <th>created_at</th>\n",
       "      <th>updated_at</th>\n",
       "    </tr>\n",
       "  </thead>\n",
       "  <tbody>\n",
       "    <tr>\n",
       "      <th>0</th>\n",
       "      <td>c:1</td>\n",
       "      <td>Company</td>\n",
       "      <td>1</td>\n",
       "      <td>NaN</td>\n",
       "      <td>Wetpaint</td>\n",
       "      <td>wetpaint</td>\n",
       "      <td>/company/wetpaint</td>\n",
       "      <td>web</td>\n",
       "      <td>operating</td>\n",
       "      <td>10/17/2005</td>\n",
       "      <td>...</td>\n",
       "      <td>5/19/2008</td>\n",
       "      <td>3</td>\n",
       "      <td>39750000</td>\n",
       "      <td>9/5/2010</td>\n",
       "      <td>9/18/2013</td>\n",
       "      <td>5</td>\n",
       "      <td>17</td>\n",
       "      <td>initial-importer</td>\n",
       "      <td>5/25/2007 6:51</td>\n",
       "      <td>4/13/2013 3:29</td>\n",
       "    </tr>\n",
       "    <tr>\n",
       "      <th>1</th>\n",
       "      <td>c:10</td>\n",
       "      <td>Company</td>\n",
       "      <td>10</td>\n",
       "      <td>NaN</td>\n",
       "      <td>Flektor</td>\n",
       "      <td>flektor</td>\n",
       "      <td>/company/flektor</td>\n",
       "      <td>games_video</td>\n",
       "      <td>acquired</td>\n",
       "      <td>NaN</td>\n",
       "      <td>...</td>\n",
       "      <td>NaN</td>\n",
       "      <td>0</td>\n",
       "      <td>0</td>\n",
       "      <td>NaN</td>\n",
       "      <td>NaN</td>\n",
       "      <td>0</td>\n",
       "      <td>6</td>\n",
       "      <td>initial-importer</td>\n",
       "      <td>5/31/2007 21:11</td>\n",
       "      <td>5/23/2008 23:23</td>\n",
       "    </tr>\n",
       "  </tbody>\n",
       "</table>\n",
       "<p>2 rows × 40 columns</p>\n",
       "</div>"
      ],
      "text/plain": [
       "     id entity_type  entity_id parent_id      name normalized_name  \\\n",
       "0   c:1     Company          1       NaN  Wetpaint        wetpaint   \n",
       "1  c:10     Company         10       NaN   Flektor         flektor   \n",
       "\n",
       "           permalink category_code     status  founded_at  ...  \\\n",
       "0  /company/wetpaint           web  operating  10/17/2005  ...   \n",
       "1   /company/flektor   games_video   acquired         NaN  ...   \n",
       "\n",
       "  last_funding_at funding_rounds funding_total_usd first_milestone_at  \\\n",
       "0       5/19/2008              3          39750000           9/5/2010   \n",
       "1             NaN              0                 0                NaN   \n",
       "\n",
       "  last_milestone_at  milestones  relationships        created_by  \\\n",
       "0         9/18/2013           5             17  initial-importer   \n",
       "1               NaN           0              6  initial-importer   \n",
       "\n",
       "        created_at       updated_at  \n",
       "0   5/25/2007 6:51   4/13/2013 3:29  \n",
       "1  5/31/2007 21:11  5/23/2008 23:23  \n",
       "\n",
       "[2 rows x 40 columns]"
      ]
     },
     "execution_count": 4,
     "metadata": {},
     "output_type": "execute_result"
    }
   ],
   "source": [
    "# Filter startup/company and investor/financial org data for analysis\n",
    "\n",
    "Mainfile = Mainfile[Mainfile[\"entity_type\"].isin([\"Company\",\"FinancialOrg\"])]\n",
    "print(\"Total # of rows and columns = \", Mainfile.shape)\n",
    "Mainfile.head(2)"
   ]
  },
  {
   "cell_type": "code",
   "execution_count": 5,
   "metadata": {
    "colab": {
     "base_uri": "https://localhost:8080/",
     "height": 367
    },
    "executionInfo": {
     "elapsed": 158,
     "status": "ok",
     "timestamp": 1639781142078,
     "user": {
      "displayName": "Mrunali Ghelani",
      "photoUrl": "https://lh3.googleusercontent.com/a-/AOh14GjIXk9MqqJDkKwFaLcC47jG7SgRsARhiVlw-D9atD8=s64",
      "userId": "13430289795696458228"
     },
     "user_tz": 480
    },
    "id": "ciL3ZN5vhXuD",
    "outputId": "f6e6295b-388e-4d2f-f01e-fcc98eaf8242"
   },
   "outputs": [
    {
     "name": "stdout",
     "output_type": "stream",
     "text": [
      "Total # of rows and columns =  (208205, 15)\n"
     ]
    },
    {
     "data": {
      "text/html": [
       "<div>\n",
       "<style scoped>\n",
       "    .dataframe tbody tr th:only-of-type {\n",
       "        vertical-align: middle;\n",
       "    }\n",
       "\n",
       "    .dataframe tbody tr th {\n",
       "        vertical-align: top;\n",
       "    }\n",
       "\n",
       "    .dataframe thead th {\n",
       "        text-align: right;\n",
       "    }\n",
       "</style>\n",
       "<table border=\"1\" class=\"dataframe\">\n",
       "  <thead>\n",
       "    <tr style=\"text-align: right;\">\n",
       "      <th></th>\n",
       "      <th>id</th>\n",
       "      <th>entity_type</th>\n",
       "      <th>entity_id</th>\n",
       "      <th>name</th>\n",
       "      <th>category_code</th>\n",
       "      <th>status</th>\n",
       "      <th>founded_at</th>\n",
       "      <th>overview</th>\n",
       "      <th>country_code</th>\n",
       "      <th>city</th>\n",
       "      <th>region</th>\n",
       "      <th>investment_rounds</th>\n",
       "      <th>invested_companies</th>\n",
       "      <th>funding_rounds</th>\n",
       "      <th>funding_total_usd</th>\n",
       "    </tr>\n",
       "  </thead>\n",
       "  <tbody>\n",
       "    <tr>\n",
       "      <th>0</th>\n",
       "      <td>c:1</td>\n",
       "      <td>Company</td>\n",
       "      <td>1</td>\n",
       "      <td>Wetpaint</td>\n",
       "      <td>web</td>\n",
       "      <td>operating</td>\n",
       "      <td>10/17/2005</td>\n",
       "      <td>Wetpaint is a technology platform company that...</td>\n",
       "      <td>USA</td>\n",
       "      <td>Seattle</td>\n",
       "      <td>Seattle</td>\n",
       "      <td>0</td>\n",
       "      <td>0</td>\n",
       "      <td>3</td>\n",
       "      <td>39750000</td>\n",
       "    </tr>\n",
       "    <tr>\n",
       "      <th>1</th>\n",
       "      <td>c:10</td>\n",
       "      <td>Company</td>\n",
       "      <td>10</td>\n",
       "      <td>Flektor</td>\n",
       "      <td>games_video</td>\n",
       "      <td>acquired</td>\n",
       "      <td>NaN</td>\n",
       "      <td>Flektor is a rich-media mash-up platform that ...</td>\n",
       "      <td>USA</td>\n",
       "      <td>Culver City</td>\n",
       "      <td>Los Angeles</td>\n",
       "      <td>0</td>\n",
       "      <td>0</td>\n",
       "      <td>0</td>\n",
       "      <td>0</td>\n",
       "    </tr>\n",
       "  </tbody>\n",
       "</table>\n",
       "</div>"
      ],
      "text/plain": [
       "     id entity_type  entity_id      name category_code     status  founded_at  \\\n",
       "0   c:1     Company          1  Wetpaint           web  operating  10/17/2005   \n",
       "1  c:10     Company         10   Flektor   games_video   acquired         NaN   \n",
       "\n",
       "                                            overview country_code  \\\n",
       "0  Wetpaint is a technology platform company that...          USA   \n",
       "1  Flektor is a rich-media mash-up platform that ...          USA   \n",
       "\n",
       "          city       region  investment_rounds  invested_companies  \\\n",
       "0      Seattle      Seattle                  0                   0   \n",
       "1  Culver City  Los Angeles                  0                   0   \n",
       "\n",
       "   funding_rounds  funding_total_usd  \n",
       "0               3           39750000  \n",
       "1               0                  0  "
      ]
     },
     "execution_count": 5,
     "metadata": {},
     "output_type": "execute_result"
    }
   ],
   "source": [
    "# Remove unnecessary columns\n",
    "\n",
    "Mainfile.drop(columns=['parent_id','normalized_name','updated_at','created_by',\n",
    "                       'first_milestone_at','last_milestone_at', 'milestones',\n",
    "                 'relationships','last_investment_at','last_funding_at',\n",
    "                 'twitter_username', 'logo_url', 'logo_width', 'logo_height',\n",
    "                 'description', 'short_description','domain' ,'closed_at','permalink', \n",
    "       'tag_list', 'created_at', \"first_investment_at\", \"first_funding_at\", \"state_code\",\n",
    "       \"homepage_url\"],inplace=True,errors=\"ignore\")\n",
    "print(\"Total # of rows and columns = \", Mainfile.shape)\n",
    "Mainfile.head(2)"
   ]
  },
  {
   "cell_type": "code",
   "execution_count": 6,
   "metadata": {
    "id": "4jC5RpgbqNF9"
   },
   "outputs": [],
   "source": [
    "Mainfile.to_csv('Startup Investment Dataset/updated_objects.csv', index=False)"
   ]
  },
  {
   "cell_type": "code",
   "execution_count": 7,
   "metadata": {
    "colab": {
     "base_uri": "https://localhost:8080/"
    },
    "executionInfo": {
     "elapsed": 141,
     "status": "ok",
     "timestamp": 1639781143235,
     "user": {
      "displayName": "Mrunali Ghelani",
      "photoUrl": "https://lh3.googleusercontent.com/a-/AOh14GjIXk9MqqJDkKwFaLcC47jG7SgRsARhiVlw-D9atD8=s64",
      "userId": "13430289795696458228"
     },
     "user_tz": 480
    },
    "id": "0iIIhBdQCX4n",
    "outputId": "3e1980bc-469c-49c3-893a-3427eaf03280"
   },
   "outputs": [
    {
     "name": "stdout",
     "output_type": "stream",
     "text": [
      "<class 'pandas.core.frame.DataFrame'>\n",
      "Int64Index: 208205 entries, 0 to 208204\n",
      "Data columns (total 15 columns):\n",
      " #   Column              Non-Null Count   Dtype \n",
      "---  ------              --------------   ----- \n",
      " 0   id                  208205 non-null  object\n",
      " 1   entity_type         208205 non-null  object\n",
      " 2   entity_id           208205 non-null  int64 \n",
      " 3   name                208203 non-null  object\n",
      " 4   category_code       123186 non-null  object\n",
      " 5   status              208205 non-null  object\n",
      " 6   founded_at          95832 non-null   object\n",
      " 7   overview            133896 non-null  object\n",
      " 8   country_code        95043 non-null   object\n",
      " 9   city                90684 non-null   object\n",
      " 10  region              208205 non-null  object\n",
      " 11  investment_rounds   208205 non-null  int64 \n",
      " 12  invested_companies  208205 non-null  int64 \n",
      " 13  funding_rounds      208205 non-null  int64 \n",
      " 14  funding_total_usd   208205 non-null  int64 \n",
      "dtypes: int64(5), object(10)\n",
      "memory usage: 25.4+ MB\n"
     ]
    }
   ],
   "source": [
    "# Check for number of empty values (NaN) per column\n",
    "\n",
    "Mainfile.info()"
   ]
  },
  {
   "cell_type": "code",
   "execution_count": 8,
   "metadata": {
    "colab": {
     "base_uri": "https://localhost:8080/",
     "height": 520
    },
    "executionInfo": {
     "elapsed": 321,
     "status": "ok",
     "timestamp": 1639781144365,
     "user": {
      "displayName": "Mrunali Ghelani",
      "photoUrl": "https://lh3.googleusercontent.com/a-/AOh14GjIXk9MqqJDkKwFaLcC47jG7SgRsARhiVlw-D9atD8=s64",
      "userId": "13430289795696458228"
     },
     "user_tz": 480
    },
    "id": "PdwUif1SDUCx",
    "outputId": "b83182bf-2f34-4d6f-e98e-4bb5e25367b2"
   },
   "outputs": [
    {
     "data": {
      "text/html": [
       "<div>\n",
       "<style scoped>\n",
       "    .dataframe tbody tr th:only-of-type {\n",
       "        vertical-align: middle;\n",
       "    }\n",
       "\n",
       "    .dataframe tbody tr th {\n",
       "        vertical-align: top;\n",
       "    }\n",
       "\n",
       "    .dataframe thead th {\n",
       "        text-align: right;\n",
       "    }\n",
       "</style>\n",
       "<table border=\"1\" class=\"dataframe\">\n",
       "  <thead>\n",
       "    <tr style=\"text-align: right;\">\n",
       "      <th></th>\n",
       "      <th>% of Missing Data</th>\n",
       "    </tr>\n",
       "  </thead>\n",
       "  <tbody>\n",
       "    <tr>\n",
       "      <th>city</th>\n",
       "      <td>56.444850</td>\n",
       "    </tr>\n",
       "    <tr>\n",
       "      <th>country_code</th>\n",
       "      <td>54.351240</td>\n",
       "    </tr>\n",
       "    <tr>\n",
       "      <th>founded_at</th>\n",
       "      <td>53.972287</td>\n",
       "    </tr>\n",
       "    <tr>\n",
       "      <th>category_code</th>\n",
       "      <td>40.834274</td>\n",
       "    </tr>\n",
       "    <tr>\n",
       "      <th>overview</th>\n",
       "      <td>35.690305</td>\n",
       "    </tr>\n",
       "    <tr>\n",
       "      <th>name</th>\n",
       "      <td>0.000961</td>\n",
       "    </tr>\n",
       "    <tr>\n",
       "      <th>id</th>\n",
       "      <td>0.000000</td>\n",
       "    </tr>\n",
       "    <tr>\n",
       "      <th>entity_type</th>\n",
       "      <td>0.000000</td>\n",
       "    </tr>\n",
       "    <tr>\n",
       "      <th>entity_id</th>\n",
       "      <td>0.000000</td>\n",
       "    </tr>\n",
       "    <tr>\n",
       "      <th>status</th>\n",
       "      <td>0.000000</td>\n",
       "    </tr>\n",
       "    <tr>\n",
       "      <th>region</th>\n",
       "      <td>0.000000</td>\n",
       "    </tr>\n",
       "    <tr>\n",
       "      <th>investment_rounds</th>\n",
       "      <td>0.000000</td>\n",
       "    </tr>\n",
       "    <tr>\n",
       "      <th>invested_companies</th>\n",
       "      <td>0.000000</td>\n",
       "    </tr>\n",
       "    <tr>\n",
       "      <th>funding_rounds</th>\n",
       "      <td>0.000000</td>\n",
       "    </tr>\n",
       "    <tr>\n",
       "      <th>funding_total_usd</th>\n",
       "      <td>0.000000</td>\n",
       "    </tr>\n",
       "  </tbody>\n",
       "</table>\n",
       "</div>"
      ],
      "text/plain": [
       "                    % of Missing Data\n",
       "city                        56.444850\n",
       "country_code                54.351240\n",
       "founded_at                  53.972287\n",
       "category_code               40.834274\n",
       "overview                    35.690305\n",
       "name                         0.000961\n",
       "id                           0.000000\n",
       "entity_type                  0.000000\n",
       "entity_id                    0.000000\n",
       "status                       0.000000\n",
       "region                       0.000000\n",
       "investment_rounds            0.000000\n",
       "invested_companies           0.000000\n",
       "funding_rounds               0.000000\n",
       "funding_total_usd            0.000000"
      ]
     },
     "execution_count": 8,
     "metadata": {},
     "output_type": "execute_result"
    }
   ],
   "source": [
    "# Check for % of missing values in each column\n",
    "\n",
    "(Mainfile.isna().sum()/len(Mainfile) * 100).sort_values(ascending=False).to_frame().rename(columns={0:\"% of Missing Data\"})"
   ]
  },
  {
   "cell_type": "code",
   "execution_count": 9,
   "metadata": {
    "colab": {
     "base_uri": "https://localhost:8080/"
    },
    "executionInfo": {
     "elapsed": 373,
     "status": "ok",
     "timestamp": 1639781252060,
     "user": {
      "displayName": "Mrunali Ghelani",
      "photoUrl": "https://lh3.googleusercontent.com/a-/AOh14GjIXk9MqqJDkKwFaLcC47jG7SgRsARhiVlw-D9atD8=s64",
      "userId": "13430289795696458228"
     },
     "user_tz": 480
    },
    "id": "2rUX1_1AF6eZ",
    "outputId": "36d1c243-2b25-4efc-cbf4-720e804e9205"
   },
   "outputs": [
    {
     "name": "stdout",
     "output_type": "stream",
     "text": [
      "<class 'pandas.core.frame.DataFrame'>\n",
      "Int64Index: 208205 entries, 0 to 208204\n",
      "Data columns (total 15 columns):\n",
      " #   Column              Non-Null Count   Dtype         \n",
      "---  ------              --------------   -----         \n",
      " 0   id                  208205 non-null  object        \n",
      " 1   entity_type         208205 non-null  object        \n",
      " 2   entity_id           208205 non-null  int64         \n",
      " 3   name                208203 non-null  object        \n",
      " 4   category_code       123186 non-null  object        \n",
      " 5   status              208205 non-null  object        \n",
      " 6   founded_at          95832 non-null   datetime64[ns]\n",
      " 7   overview            133896 non-null  object        \n",
      " 8   country_code        95043 non-null   object        \n",
      " 9   city                90684 non-null   object        \n",
      " 10  region              208205 non-null  object        \n",
      " 11  investment_rounds   208205 non-null  int64         \n",
      " 12  invested_companies  208205 non-null  int64         \n",
      " 13  funding_rounds      208205 non-null  int64         \n",
      " 14  funding_total_usd   208205 non-null  int64         \n",
      "dtypes: datetime64[ns](1), int64(5), object(9)\n",
      "memory usage: 25.4+ MB\n"
     ]
    }
   ],
   "source": [
    "# Convert String into Datetime format\n",
    "\n",
    "Mainfile[\"founded_at\"] = pd.to_datetime(Mainfile[\"founded_at\"])\n",
    "Mainfile.info()"
   ]
  },
  {
   "cell_type": "code",
   "execution_count": 10,
   "metadata": {
    "colab": {
     "base_uri": "https://localhost:8080/",
     "height": 350
    },
    "executionInfo": {
     "elapsed": 383,
     "status": "ok",
     "timestamp": 1639781327680,
     "user": {
      "displayName": "Mrunali Ghelani",
      "photoUrl": "https://lh3.googleusercontent.com/a-/AOh14GjIXk9MqqJDkKwFaLcC47jG7SgRsARhiVlw-D9atD8=s64",
      "userId": "13430289795696458228"
     },
     "user_tz": 480
    },
    "id": "UuQZDqI9GyjC",
    "outputId": "c7d95e7f-001e-45aa-d66f-8fa279908afa"
   },
   "outputs": [
    {
     "name": "stdout",
     "output_type": "stream",
     "text": [
      "(196553, 14)\n"
     ]
    },
    {
     "data": {
      "text/html": [
       "<div>\n",
       "<style scoped>\n",
       "    .dataframe tbody tr th:only-of-type {\n",
       "        vertical-align: middle;\n",
       "    }\n",
       "\n",
       "    .dataframe tbody tr th {\n",
       "        vertical-align: top;\n",
       "    }\n",
       "\n",
       "    .dataframe thead th {\n",
       "        text-align: right;\n",
       "    }\n",
       "</style>\n",
       "<table border=\"1\" class=\"dataframe\">\n",
       "  <thead>\n",
       "    <tr style=\"text-align: right;\">\n",
       "      <th></th>\n",
       "      <th>id</th>\n",
       "      <th>entity_id</th>\n",
       "      <th>name</th>\n",
       "      <th>category_code</th>\n",
       "      <th>status</th>\n",
       "      <th>founded_at</th>\n",
       "      <th>overview</th>\n",
       "      <th>country_code</th>\n",
       "      <th>city</th>\n",
       "      <th>region</th>\n",
       "      <th>investment_rounds</th>\n",
       "      <th>invested_companies</th>\n",
       "      <th>funding_rounds</th>\n",
       "      <th>funding_total_usd</th>\n",
       "    </tr>\n",
       "  </thead>\n",
       "  <tbody>\n",
       "    <tr>\n",
       "      <th>0</th>\n",
       "      <td>c:1</td>\n",
       "      <td>1</td>\n",
       "      <td>Wetpaint</td>\n",
       "      <td>web</td>\n",
       "      <td>operating</td>\n",
       "      <td>2005-10-17</td>\n",
       "      <td>Wetpaint is a technology platform company that...</td>\n",
       "      <td>USA</td>\n",
       "      <td>Seattle</td>\n",
       "      <td>Seattle</td>\n",
       "      <td>0</td>\n",
       "      <td>0</td>\n",
       "      <td>3</td>\n",
       "      <td>39750000</td>\n",
       "    </tr>\n",
       "    <tr>\n",
       "      <th>1</th>\n",
       "      <td>c:10</td>\n",
       "      <td>10</td>\n",
       "      <td>Flektor</td>\n",
       "      <td>games_video</td>\n",
       "      <td>acquired</td>\n",
       "      <td>NaT</td>\n",
       "      <td>Flektor is a rich-media mash-up platform that ...</td>\n",
       "      <td>USA</td>\n",
       "      <td>Culver City</td>\n",
       "      <td>Los Angeles</td>\n",
       "      <td>0</td>\n",
       "      <td>0</td>\n",
       "      <td>0</td>\n",
       "      <td>0</td>\n",
       "    </tr>\n",
       "  </tbody>\n",
       "</table>\n",
       "</div>"
      ],
      "text/plain": [
       "     id  entity_id      name category_code     status founded_at  \\\n",
       "0   c:1          1  Wetpaint           web  operating 2005-10-17   \n",
       "1  c:10         10   Flektor   games_video   acquired        NaT   \n",
       "\n",
       "                                            overview country_code  \\\n",
       "0  Wetpaint is a technology platform company that...          USA   \n",
       "1  Flektor is a rich-media mash-up platform that ...          USA   \n",
       "\n",
       "          city       region  investment_rounds  invested_companies  \\\n",
       "0      Seattle      Seattle                  0                   0   \n",
       "1  Culver City  Los Angeles                  0                   0   \n",
       "\n",
       "   funding_rounds  funding_total_usd  \n",
       "0               3           39750000  \n",
       "1               0                  0  "
      ]
     },
     "execution_count": 10,
     "metadata": {},
     "output_type": "execute_result"
    }
   ],
   "source": [
    "# Separate company and financial org data\n",
    "\n",
    "company = Mainfile[Mainfile[\"entity_type\"]==\"Company\"].reset_index(drop=True)\n",
    "company.drop(columns=[\"entity_type\"], inplace=True)\n",
    "print(company.shape)\n",
    "company.head(2)"
   ]
  },
  {
   "cell_type": "code",
   "execution_count": 11,
   "metadata": {
    "id": "zyGBQgxAqZYR"
   },
   "outputs": [],
   "source": [
    "company.to_csv('Startup Investment Dataset/updated_objects_company.csv', index=False)"
   ]
  },
  {
   "cell_type": "code",
   "execution_count": 12,
   "metadata": {
    "colab": {
     "base_uri": "https://localhost:8080/",
     "height": 298
    },
    "executionInfo": {
     "elapsed": 178,
     "status": "ok",
     "timestamp": 1639781329437,
     "user": {
      "displayName": "Mrunali Ghelani",
      "photoUrl": "https://lh3.googleusercontent.com/a-/AOh14GjIXk9MqqJDkKwFaLcC47jG7SgRsARhiVlw-D9atD8=s64",
      "userId": "13430289795696458228"
     },
     "user_tz": 480
    },
    "id": "WlmQExQZGygv",
    "outputId": "a669a531-e99f-4f0d-8e09-c13f268062b3"
   },
   "outputs": [
    {
     "name": "stdout",
     "output_type": "stream",
     "text": [
      "(11652, 14)\n"
     ]
    },
    {
     "data": {
      "text/html": [
       "<div>\n",
       "<style scoped>\n",
       "    .dataframe tbody tr th:only-of-type {\n",
       "        vertical-align: middle;\n",
       "    }\n",
       "\n",
       "    .dataframe tbody tr th {\n",
       "        vertical-align: top;\n",
       "    }\n",
       "\n",
       "    .dataframe thead th {\n",
       "        text-align: right;\n",
       "    }\n",
       "</style>\n",
       "<table border=\"1\" class=\"dataframe\">\n",
       "  <thead>\n",
       "    <tr style=\"text-align: right;\">\n",
       "      <th></th>\n",
       "      <th>id</th>\n",
       "      <th>entity_id</th>\n",
       "      <th>name</th>\n",
       "      <th>category_code</th>\n",
       "      <th>status</th>\n",
       "      <th>founded_at</th>\n",
       "      <th>overview</th>\n",
       "      <th>country_code</th>\n",
       "      <th>city</th>\n",
       "      <th>region</th>\n",
       "      <th>investment_rounds</th>\n",
       "      <th>invested_companies</th>\n",
       "      <th>funding_rounds</th>\n",
       "      <th>funding_total_usd</th>\n",
       "    </tr>\n",
       "  </thead>\n",
       "  <tbody>\n",
       "    <tr>\n",
       "      <th>0</th>\n",
       "      <td>f:1</td>\n",
       "      <td>1</td>\n",
       "      <td>Greylock Partners</td>\n",
       "      <td>NaN</td>\n",
       "      <td>operating</td>\n",
       "      <td>1965-01-01</td>\n",
       "      <td>Greylock partners with entrepreneurs to help t...</td>\n",
       "      <td>USA</td>\n",
       "      <td>Menlo Park</td>\n",
       "      <td>SF Bay</td>\n",
       "      <td>307</td>\n",
       "      <td>196</td>\n",
       "      <td>0</td>\n",
       "      <td>0</td>\n",
       "    </tr>\n",
       "    <tr>\n",
       "      <th>1</th>\n",
       "      <td>f:10</td>\n",
       "      <td>10</td>\n",
       "      <td>Mission Ventures</td>\n",
       "      <td>NaN</td>\n",
       "      <td>operating</td>\n",
       "      <td>1996-01-01</td>\n",
       "      <td>Mission Ventures helps build successful enterp...</td>\n",
       "      <td>USA</td>\n",
       "      <td>San Diego</td>\n",
       "      <td>San Diego</td>\n",
       "      <td>58</td>\n",
       "      <td>33</td>\n",
       "      <td>0</td>\n",
       "      <td>0</td>\n",
       "    </tr>\n",
       "  </tbody>\n",
       "</table>\n",
       "</div>"
      ],
      "text/plain": [
       "     id  entity_id               name category_code     status founded_at  \\\n",
       "0   f:1          1  Greylock Partners           NaN  operating 1965-01-01   \n",
       "1  f:10         10   Mission Ventures           NaN  operating 1996-01-01   \n",
       "\n",
       "                                            overview country_code        city  \\\n",
       "0  Greylock partners with entrepreneurs to help t...          USA  Menlo Park   \n",
       "1  Mission Ventures helps build successful enterp...          USA   San Diego   \n",
       "\n",
       "      region  investment_rounds  invested_companies  funding_rounds  \\\n",
       "0     SF Bay                307                 196               0   \n",
       "1  San Diego                 58                  33               0   \n",
       "\n",
       "   funding_total_usd  \n",
       "0                  0  \n",
       "1                  0  "
      ]
     },
     "execution_count": 12,
     "metadata": {},
     "output_type": "execute_result"
    }
   ],
   "source": [
    "finorg = Mainfile[Mainfile[\"entity_type\"]==\"FinancialOrg\"].reset_index(drop=True)\n",
    "finorg.drop(columns=[\"entity_type\"], inplace=True)\n",
    "print(finorg.shape)\n",
    "finorg.head(2)"
   ]
  },
  {
   "cell_type": "code",
   "execution_count": 13,
   "metadata": {
    "id": "NVBt_u9UqgAW"
   },
   "outputs": [],
   "source": [
    "finorg.to_csv('Startup Investment Dataset/updated_objects_finorg.csv', index=False)"
   ]
  },
  {
   "cell_type": "markdown",
   "metadata": {
    "id": "gzdVh2ISowbg"
   },
   "source": [
    "### Creating Final Company Dataset"
   ]
  },
  {
   "cell_type": "code",
   "execution_count": 14,
   "metadata": {
    "colab": {
     "base_uri": "https://localhost:8080/"
    },
    "executionInfo": {
     "elapsed": 137,
     "status": "ok",
     "timestamp": 1638510397866,
     "user": {
      "displayName": "Mrunali Ghelani",
      "photoUrl": "https://lh3.googleusercontent.com/a-/AOh14GjIXk9MqqJDkKwFaLcC47jG7SgRsARhiVlw-D9atD8=s64",
      "userId": "13430289795696458228"
     },
     "user_tz": 480
    },
    "id": "JbjiAEF5Hge3",
    "outputId": "a2d4196c-0ebd-4957-bb53-9239465fcb12"
   },
   "outputs": [
    {
     "name": "stdout",
     "output_type": "stream",
     "text": [
      "% Missing data for company/startup data for numeric data: \n",
      "For funding rounds =  83.87 %\n",
      "For investment rounds =  98.68 %\n",
      "For invested companies =  98.68 %\n",
      "For total funding (in USD) =  85.82 %\n"
     ]
    }
   ],
   "source": [
    "# Check % of missing numerical data in company \n",
    "\n",
    "company_numrows = len(company)\n",
    "print(\"% Missing data for company/startup data for numeric data: \")\n",
    "print(\"For funding rounds = \", round(len(company[(company[\"funding_rounds\"]==0)])/company_numrows *100,2), \"%\")\n",
    "print(\"For investment rounds = \", round(len(company[(company[\"investment_rounds\"]==0)])/company_numrows *100,2), \"%\")\n",
    "print(\"For invested companies = \", round(len(company[(company[\"invested_companies\"]==0)])/company_numrows *100,2), \"%\")\n",
    "print(\"For total funding (in USD) = \", round(len(company[(company[\"funding_total_usd\"]==0)])/company_numrows *100,2), \"%\")"
   ]
  },
  {
   "cell_type": "code",
   "execution_count": 15,
   "metadata": {
    "colab": {
     "base_uri": "https://localhost:8080/",
     "height": 381
    },
    "executionInfo": {
     "elapsed": 334,
     "status": "error",
     "timestamp": 1639781793009,
     "user": {
      "displayName": "Mrunali Ghelani",
      "photoUrl": "https://lh3.googleusercontent.com/a-/AOh14GjIXk9MqqJDkKwFaLcC47jG7SgRsARhiVlw-D9atD8=s64",
      "userId": "13430289795696458228"
     },
     "user_tz": 480
    },
    "id": "s4FMyYzeHgb8",
    "outputId": "c4f3f22d-6285-407d-f82d-9ddba782c5b0"
   },
   "outputs": [
    {
     "name": "stdout",
     "output_type": "stream",
     "text": [
      "Total # of rows and columns =  (196553, 12)\n"
     ]
    },
    {
     "data": {
      "text/html": [
       "<div>\n",
       "<style scoped>\n",
       "    .dataframe tbody tr th:only-of-type {\n",
       "        vertical-align: middle;\n",
       "    }\n",
       "\n",
       "    .dataframe tbody tr th {\n",
       "        vertical-align: top;\n",
       "    }\n",
       "\n",
       "    .dataframe thead th {\n",
       "        text-align: right;\n",
       "    }\n",
       "</style>\n",
       "<table border=\"1\" class=\"dataframe\">\n",
       "  <thead>\n",
       "    <tr style=\"text-align: right;\">\n",
       "      <th></th>\n",
       "      <th>id</th>\n",
       "      <th>entity_id</th>\n",
       "      <th>name</th>\n",
       "      <th>category_code</th>\n",
       "      <th>status</th>\n",
       "      <th>founded_at</th>\n",
       "      <th>overview</th>\n",
       "      <th>country_code</th>\n",
       "      <th>city</th>\n",
       "      <th>region</th>\n",
       "      <th>funding_rounds</th>\n",
       "      <th>funding_total_usd</th>\n",
       "    </tr>\n",
       "  </thead>\n",
       "  <tbody>\n",
       "    <tr>\n",
       "      <th>0</th>\n",
       "      <td>c:1</td>\n",
       "      <td>1</td>\n",
       "      <td>Wetpaint</td>\n",
       "      <td>web</td>\n",
       "      <td>operating</td>\n",
       "      <td>2005-10-17</td>\n",
       "      <td>Wetpaint is a technology platform company that...</td>\n",
       "      <td>USA</td>\n",
       "      <td>Seattle</td>\n",
       "      <td>Seattle</td>\n",
       "      <td>3</td>\n",
       "      <td>39750000</td>\n",
       "    </tr>\n",
       "    <tr>\n",
       "      <th>1</th>\n",
       "      <td>c:10</td>\n",
       "      <td>10</td>\n",
       "      <td>Flektor</td>\n",
       "      <td>games_video</td>\n",
       "      <td>acquired</td>\n",
       "      <td>NaT</td>\n",
       "      <td>Flektor is a rich-media mash-up platform that ...</td>\n",
       "      <td>USA</td>\n",
       "      <td>Culver City</td>\n",
       "      <td>Los Angeles</td>\n",
       "      <td>0</td>\n",
       "      <td>0</td>\n",
       "    </tr>\n",
       "  </tbody>\n",
       "</table>\n",
       "</div>"
      ],
      "text/plain": [
       "     id  entity_id      name category_code     status founded_at  \\\n",
       "0   c:1          1  Wetpaint           web  operating 2005-10-17   \n",
       "1  c:10         10   Flektor   games_video   acquired        NaT   \n",
       "\n",
       "                                            overview country_code  \\\n",
       "0  Wetpaint is a technology platform company that...          USA   \n",
       "1  Flektor is a rich-media mash-up platform that ...          USA   \n",
       "\n",
       "          city       region  funding_rounds  funding_total_usd  \n",
       "0      Seattle      Seattle               3           39750000  \n",
       "1  Culver City  Los Angeles               0                  0  "
      ]
     },
     "execution_count": 15,
     "metadata": {},
     "output_type": "execute_result"
    }
   ],
   "source": [
    "# Drop [\"investment_rounds\", \"invested_companies\"] due to >90% missing data\n",
    "\n",
    "company.drop(columns=[\"investment_rounds\", \"invested_companies\"], inplace=True)\n",
    "print(\"Total # of rows and columns = \", company.shape)\n",
    "company.head(2)"
   ]
  },
  {
   "cell_type": "code",
   "execution_count": 16,
   "metadata": {
    "id": "36Q3GONWtvUA"
   },
   "outputs": [],
   "source": [
    "company.to_csv(\"Startup Investment Dataset/updated_Mf_company_2.csv\", index=False)"
   ]
  },
  {
   "cell_type": "markdown",
   "metadata": {
    "id": "T0Zup4zsn7Zd"
   },
   "source": [
    "Merge company data with relationships data to get updated company 'founded_at' dates (Fill missing data)"
   ]
  },
  {
   "cell_type": "code",
   "execution_count": 17,
   "metadata": {
    "colab": {
     "base_uri": "https://localhost:8080/",
     "height": 129
    },
    "executionInfo": {
     "elapsed": 1081,
     "status": "ok",
     "timestamp": 1639781889757,
     "user": {
      "displayName": "Mrunali Ghelani",
      "photoUrl": "https://lh3.googleusercontent.com/a-/AOh14GjIXk9MqqJDkKwFaLcC47jG7SgRsARhiVlw-D9atD8=s64",
      "userId": "13430289795696458228"
     },
     "user_tz": 480
    },
    "id": "Cdm2MqCKGaj9",
    "outputId": "cf4c054d-cd95-475f-be87-d58388e69641"
   },
   "outputs": [
    {
     "name": "stdout",
     "output_type": "stream",
     "text": [
      "Total # of rows and columns =  (206995, 2)\n"
     ]
    },
    {
     "data": {
      "text/html": [
       "<div>\n",
       "<style scoped>\n",
       "    .dataframe tbody tr th:only-of-type {\n",
       "        vertical-align: middle;\n",
       "    }\n",
       "\n",
       "    .dataframe tbody tr th {\n",
       "        vertical-align: top;\n",
       "    }\n",
       "\n",
       "    .dataframe thead th {\n",
       "        text-align: right;\n",
       "    }\n",
       "</style>\n",
       "<table border=\"1\" class=\"dataframe\">\n",
       "  <thead>\n",
       "    <tr style=\"text-align: right;\">\n",
       "      <th></th>\n",
       "      <th>relationship_object_id</th>\n",
       "      <th>start_at</th>\n",
       "    </tr>\n",
       "  </thead>\n",
       "  <tbody>\n",
       "    <tr>\n",
       "      <th>3</th>\n",
       "      <td>c:3</td>\n",
       "      <td>2006-03-01</td>\n",
       "    </tr>\n",
       "    <tr>\n",
       "      <th>4</th>\n",
       "      <td>c:4</td>\n",
       "      <td>2005-07-01</td>\n",
       "    </tr>\n",
       "  </tbody>\n",
       "</table>\n",
       "</div>"
      ],
      "text/plain": [
       "  relationship_object_id   start_at\n",
       "3                    c:3 2006-03-01\n",
       "4                    c:4 2005-07-01"
      ]
     },
     "execution_count": 17,
     "metadata": {},
     "output_type": "execute_result"
    }
   ],
   "source": [
    "rs = pd.read_csv(\"Startup Investment Dataset/relationships.csv\", usecols=[\"start_at\",\"relationship_object_id\"])\n",
    "rs.dropna(inplace= True)\n",
    "rs[\"start_at\"] = pd.to_datetime(rs[\"start_at\"])\n",
    "print(\"Total # of rows and columns = \", rs.shape)\n",
    "rs.head(2)"
   ]
  },
  {
   "cell_type": "code",
   "execution_count": 18,
   "metadata": {
    "colab": {
     "base_uri": "https://localhost:8080/"
    },
    "executionInfo": {
     "elapsed": 187,
     "status": "ok",
     "timestamp": 1639781891136,
     "user": {
      "displayName": "Mrunali Ghelani",
      "photoUrl": "https://lh3.googleusercontent.com/a-/AOh14GjIXk9MqqJDkKwFaLcC47jG7SgRsARhiVlw-D9atD8=s64",
      "userId": "13430289795696458228"
     },
     "user_tz": 480
    },
    "id": "h7H0vY8mQxEl",
    "outputId": "304b8f82-dc54-42fe-b5e9-83eec1c56e10"
   },
   "outputs": [
    {
     "name": "stdout",
     "output_type": "stream",
     "text": [
      "<class 'pandas.core.frame.DataFrame'>\n",
      "Int64Index: 206995 entries, 3 to 402873\n",
      "Data columns (total 2 columns):\n",
      " #   Column                  Non-Null Count   Dtype         \n",
      "---  ------                  --------------   -----         \n",
      " 0   relationship_object_id  206995 non-null  object        \n",
      " 1   start_at                206995 non-null  datetime64[ns]\n",
      "dtypes: datetime64[ns](1), object(1)\n",
      "memory usage: 4.7+ MB\n"
     ]
    }
   ],
   "source": [
    "rs.info()"
   ]
  },
  {
   "cell_type": "code",
   "execution_count": 19,
   "metadata": {
    "colab": {
     "base_uri": "https://localhost:8080/",
     "height": 161
    },
    "executionInfo": {
     "elapsed": 660,
     "status": "ok",
     "timestamp": 1639781977452,
     "user": {
      "displayName": "Mrunali Ghelani",
      "photoUrl": "https://lh3.googleusercontent.com/a-/AOh14GjIXk9MqqJDkKwFaLcC47jG7SgRsARhiVlw-D9atD8=s64",
      "userId": "13430289795696458228"
     },
     "user_tz": 480
    },
    "id": "NO5rK8EPQw_V",
    "outputId": "628e7a00-cac0-4cfe-cc5c-b981b8552f05"
   },
   "outputs": [
    {
     "name": "stdout",
     "output_type": "stream",
     "text": [
      "(193680, 2)\n"
     ]
    },
    {
     "data": {
      "text/html": [
       "<div>\n",
       "<style scoped>\n",
       "    .dataframe tbody tr th:only-of-type {\n",
       "        vertical-align: middle;\n",
       "    }\n",
       "\n",
       "    .dataframe tbody tr th {\n",
       "        vertical-align: top;\n",
       "    }\n",
       "\n",
       "    .dataframe thead th {\n",
       "        text-align: right;\n",
       "    }\n",
       "</style>\n",
       "<table border=\"1\" class=\"dataframe\">\n",
       "  <thead>\n",
       "    <tr style=\"text-align: right;\">\n",
       "      <th></th>\n",
       "      <th>start_at</th>\n",
       "    </tr>\n",
       "    <tr>\n",
       "      <th>relationship_object_id</th>\n",
       "      <th></th>\n",
       "    </tr>\n",
       "  </thead>\n",
       "  <tbody>\n",
       "    <tr>\n",
       "      <th>c:1</th>\n",
       "      <td>2005-10-01</td>\n",
       "    </tr>\n",
       "    <tr>\n",
       "      <th>c:10</th>\n",
       "      <td>2006-05-01</td>\n",
       "    </tr>\n",
       "  </tbody>\n",
       "</table>\n",
       "</div>"
      ],
      "text/plain": [
       "                         start_at\n",
       "relationship_object_id           \n",
       "c:1                    2005-10-01\n",
       "c:10                   2006-05-01"
      ]
     },
     "execution_count": 19,
     "metadata": {},
     "output_type": "execute_result"
    }
   ],
   "source": [
    "# Filter company IDs only, and select earliest date from multiple dates for each company (if applicable)\n",
    "\n",
    "rs = rs[rs[\"relationship_object_id\"].str.startswith(\"c:\")]\n",
    "print(rs.shape)\n",
    "rs = rs.groupby(['relationship_object_id']).agg({'start_at': [np.min]})\n",
    "rs.columns=[\"start_at\"]\n",
    "rs.head(2)"
   ]
  },
  {
   "cell_type": "code",
   "execution_count": 20,
   "metadata": {
    "colab": {
     "base_uri": "https://localhost:8080/",
     "height": 191
    },
    "executionInfo": {
     "elapsed": 442,
     "status": "ok",
     "timestamp": 1639782016381,
     "user": {
      "displayName": "Mrunali Ghelani",
      "photoUrl": "https://lh3.googleusercontent.com/a-/AOh14GjIXk9MqqJDkKwFaLcC47jG7SgRsARhiVlw-D9atD8=s64",
      "userId": "13430289795696458228"
     },
     "user_tz": 480
    },
    "id": "CqMNsRVZRetM",
    "outputId": "3c2da081-a5ec-4f10-a91f-6ceb590e727b"
   },
   "outputs": [
    {
     "data": {
      "text/html": [
       "<div>\n",
       "<style scoped>\n",
       "    .dataframe tbody tr th:only-of-type {\n",
       "        vertical-align: middle;\n",
       "    }\n",
       "\n",
       "    .dataframe tbody tr th {\n",
       "        vertical-align: top;\n",
       "    }\n",
       "\n",
       "    .dataframe thead th {\n",
       "        text-align: right;\n",
       "    }\n",
       "</style>\n",
       "<table border=\"1\" class=\"dataframe\">\n",
       "  <thead>\n",
       "    <tr style=\"text-align: right;\">\n",
       "      <th></th>\n",
       "      <th>id</th>\n",
       "      <th>entity_id</th>\n",
       "      <th>name</th>\n",
       "      <th>category_code</th>\n",
       "      <th>status</th>\n",
       "      <th>founded_at</th>\n",
       "      <th>overview</th>\n",
       "      <th>country_code</th>\n",
       "      <th>city</th>\n",
       "      <th>region</th>\n",
       "      <th>funding_rounds</th>\n",
       "      <th>funding_total_usd</th>\n",
       "      <th>start_at</th>\n",
       "    </tr>\n",
       "  </thead>\n",
       "  <tbody>\n",
       "    <tr>\n",
       "      <th>0</th>\n",
       "      <td>c:1</td>\n",
       "      <td>1</td>\n",
       "      <td>Wetpaint</td>\n",
       "      <td>web</td>\n",
       "      <td>operating</td>\n",
       "      <td>2005-10-17</td>\n",
       "      <td>Wetpaint is a technology platform company that...</td>\n",
       "      <td>USA</td>\n",
       "      <td>Seattle</td>\n",
       "      <td>Seattle</td>\n",
       "      <td>3</td>\n",
       "      <td>39750000</td>\n",
       "      <td>2005-10-01</td>\n",
       "    </tr>\n",
       "    <tr>\n",
       "      <th>1</th>\n",
       "      <td>c:10</td>\n",
       "      <td>10</td>\n",
       "      <td>Flektor</td>\n",
       "      <td>games_video</td>\n",
       "      <td>acquired</td>\n",
       "      <td>NaT</td>\n",
       "      <td>Flektor is a rich-media mash-up platform that ...</td>\n",
       "      <td>USA</td>\n",
       "      <td>Culver City</td>\n",
       "      <td>Los Angeles</td>\n",
       "      <td>0</td>\n",
       "      <td>0</td>\n",
       "      <td>2006-05-01</td>\n",
       "    </tr>\n",
       "  </tbody>\n",
       "</table>\n",
       "</div>"
      ],
      "text/plain": [
       "     id  entity_id      name category_code     status founded_at  \\\n",
       "0   c:1          1  Wetpaint           web  operating 2005-10-17   \n",
       "1  c:10         10   Flektor   games_video   acquired        NaT   \n",
       "\n",
       "                                            overview country_code  \\\n",
       "0  Wetpaint is a technology platform company that...          USA   \n",
       "1  Flektor is a rich-media mash-up platform that ...          USA   \n",
       "\n",
       "          city       region  funding_rounds  funding_total_usd   start_at  \n",
       "0      Seattle      Seattle               3           39750000 2005-10-01  \n",
       "1  Culver City  Los Angeles               0                  0 2006-05-01  "
      ]
     },
     "execution_count": 20,
     "metadata": {},
     "output_type": "execute_result"
    }
   ],
   "source": [
    "company_2 = company.merge(rs, left_on = \"id\", right_on = \"relationship_object_id\",how= \"left\")\n",
    "company_2.head(2)"
   ]
  },
  {
   "cell_type": "code",
   "execution_count": 21,
   "metadata": {
    "colab": {
     "base_uri": "https://localhost:8080/"
    },
    "executionInfo": {
     "elapsed": 3,
     "status": "ok",
     "timestamp": 1639782017025,
     "user": {
      "displayName": "Mrunali Ghelani",
      "photoUrl": "https://lh3.googleusercontent.com/a-/AOh14GjIXk9MqqJDkKwFaLcC47jG7SgRsARhiVlw-D9atD8=s64",
      "userId": "13430289795696458228"
     },
     "user_tz": 480
    },
    "id": "nyRlgO3UReql",
    "outputId": "a3892b57-1e81-4e68-a8d0-1651358a6a4d"
   },
   "outputs": [
    {
     "data": {
      "text/plain": [
       "id                    0.000000\n",
       "entity_id             0.000000\n",
       "name                  0.000000\n",
       "category_code        37.326828\n",
       "status                0.000000\n",
       "founded_at           53.586564\n",
       "overview             35.362981\n",
       "country_code         55.233448\n",
       "city                 57.316347\n",
       "region                0.000000\n",
       "funding_rounds        0.000000\n",
       "funding_total_usd     0.000000\n",
       "start_at             56.540475\n",
       "Final_Start_at       30.212207\n",
       "dtype: float64"
      ]
     },
     "execution_count": 21,
     "metadata": {},
     "output_type": "execute_result"
    }
   ],
   "source": [
    "company_2[\"Final_Start_at\"] = company_2['founded_at'].where(company_2['founded_at'].notnull(),company_2[\"start_at\"])\n",
    "company_2.isna().sum()/len(company_2) * 100"
   ]
  },
  {
   "cell_type": "markdown",
   "metadata": {
    "id": "B5MnHb0IoEC8"
   },
   "source": [
    "We see that we have only 30% missing data now in final start date, instead of 53% in founded at dates"
   ]
  },
  {
   "cell_type": "code",
   "execution_count": 22,
   "metadata": {
    "colab": {
     "base_uri": "https://localhost:8080/",
     "height": 354
    },
    "executionInfo": {
     "elapsed": 207,
     "status": "ok",
     "timestamp": 1639782077286,
     "user": {
      "displayName": "Mrunali Ghelani",
      "photoUrl": "https://lh3.googleusercontent.com/a-/AOh14GjIXk9MqqJDkKwFaLcC47jG7SgRsARhiVlw-D9atD8=s64",
      "userId": "13430289795696458228"
     },
     "user_tz": 480
    },
    "id": "pbF3ELes6BEQ",
    "outputId": "8a14d54e-18e4-40e1-9723-d59c1eaed8fb"
   },
   "outputs": [
    {
     "data": {
      "text/html": [
       "<div>\n",
       "<style scoped>\n",
       "    .dataframe tbody tr th:only-of-type {\n",
       "        vertical-align: middle;\n",
       "    }\n",
       "\n",
       "    .dataframe tbody tr th {\n",
       "        vertical-align: top;\n",
       "    }\n",
       "\n",
       "    .dataframe thead th {\n",
       "        text-align: right;\n",
       "    }\n",
       "</style>\n",
       "<table border=\"1\" class=\"dataframe\">\n",
       "  <thead>\n",
       "    <tr style=\"text-align: right;\">\n",
       "      <th></th>\n",
       "      <th>id</th>\n",
       "      <th>entity_id</th>\n",
       "      <th>name</th>\n",
       "      <th>category_code</th>\n",
       "      <th>status</th>\n",
       "      <th>overview</th>\n",
       "      <th>country_code</th>\n",
       "      <th>city</th>\n",
       "      <th>region</th>\n",
       "      <th>funding_rounds</th>\n",
       "      <th>funding_total_usd</th>\n",
       "      <th>founded_at</th>\n",
       "    </tr>\n",
       "  </thead>\n",
       "  <tbody>\n",
       "    <tr>\n",
       "      <th>0</th>\n",
       "      <td>c:1</td>\n",
       "      <td>1</td>\n",
       "      <td>Wetpaint</td>\n",
       "      <td>web</td>\n",
       "      <td>operating</td>\n",
       "      <td>Wetpaint is a technology platform company that...</td>\n",
       "      <td>USA</td>\n",
       "      <td>Seattle</td>\n",
       "      <td>Seattle</td>\n",
       "      <td>3</td>\n",
       "      <td>39750000</td>\n",
       "      <td>2005-10-17</td>\n",
       "    </tr>\n",
       "    <tr>\n",
       "      <th>1</th>\n",
       "      <td>c:10</td>\n",
       "      <td>10</td>\n",
       "      <td>Flektor</td>\n",
       "      <td>games_video</td>\n",
       "      <td>acquired</td>\n",
       "      <td>Flektor is a rich-media mash-up platform that ...</td>\n",
       "      <td>USA</td>\n",
       "      <td>Culver City</td>\n",
       "      <td>Los Angeles</td>\n",
       "      <td>0</td>\n",
       "      <td>0</td>\n",
       "      <td>2006-05-01</td>\n",
       "    </tr>\n",
       "    <tr>\n",
       "      <th>2</th>\n",
       "      <td>c:100</td>\n",
       "      <td>100</td>\n",
       "      <td>There</td>\n",
       "      <td>games_video</td>\n",
       "      <td>acquired</td>\n",
       "      <td>There.com is an online virtual world where any...</td>\n",
       "      <td>USA</td>\n",
       "      <td>San Mateo</td>\n",
       "      <td>SF Bay</td>\n",
       "      <td>0</td>\n",
       "      <td>0</td>\n",
       "      <td>1999-01-01</td>\n",
       "    </tr>\n",
       "    <tr>\n",
       "      <th>3</th>\n",
       "      <td>c:10000</td>\n",
       "      <td>10000</td>\n",
       "      <td>MYWEBBO</td>\n",
       "      <td>network_hosting</td>\n",
       "      <td>operating</td>\n",
       "      <td>BRAND NEW ONLINE SOCIAL NETWORKING WEBSITE,FOR...</td>\n",
       "      <td>NaN</td>\n",
       "      <td>NaN</td>\n",
       "      <td>unknown</td>\n",
       "      <td>0</td>\n",
       "      <td>0</td>\n",
       "      <td>2008-07-26</td>\n",
       "    </tr>\n",
       "    <tr>\n",
       "      <th>4</th>\n",
       "      <td>c:10001</td>\n",
       "      <td>10001</td>\n",
       "      <td>THE Movie Streamer</td>\n",
       "      <td>games_video</td>\n",
       "      <td>operating</td>\n",
       "      <td>This company shows free movies online on their...</td>\n",
       "      <td>NaN</td>\n",
       "      <td>NaN</td>\n",
       "      <td>unknown</td>\n",
       "      <td>0</td>\n",
       "      <td>0</td>\n",
       "      <td>2008-07-26</td>\n",
       "    </tr>\n",
       "  </tbody>\n",
       "</table>\n",
       "</div>"
      ],
      "text/plain": [
       "        id  entity_id                name    category_code     status  \\\n",
       "0      c:1          1            Wetpaint              web  operating   \n",
       "1     c:10         10             Flektor      games_video   acquired   \n",
       "2    c:100        100               There      games_video   acquired   \n",
       "3  c:10000      10000             MYWEBBO  network_hosting  operating   \n",
       "4  c:10001      10001  THE Movie Streamer      games_video  operating   \n",
       "\n",
       "                                            overview country_code  \\\n",
       "0  Wetpaint is a technology platform company that...          USA   \n",
       "1  Flektor is a rich-media mash-up platform that ...          USA   \n",
       "2  There.com is an online virtual world where any...          USA   \n",
       "3  BRAND NEW ONLINE SOCIAL NETWORKING WEBSITE,FOR...          NaN   \n",
       "4  This company shows free movies online on their...          NaN   \n",
       "\n",
       "          city       region  funding_rounds  funding_total_usd founded_at  \n",
       "0      Seattle      Seattle               3           39750000 2005-10-17  \n",
       "1  Culver City  Los Angeles               0                  0 2006-05-01  \n",
       "2    San Mateo       SF Bay               0                  0 1999-01-01  \n",
       "3          NaN      unknown               0                  0 2008-07-26  \n",
       "4          NaN      unknown               0                  0 2008-07-26  "
      ]
     },
     "execution_count": 22,
     "metadata": {},
     "output_type": "execute_result"
    }
   ],
   "source": [
    "company_2.drop(columns=[\"founded_at\", \"start_at\"], inplace=True)\n",
    "company_2.rename(columns={\"Final_Start_at\": \"founded_at\"}, inplace=True)\n",
    "company_2.head()"
   ]
  },
  {
   "cell_type": "code",
   "execution_count": 23,
   "metadata": {
    "colab": {
     "base_uri": "https://localhost:8080/",
     "height": 350
    },
    "executionInfo": {
     "elapsed": 401,
     "status": "ok",
     "timestamp": 1639782098667,
     "user": {
      "displayName": "Mrunali Ghelani",
      "photoUrl": "https://lh3.googleusercontent.com/a-/AOh14GjIXk9MqqJDkKwFaLcC47jG7SgRsARhiVlw-D9atD8=s64",
      "userId": "13430289795696458228"
     },
     "user_tz": 480
    },
    "id": "xbCMZFteS4-n",
    "outputId": "73a51b3a-296f-4487-d4d8-33b3c676a47a"
   },
   "outputs": [
    {
     "data": {
      "text/html": [
       "<div>\n",
       "<style scoped>\n",
       "    .dataframe tbody tr th:only-of-type {\n",
       "        vertical-align: middle;\n",
       "    }\n",
       "\n",
       "    .dataframe tbody tr th {\n",
       "        vertical-align: top;\n",
       "    }\n",
       "\n",
       "    .dataframe thead th {\n",
       "        text-align: right;\n",
       "    }\n",
       "</style>\n",
       "<table border=\"1\" class=\"dataframe\">\n",
       "  <thead>\n",
       "    <tr style=\"text-align: right;\">\n",
       "      <th></th>\n",
       "      <th>id</th>\n",
       "      <th>entity_id</th>\n",
       "      <th>name</th>\n",
       "      <th>category_code</th>\n",
       "      <th>status</th>\n",
       "      <th>overview</th>\n",
       "      <th>country_code</th>\n",
       "      <th>city</th>\n",
       "      <th>region</th>\n",
       "      <th>funding_rounds</th>\n",
       "      <th>funding_total_usd</th>\n",
       "      <th>founded_at</th>\n",
       "      <th>founded_year</th>\n",
       "      <th>founded_month</th>\n",
       "      <th>founded_month_year</th>\n",
       "    </tr>\n",
       "  </thead>\n",
       "  <tbody>\n",
       "    <tr>\n",
       "      <th>0</th>\n",
       "      <td>c:1</td>\n",
       "      <td>1</td>\n",
       "      <td>Wetpaint</td>\n",
       "      <td>web</td>\n",
       "      <td>operating</td>\n",
       "      <td>Wetpaint is a technology platform company that...</td>\n",
       "      <td>USA</td>\n",
       "      <td>Seattle</td>\n",
       "      <td>Seattle</td>\n",
       "      <td>3</td>\n",
       "      <td>39750000</td>\n",
       "      <td>2005-10-17</td>\n",
       "      <td>2005.0</td>\n",
       "      <td>10.0</td>\n",
       "      <td>2005-10</td>\n",
       "    </tr>\n",
       "    <tr>\n",
       "      <th>1</th>\n",
       "      <td>c:10</td>\n",
       "      <td>10</td>\n",
       "      <td>Flektor</td>\n",
       "      <td>games_video</td>\n",
       "      <td>acquired</td>\n",
       "      <td>Flektor is a rich-media mash-up platform that ...</td>\n",
       "      <td>USA</td>\n",
       "      <td>Culver City</td>\n",
       "      <td>Los Angeles</td>\n",
       "      <td>0</td>\n",
       "      <td>0</td>\n",
       "      <td>2006-05-01</td>\n",
       "      <td>2006.0</td>\n",
       "      <td>5.0</td>\n",
       "      <td>2006-05</td>\n",
       "    </tr>\n",
       "  </tbody>\n",
       "</table>\n",
       "</div>"
      ],
      "text/plain": [
       "     id  entity_id      name category_code     status  \\\n",
       "0   c:1          1  Wetpaint           web  operating   \n",
       "1  c:10         10   Flektor   games_video   acquired   \n",
       "\n",
       "                                            overview country_code  \\\n",
       "0  Wetpaint is a technology platform company that...          USA   \n",
       "1  Flektor is a rich-media mash-up platform that ...          USA   \n",
       "\n",
       "          city       region  funding_rounds  funding_total_usd founded_at  \\\n",
       "0      Seattle      Seattle               3           39750000 2005-10-17   \n",
       "1  Culver City  Los Angeles               0                  0 2006-05-01   \n",
       "\n",
       "   founded_year  founded_month founded_month_year  \n",
       "0        2005.0           10.0            2005-10  \n",
       "1        2006.0            5.0            2006-05  "
      ]
     },
     "execution_count": 23,
     "metadata": {},
     "output_type": "execute_result"
    }
   ],
   "source": [
    "# Creating month and year columns\n",
    "\n",
    "company_2[\"founded_year\"] = company_2.founded_at.dt.year\n",
    "company_2[\"founded_month\"] = company_2.founded_at.dt.month\n",
    "company_2['founded_month_year'] = pd.to_datetime(company_2['founded_at']).dt.to_period('M')\n",
    "company_2.head(2)"
   ]
  },
  {
   "cell_type": "code",
   "execution_count": 24,
   "metadata": {
    "colab": {
     "base_uri": "https://localhost:8080/"
    },
    "executionInfo": {
     "elapsed": 149,
     "status": "ok",
     "timestamp": 1639782114188,
     "user": {
      "displayName": "Mrunali Ghelani",
      "photoUrl": "https://lh3.googleusercontent.com/a-/AOh14GjIXk9MqqJDkKwFaLcC47jG7SgRsARhiVlw-D9atD8=s64",
      "userId": "13430289795696458228"
     },
     "user_tz": 480
    },
    "id": "fVZIHopE3dOB",
    "outputId": "dba0a8a7-11d3-4957-88ad-91451551b1ea"
   },
   "outputs": [
    {
     "name": "stdout",
     "output_type": "stream",
     "text": [
      "<class 'pandas.core.frame.DataFrame'>\n",
      "Int64Index: 196553 entries, 0 to 196552\n",
      "Data columns (total 15 columns):\n",
      " #   Column              Non-Null Count   Dtype         \n",
      "---  ------              --------------   -----         \n",
      " 0   id                  196553 non-null  object        \n",
      " 1   entity_id           196553 non-null  int64         \n",
      " 2   name                196553 non-null  object        \n",
      " 3   category_code       123186 non-null  object        \n",
      " 4   status              196553 non-null  object        \n",
      " 5   overview            127046 non-null  object        \n",
      " 6   country_code        87990 non-null   object        \n",
      " 7   city                83896 non-null   object        \n",
      " 8   region              196553 non-null  object        \n",
      " 9   funding_rounds      196553 non-null  int64         \n",
      " 10  funding_total_usd   196553 non-null  int64         \n",
      " 11  founded_at          137170 non-null  datetime64[ns]\n",
      " 12  founded_year        137170 non-null  float64       \n",
      " 13  founded_month       137170 non-null  float64       \n",
      " 14  founded_month_year  137170 non-null  period[M]     \n",
      "dtypes: datetime64[ns](1), float64(2), int64(3), object(8), period[M](1)\n",
      "memory usage: 24.0+ MB\n"
     ]
    }
   ],
   "source": [
    "company_2.info()"
   ]
  },
  {
   "cell_type": "code",
   "execution_count": 25,
   "metadata": {
    "id": "oQKmOu6pX6gr"
   },
   "outputs": [],
   "source": [
    "company_2.to_csv(\"Startup Investment Dataset/updated_Mf_company_3.csv\", index=False)"
   ]
  },
  {
   "cell_type": "markdown",
   "metadata": {
    "id": "v8bmFsnhxA4f"
   },
   "source": [
    "### Cleaning funds and funding rounds datasets"
   ]
  },
  {
   "cell_type": "code",
   "execution_count": 26,
   "metadata": {
    "id": "WqPvXcn9xFcX"
   },
   "outputs": [
    {
     "data": {
      "text/html": [
       "<div>\n",
       "<style scoped>\n",
       "    .dataframe tbody tr th:only-of-type {\n",
       "        vertical-align: middle;\n",
       "    }\n",
       "\n",
       "    .dataframe tbody tr th {\n",
       "        vertical-align: top;\n",
       "    }\n",
       "\n",
       "    .dataframe thead th {\n",
       "        text-align: right;\n",
       "    }\n",
       "</style>\n",
       "<table border=\"1\" class=\"dataframe\">\n",
       "  <thead>\n",
       "    <tr style=\"text-align: right;\">\n",
       "      <th></th>\n",
       "      <th>id</th>\n",
       "      <th>fund_id</th>\n",
       "      <th>object_id</th>\n",
       "      <th>name</th>\n",
       "      <th>funded_at</th>\n",
       "      <th>raised_amount</th>\n",
       "      <th>raised_currency_code</th>\n",
       "      <th>source_url</th>\n",
       "      <th>source_description</th>\n",
       "      <th>created_at</th>\n",
       "      <th>updated_at</th>\n",
       "    </tr>\n",
       "  </thead>\n",
       "  <tbody>\n",
       "    <tr>\n",
       "      <th>0</th>\n",
       "      <td>1</td>\n",
       "      <td>1</td>\n",
       "      <td>f:371</td>\n",
       "      <td>Second Fund</td>\n",
       "      <td>12/16/2008</td>\n",
       "      <td>300000000</td>\n",
       "      <td>USD</td>\n",
       "      <td>http://www.pehub.com/26194/dfj-dragon-raising-...</td>\n",
       "      <td>peHub</td>\n",
       "      <td>12/17/2008 3:07</td>\n",
       "      <td>12/17/2008 3:07</td>\n",
       "    </tr>\n",
       "    <tr>\n",
       "      <th>1</th>\n",
       "      <td>4</td>\n",
       "      <td>4</td>\n",
       "      <td>f:17</td>\n",
       "      <td>Sequoia Israel Fourth Fund</td>\n",
       "      <td>12/17/2008</td>\n",
       "      <td>200750000</td>\n",
       "      <td>USD</td>\n",
       "      <td>http://www.pehub.com/26725/sequoia-israel-rais...</td>\n",
       "      <td>Sequoia Israel Raises Fourth Fund</td>\n",
       "      <td>12/18/2008 22:04</td>\n",
       "      <td>12/18/2008 22:04</td>\n",
       "    </tr>\n",
       "    <tr>\n",
       "      <th>2</th>\n",
       "      <td>5</td>\n",
       "      <td>5</td>\n",
       "      <td>f:951</td>\n",
       "      <td>Tenth fund</td>\n",
       "      <td>8/11/2008</td>\n",
       "      <td>650000000</td>\n",
       "      <td>USD</td>\n",
       "      <td>http://venturebeat.com/2008/08/11/interwest-cl...</td>\n",
       "      <td>Venture Beat</td>\n",
       "      <td>12/31/2008 9:47</td>\n",
       "      <td>12/31/2008 9:47</td>\n",
       "    </tr>\n",
       "    <tr>\n",
       "      <th>3</th>\n",
       "      <td>6</td>\n",
       "      <td>6</td>\n",
       "      <td>f:192</td>\n",
       "      <td>New funds acquire</td>\n",
       "      <td>NaN</td>\n",
       "      <td>625000000</td>\n",
       "      <td>USD</td>\n",
       "      <td>http://venturebeat.com/2008/07/28/us-venture-p...</td>\n",
       "      <td>U.S. Venture Partners raises $625M fund for ne...</td>\n",
       "      <td>1/1/2009 18:13</td>\n",
       "      <td>1/1/2009 18:16</td>\n",
       "    </tr>\n",
       "    <tr>\n",
       "      <th>4</th>\n",
       "      <td>7</td>\n",
       "      <td>7</td>\n",
       "      <td>f:519</td>\n",
       "      <td>Third fund</td>\n",
       "      <td>5/20/2008</td>\n",
       "      <td>200000000</td>\n",
       "      <td>USD</td>\n",
       "      <td>http://venturebeat.com/2008/05/20/disneys-stea...</td>\n",
       "      <td>Venture Beat</td>\n",
       "      <td>1/3/2009 9:51</td>\n",
       "      <td>9/3/2013 16:34</td>\n",
       "    </tr>\n",
       "  </tbody>\n",
       "</table>\n",
       "</div>"
      ],
      "text/plain": [
       "   id  fund_id object_id                        name   funded_at  \\\n",
       "0   1        1     f:371                 Second Fund  12/16/2008   \n",
       "1   4        4      f:17  Sequoia Israel Fourth Fund  12/17/2008   \n",
       "2   5        5     f:951                  Tenth fund   8/11/2008   \n",
       "3   6        6     f:192           New funds acquire         NaN   \n",
       "4   7        7     f:519                  Third fund   5/20/2008   \n",
       "\n",
       "   raised_amount raised_currency_code  \\\n",
       "0      300000000                  USD   \n",
       "1      200750000                  USD   \n",
       "2      650000000                  USD   \n",
       "3      625000000                  USD   \n",
       "4      200000000                  USD   \n",
       "\n",
       "                                          source_url  \\\n",
       "0  http://www.pehub.com/26194/dfj-dragon-raising-...   \n",
       "1  http://www.pehub.com/26725/sequoia-israel-rais...   \n",
       "2  http://venturebeat.com/2008/08/11/interwest-cl...   \n",
       "3  http://venturebeat.com/2008/07/28/us-venture-p...   \n",
       "4  http://venturebeat.com/2008/05/20/disneys-stea...   \n",
       "\n",
       "                                  source_description        created_at  \\\n",
       "0                                              peHub   12/17/2008 3:07   \n",
       "1                  Sequoia Israel Raises Fourth Fund  12/18/2008 22:04   \n",
       "2                                       Venture Beat   12/31/2008 9:47   \n",
       "3  U.S. Venture Partners raises $625M fund for ne...    1/1/2009 18:13   \n",
       "4                                       Venture Beat     1/3/2009 9:51   \n",
       "\n",
       "         updated_at  \n",
       "0   12/17/2008 3:07  \n",
       "1  12/18/2008 22:04  \n",
       "2   12/31/2008 9:47  \n",
       "3    1/1/2009 18:16  \n",
       "4    9/3/2013 16:34  "
      ]
     },
     "execution_count": 26,
     "metadata": {},
     "output_type": "execute_result"
    }
   ],
   "source": [
    "funds = pd.read_csv(\"Startup Investment Dataset/funds.csv\")\n",
    "funds.head()"
   ]
  },
  {
   "cell_type": "code",
   "execution_count": 27,
   "metadata": {},
   "outputs": [
    {
     "name": "stdout",
     "output_type": "stream",
     "text": [
      "(1296, 12)\n"
     ]
    },
    {
     "data": {
      "text/html": [
       "<div>\n",
       "<style scoped>\n",
       "    .dataframe tbody tr th:only-of-type {\n",
       "        vertical-align: middle;\n",
       "    }\n",
       "\n",
       "    .dataframe tbody tr th {\n",
       "        vertical-align: top;\n",
       "    }\n",
       "\n",
       "    .dataframe thead th {\n",
       "        text-align: right;\n",
       "    }\n",
       "</style>\n",
       "<table border=\"1\" class=\"dataframe\">\n",
       "  <thead>\n",
       "    <tr style=\"text-align: right;\">\n",
       "      <th></th>\n",
       "      <th>id</th>\n",
       "      <th>fund_id</th>\n",
       "      <th>object_id</th>\n",
       "      <th>name</th>\n",
       "      <th>funded_at</th>\n",
       "      <th>raised_amount</th>\n",
       "      <th>raised_currency_code</th>\n",
       "      <th>source_url</th>\n",
       "      <th>source_description</th>\n",
       "      <th>created_at</th>\n",
       "      <th>updated_at</th>\n",
       "      <th>amt_USD</th>\n",
       "    </tr>\n",
       "  </thead>\n",
       "  <tbody>\n",
       "    <tr>\n",
       "      <th>0</th>\n",
       "      <td>1</td>\n",
       "      <td>1</td>\n",
       "      <td>f:371</td>\n",
       "      <td>Second Fund</td>\n",
       "      <td>12/16/2008</td>\n",
       "      <td>300000000</td>\n",
       "      <td>USD</td>\n",
       "      <td>http://www.pehub.com/26194/dfj-dragon-raising-...</td>\n",
       "      <td>peHub</td>\n",
       "      <td>12/17/2008 3:07</td>\n",
       "      <td>12/17/2008 3:07</td>\n",
       "      <td>300000000</td>\n",
       "    </tr>\n",
       "    <tr>\n",
       "      <th>1</th>\n",
       "      <td>4</td>\n",
       "      <td>4</td>\n",
       "      <td>f:17</td>\n",
       "      <td>Sequoia Israel Fourth Fund</td>\n",
       "      <td>12/17/2008</td>\n",
       "      <td>200750000</td>\n",
       "      <td>USD</td>\n",
       "      <td>http://www.pehub.com/26725/sequoia-israel-rais...</td>\n",
       "      <td>Sequoia Israel Raises Fourth Fund</td>\n",
       "      <td>12/18/2008 22:04</td>\n",
       "      <td>12/18/2008 22:04</td>\n",
       "      <td>200750000</td>\n",
       "    </tr>\n",
       "    <tr>\n",
       "      <th>2</th>\n",
       "      <td>5</td>\n",
       "      <td>5</td>\n",
       "      <td>f:951</td>\n",
       "      <td>Tenth fund</td>\n",
       "      <td>8/11/2008</td>\n",
       "      <td>650000000</td>\n",
       "      <td>USD</td>\n",
       "      <td>http://venturebeat.com/2008/08/11/interwest-cl...</td>\n",
       "      <td>Venture Beat</td>\n",
       "      <td>12/31/2008 9:47</td>\n",
       "      <td>12/31/2008 9:47</td>\n",
       "      <td>650000000</td>\n",
       "    </tr>\n",
       "    <tr>\n",
       "      <th>3</th>\n",
       "      <td>6</td>\n",
       "      <td>6</td>\n",
       "      <td>f:192</td>\n",
       "      <td>New funds acquire</td>\n",
       "      <td>NaN</td>\n",
       "      <td>625000000</td>\n",
       "      <td>USD</td>\n",
       "      <td>http://venturebeat.com/2008/07/28/us-venture-p...</td>\n",
       "      <td>U.S. Venture Partners raises $625M fund for ne...</td>\n",
       "      <td>1/1/2009 18:13</td>\n",
       "      <td>1/1/2009 18:16</td>\n",
       "      <td>625000000</td>\n",
       "    </tr>\n",
       "    <tr>\n",
       "      <th>4</th>\n",
       "      <td>7</td>\n",
       "      <td>7</td>\n",
       "      <td>f:519</td>\n",
       "      <td>Third fund</td>\n",
       "      <td>5/20/2008</td>\n",
       "      <td>200000000</td>\n",
       "      <td>USD</td>\n",
       "      <td>http://venturebeat.com/2008/05/20/disneys-stea...</td>\n",
       "      <td>Venture Beat</td>\n",
       "      <td>1/3/2009 9:51</td>\n",
       "      <td>9/3/2013 16:34</td>\n",
       "      <td>200000000</td>\n",
       "    </tr>\n",
       "  </tbody>\n",
       "</table>\n",
       "</div>"
      ],
      "text/plain": [
       "   id  fund_id object_id                        name   funded_at  \\\n",
       "0   1        1     f:371                 Second Fund  12/16/2008   \n",
       "1   4        4      f:17  Sequoia Israel Fourth Fund  12/17/2008   \n",
       "2   5        5     f:951                  Tenth fund   8/11/2008   \n",
       "3   6        6     f:192           New funds acquire         NaN   \n",
       "4   7        7     f:519                  Third fund   5/20/2008   \n",
       "\n",
       "   raised_amount raised_currency_code  \\\n",
       "0      300000000                  USD   \n",
       "1      200750000                  USD   \n",
       "2      650000000                  USD   \n",
       "3      625000000                  USD   \n",
       "4      200000000                  USD   \n",
       "\n",
       "                                          source_url  \\\n",
       "0  http://www.pehub.com/26194/dfj-dragon-raising-...   \n",
       "1  http://www.pehub.com/26725/sequoia-israel-rais...   \n",
       "2  http://venturebeat.com/2008/08/11/interwest-cl...   \n",
       "3  http://venturebeat.com/2008/07/28/us-venture-p...   \n",
       "4  http://venturebeat.com/2008/05/20/disneys-stea...   \n",
       "\n",
       "                                  source_description        created_at  \\\n",
       "0                                              peHub   12/17/2008 3:07   \n",
       "1                  Sequoia Israel Raises Fourth Fund  12/18/2008 22:04   \n",
       "2                                       Venture Beat   12/31/2008 9:47   \n",
       "3  U.S. Venture Partners raises $625M fund for ne...    1/1/2009 18:13   \n",
       "4                                       Venture Beat     1/3/2009 9:51   \n",
       "\n",
       "         updated_at    amt_USD  \n",
       "0   12/17/2008 3:07  300000000  \n",
       "1  12/18/2008 22:04  200750000  \n",
       "2   12/31/2008 9:47  650000000  \n",
       "3    1/1/2009 18:16  625000000  \n",
       "4    9/3/2013 16:34  200000000  "
      ]
     },
     "execution_count": 27,
     "metadata": {},
     "output_type": "execute_result"
    }
   ],
   "source": [
    "funds = funds[funds[\"raised_currency_code\"]=='USD']\n",
    "funds[\"amt_USD\"] = funds[\"raised_amount\"]\n",
    "print(funds.shape)\n",
    "funds.head()"
   ]
  },
  {
   "cell_type": "code",
   "execution_count": 28,
   "metadata": {
    "id": "Qz9438uQxFaT"
   },
   "outputs": [
    {
     "name": "stdout",
     "output_type": "stream",
     "text": [
      "<class 'pandas.core.frame.DataFrame'>\n",
      "Int64Index: 1296 entries, 0 to 1563\n",
      "Data columns (total 3 columns):\n",
      " #   Column     Non-Null Count  Dtype \n",
      "---  ------     --------------  ----- \n",
      " 0   object_id  1296 non-null   object\n",
      " 1   name       1296 non-null   object\n",
      " 2   amt_USD    1296 non-null   int64 \n",
      "dtypes: int64(1), object(2)\n",
      "memory usage: 40.5+ KB\n"
     ]
    }
   ],
   "source": [
    "funds.drop(columns=[\"id\", \"fund_id\", \"source_url\",\"source_description\",\"created_at\",\"updated_at\",\n",
    "                    \"raised_currency_code\",\"raised_amount\", \"funded_at\"],inplace=True)\n",
    "\n",
    "funds.info()"
   ]
  },
  {
   "cell_type": "code",
   "execution_count": 29,
   "metadata": {},
   "outputs": [
    {
     "data": {
      "text/html": [
       "<div>\n",
       "<style scoped>\n",
       "    .dataframe tbody tr th:only-of-type {\n",
       "        vertical-align: middle;\n",
       "    }\n",
       "\n",
       "    .dataframe tbody tr th {\n",
       "        vertical-align: top;\n",
       "    }\n",
       "\n",
       "    .dataframe thead th {\n",
       "        text-align: right;\n",
       "    }\n",
       "</style>\n",
       "<table border=\"1\" class=\"dataframe\">\n",
       "  <thead>\n",
       "    <tr style=\"text-align: right;\">\n",
       "      <th></th>\n",
       "      <th>object_id</th>\n",
       "      <th>name</th>\n",
       "      <th>amt_USD</th>\n",
       "    </tr>\n",
       "  </thead>\n",
       "  <tbody>\n",
       "    <tr>\n",
       "      <th>0</th>\n",
       "      <td>f:371</td>\n",
       "      <td>Second Fund</td>\n",
       "      <td>300000000</td>\n",
       "    </tr>\n",
       "    <tr>\n",
       "      <th>1</th>\n",
       "      <td>f:17</td>\n",
       "      <td>Sequoia Israel Fourth Fund</td>\n",
       "      <td>200750000</td>\n",
       "    </tr>\n",
       "    <tr>\n",
       "      <th>2</th>\n",
       "      <td>f:951</td>\n",
       "      <td>Tenth fund</td>\n",
       "      <td>650000000</td>\n",
       "    </tr>\n",
       "    <tr>\n",
       "      <th>3</th>\n",
       "      <td>f:192</td>\n",
       "      <td>New funds acquire</td>\n",
       "      <td>625000000</td>\n",
       "    </tr>\n",
       "    <tr>\n",
       "      <th>4</th>\n",
       "      <td>f:519</td>\n",
       "      <td>Third fund</td>\n",
       "      <td>200000000</td>\n",
       "    </tr>\n",
       "  </tbody>\n",
       "</table>\n",
       "</div>"
      ],
      "text/plain": [
       "  object_id                        name    amt_USD\n",
       "0     f:371                 Second Fund  300000000\n",
       "1      f:17  Sequoia Israel Fourth Fund  200750000\n",
       "2     f:951                  Tenth fund  650000000\n",
       "3     f:192           New funds acquire  625000000\n",
       "4     f:519                  Third fund  200000000"
      ]
     },
     "execution_count": 29,
     "metadata": {},
     "output_type": "execute_result"
    }
   ],
   "source": [
    "funds.head()"
   ]
  },
  {
   "cell_type": "code",
   "execution_count": 30,
   "metadata": {
    "id": "z6p-nC84xFXc"
   },
   "outputs": [],
   "source": [
    "funds.to_csv(\"Startup Investment Dataset/funds_v2.csv\", index=False)"
   ]
  },
  {
   "cell_type": "code",
   "execution_count": 31,
   "metadata": {
    "id": "QocDUauPxScM"
   },
   "outputs": [
    {
     "data": {
      "text/html": [
       "<div>\n",
       "<style scoped>\n",
       "    .dataframe tbody tr th:only-of-type {\n",
       "        vertical-align: middle;\n",
       "    }\n",
       "\n",
       "    .dataframe tbody tr th {\n",
       "        vertical-align: top;\n",
       "    }\n",
       "\n",
       "    .dataframe thead th {\n",
       "        text-align: right;\n",
       "    }\n",
       "</style>\n",
       "<table border=\"1\" class=\"dataframe\">\n",
       "  <thead>\n",
       "    <tr style=\"text-align: right;\">\n",
       "      <th></th>\n",
       "      <th>id</th>\n",
       "      <th>funding_round_id</th>\n",
       "      <th>object_id</th>\n",
       "      <th>funded_at</th>\n",
       "      <th>funding_round_type</th>\n",
       "      <th>funding_round_code</th>\n",
       "      <th>raised_amount_usd</th>\n",
       "      <th>raised_amount</th>\n",
       "      <th>raised_currency_code</th>\n",
       "      <th>pre_money_valuation_usd</th>\n",
       "      <th>...</th>\n",
       "      <th>post_money_valuation</th>\n",
       "      <th>post_money_currency_code</th>\n",
       "      <th>participants</th>\n",
       "      <th>is_first_round</th>\n",
       "      <th>is_last_round</th>\n",
       "      <th>source_url</th>\n",
       "      <th>source_description</th>\n",
       "      <th>created_by</th>\n",
       "      <th>created_at</th>\n",
       "      <th>updated_at</th>\n",
       "    </tr>\n",
       "  </thead>\n",
       "  <tbody>\n",
       "    <tr>\n",
       "      <th>0</th>\n",
       "      <td>1</td>\n",
       "      <td>1</td>\n",
       "      <td>c:4</td>\n",
       "      <td>12/1/2006</td>\n",
       "      <td>series-b</td>\n",
       "      <td>b</td>\n",
       "      <td>8500000</td>\n",
       "      <td>8500000</td>\n",
       "      <td>USD</td>\n",
       "      <td>0</td>\n",
       "      <td>...</td>\n",
       "      <td>0</td>\n",
       "      <td>NaN</td>\n",
       "      <td>2</td>\n",
       "      <td>0</td>\n",
       "      <td>0</td>\n",
       "      <td>http://www.marketingvox.com/archives/2006/12/2...</td>\n",
       "      <td>NaN</td>\n",
       "      <td>initial-importer</td>\n",
       "      <td>7/4/2007 4:52</td>\n",
       "      <td>2/27/2008 23:14</td>\n",
       "    </tr>\n",
       "    <tr>\n",
       "      <th>1</th>\n",
       "      <td>2</td>\n",
       "      <td>2</td>\n",
       "      <td>c:5</td>\n",
       "      <td>9/1/2004</td>\n",
       "      <td>angel</td>\n",
       "      <td>angel</td>\n",
       "      <td>500000</td>\n",
       "      <td>500000</td>\n",
       "      <td>USD</td>\n",
       "      <td>0</td>\n",
       "      <td>...</td>\n",
       "      <td>0</td>\n",
       "      <td>USD</td>\n",
       "      <td>2</td>\n",
       "      <td>0</td>\n",
       "      <td>1</td>\n",
       "      <td>NaN</td>\n",
       "      <td>NaN</td>\n",
       "      <td>initial-importer</td>\n",
       "      <td>5/27/2007 6:08</td>\n",
       "      <td>6/28/2013 20:07</td>\n",
       "    </tr>\n",
       "    <tr>\n",
       "      <th>2</th>\n",
       "      <td>3</td>\n",
       "      <td>3</td>\n",
       "      <td>c:5</td>\n",
       "      <td>5/1/2005</td>\n",
       "      <td>series-a</td>\n",
       "      <td>a</td>\n",
       "      <td>12700000</td>\n",
       "      <td>12700000</td>\n",
       "      <td>USD</td>\n",
       "      <td>115000000</td>\n",
       "      <td>...</td>\n",
       "      <td>0</td>\n",
       "      <td>USD</td>\n",
       "      <td>3</td>\n",
       "      <td>0</td>\n",
       "      <td>0</td>\n",
       "      <td>http://www.techcrunch.com/2007/11/02/jim-breye...</td>\n",
       "      <td>Jim Breyer: Extra $500 Million Round For Faceb...</td>\n",
       "      <td>initial-importer</td>\n",
       "      <td>5/27/2007 6:09</td>\n",
       "      <td>6/28/2013 20:07</td>\n",
       "    </tr>\n",
       "    <tr>\n",
       "      <th>3</th>\n",
       "      <td>4</td>\n",
       "      <td>4</td>\n",
       "      <td>c:5</td>\n",
       "      <td>4/1/2006</td>\n",
       "      <td>series-b</td>\n",
       "      <td>b</td>\n",
       "      <td>27500000</td>\n",
       "      <td>27500000</td>\n",
       "      <td>USD</td>\n",
       "      <td>525000000</td>\n",
       "      <td>...</td>\n",
       "      <td>0</td>\n",
       "      <td>USD</td>\n",
       "      <td>4</td>\n",
       "      <td>0</td>\n",
       "      <td>0</td>\n",
       "      <td>http://www.facebook.com/press/info.php?factsheet</td>\n",
       "      <td>Facebook Funding</td>\n",
       "      <td>initial-importer</td>\n",
       "      <td>5/27/2007 6:09</td>\n",
       "      <td>6/28/2013 20:07</td>\n",
       "    </tr>\n",
       "    <tr>\n",
       "      <th>4</th>\n",
       "      <td>5</td>\n",
       "      <td>5</td>\n",
       "      <td>c:7299</td>\n",
       "      <td>5/1/2006</td>\n",
       "      <td>series-b</td>\n",
       "      <td>b</td>\n",
       "      <td>10500000</td>\n",
       "      <td>10500000</td>\n",
       "      <td>USD</td>\n",
       "      <td>0</td>\n",
       "      <td>...</td>\n",
       "      <td>0</td>\n",
       "      <td>NaN</td>\n",
       "      <td>2</td>\n",
       "      <td>0</td>\n",
       "      <td>0</td>\n",
       "      <td>http://www.techcrunch.com/2006/05/14/photobuck...</td>\n",
       "      <td>PhotoBucket Closes $10.5M From Trinity Ventures</td>\n",
       "      <td>initial-importer</td>\n",
       "      <td>5/29/2007 11:05</td>\n",
       "      <td>4/16/2008 17:09</td>\n",
       "    </tr>\n",
       "  </tbody>\n",
       "</table>\n",
       "<p>5 rows × 23 columns</p>\n",
       "</div>"
      ],
      "text/plain": [
       "   id  funding_round_id object_id  funded_at funding_round_type  \\\n",
       "0   1                 1       c:4  12/1/2006           series-b   \n",
       "1   2                 2       c:5   9/1/2004              angel   \n",
       "2   3                 3       c:5   5/1/2005           series-a   \n",
       "3   4                 4       c:5   4/1/2006           series-b   \n",
       "4   5                 5    c:7299   5/1/2006           series-b   \n",
       "\n",
       "  funding_round_code  raised_amount_usd  raised_amount raised_currency_code  \\\n",
       "0                  b            8500000        8500000                  USD   \n",
       "1              angel             500000         500000                  USD   \n",
       "2                  a           12700000       12700000                  USD   \n",
       "3                  b           27500000       27500000                  USD   \n",
       "4                  b           10500000       10500000                  USD   \n",
       "\n",
       "   pre_money_valuation_usd  ...  post_money_valuation  \\\n",
       "0                        0  ...                     0   \n",
       "1                        0  ...                     0   \n",
       "2                115000000  ...                     0   \n",
       "3                525000000  ...                     0   \n",
       "4                        0  ...                     0   \n",
       "\n",
       "  post_money_currency_code  participants  is_first_round is_last_round  \\\n",
       "0                      NaN             2               0             0   \n",
       "1                      USD             2               0             1   \n",
       "2                      USD             3               0             0   \n",
       "3                      USD             4               0             0   \n",
       "4                      NaN             2               0             0   \n",
       "\n",
       "                                          source_url  \\\n",
       "0  http://www.marketingvox.com/archives/2006/12/2...   \n",
       "1                                                NaN   \n",
       "2  http://www.techcrunch.com/2007/11/02/jim-breye...   \n",
       "3   http://www.facebook.com/press/info.php?factsheet   \n",
       "4  http://www.techcrunch.com/2006/05/14/photobuck...   \n",
       "\n",
       "                                  source_description        created_by  \\\n",
       "0                                                NaN  initial-importer   \n",
       "1                                                NaN  initial-importer   \n",
       "2  Jim Breyer: Extra $500 Million Round For Faceb...  initial-importer   \n",
       "3                                   Facebook Funding  initial-importer   \n",
       "4    PhotoBucket Closes $10.5M From Trinity Ventures  initial-importer   \n",
       "\n",
       "        created_at       updated_at  \n",
       "0    7/4/2007 4:52  2/27/2008 23:14  \n",
       "1   5/27/2007 6:08  6/28/2013 20:07  \n",
       "2   5/27/2007 6:09  6/28/2013 20:07  \n",
       "3   5/27/2007 6:09  6/28/2013 20:07  \n",
       "4  5/29/2007 11:05  4/16/2008 17:09  \n",
       "\n",
       "[5 rows x 23 columns]"
      ]
     },
     "execution_count": 31,
     "metadata": {},
     "output_type": "execute_result"
    }
   ],
   "source": [
    "funding_rounds = pd.read_csv(\"Startup Investment Dataset/funding_rounds.csv\")\n",
    "funding_rounds.head()"
   ]
  },
  {
   "cell_type": "code",
   "execution_count": 32,
   "metadata": {
    "id": "hXxjA-3sxSZh"
   },
   "outputs": [
    {
     "name": "stdout",
     "output_type": "stream",
     "text": [
      "(52928, 6)\n"
     ]
    },
    {
     "data": {
      "text/html": [
       "<div>\n",
       "<style scoped>\n",
       "    .dataframe tbody tr th:only-of-type {\n",
       "        vertical-align: middle;\n",
       "    }\n",
       "\n",
       "    .dataframe tbody tr th {\n",
       "        vertical-align: top;\n",
       "    }\n",
       "\n",
       "    .dataframe thead th {\n",
       "        text-align: right;\n",
       "    }\n",
       "</style>\n",
       "<table border=\"1\" class=\"dataframe\">\n",
       "  <thead>\n",
       "    <tr style=\"text-align: right;\">\n",
       "      <th></th>\n",
       "      <th>funding_round_id</th>\n",
       "      <th>object_id</th>\n",
       "      <th>funded_at</th>\n",
       "      <th>funding_round_type</th>\n",
       "      <th>funding_round_code</th>\n",
       "      <th>raised_amount_usd</th>\n",
       "    </tr>\n",
       "  </thead>\n",
       "  <tbody>\n",
       "    <tr>\n",
       "      <th>0</th>\n",
       "      <td>1</td>\n",
       "      <td>c:4</td>\n",
       "      <td>2006-12-01</td>\n",
       "      <td>series-b</td>\n",
       "      <td>b</td>\n",
       "      <td>8500000</td>\n",
       "    </tr>\n",
       "    <tr>\n",
       "      <th>1</th>\n",
       "      <td>2</td>\n",
       "      <td>c:5</td>\n",
       "      <td>2004-09-01</td>\n",
       "      <td>angel</td>\n",
       "      <td>angel</td>\n",
       "      <td>500000</td>\n",
       "    </tr>\n",
       "    <tr>\n",
       "      <th>2</th>\n",
       "      <td>3</td>\n",
       "      <td>c:5</td>\n",
       "      <td>2005-05-01</td>\n",
       "      <td>series-a</td>\n",
       "      <td>a</td>\n",
       "      <td>12700000</td>\n",
       "    </tr>\n",
       "    <tr>\n",
       "      <th>3</th>\n",
       "      <td>4</td>\n",
       "      <td>c:5</td>\n",
       "      <td>2006-04-01</td>\n",
       "      <td>series-b</td>\n",
       "      <td>b</td>\n",
       "      <td>27500000</td>\n",
       "    </tr>\n",
       "    <tr>\n",
       "      <th>4</th>\n",
       "      <td>5</td>\n",
       "      <td>c:7299</td>\n",
       "      <td>2006-05-01</td>\n",
       "      <td>series-b</td>\n",
       "      <td>b</td>\n",
       "      <td>10500000</td>\n",
       "    </tr>\n",
       "  </tbody>\n",
       "</table>\n",
       "</div>"
      ],
      "text/plain": [
       "   funding_round_id object_id  funded_at funding_round_type  \\\n",
       "0                 1       c:4 2006-12-01           series-b   \n",
       "1                 2       c:5 2004-09-01              angel   \n",
       "2                 3       c:5 2005-05-01           series-a   \n",
       "3                 4       c:5 2006-04-01           series-b   \n",
       "4                 5    c:7299 2006-05-01           series-b   \n",
       "\n",
       "  funding_round_code  raised_amount_usd  \n",
       "0                  b            8500000  \n",
       "1              angel             500000  \n",
       "2                  a           12700000  \n",
       "3                  b           27500000  \n",
       "4                  b           10500000  "
      ]
     },
     "execution_count": 32,
     "metadata": {},
     "output_type": "execute_result"
    }
   ],
   "source": [
    "funding_rounds.drop(columns=['participants','id','post_money_currency_code','post_money_valuation',\n",
    "                             'raised_currency_code','raised_amount','pre_money_currency_code','pre_money_valuation',\n",
    "                             'is_first_round','is_last_round', 'source_url', 'source_description', 'created_by',\n",
    "                             'pre_money_valuation_usd','post_money_valuation_usd', 'created_at', 'updated_at'], inplace=True)\n",
    "funding_rounds[\"funded_at\"] = funding_rounds[\"funded_at\"].apply(pd.to_datetime)\n",
    "print(funding_rounds.shape)\n",
    "funding_rounds.head()"
   ]
  },
  {
   "cell_type": "code",
   "execution_count": 33,
   "metadata": {
    "id": "Z-NcN65vxSWp"
   },
   "outputs": [
    {
     "data": {
      "text/plain": [
       "funding_round_id        0\n",
       "object_id               0\n",
       "funded_at             248\n",
       "funding_round_type      0\n",
       "funding_round_code      0\n",
       "raised_amount_usd       0\n",
       "dtype: int64"
      ]
     },
     "execution_count": 33,
     "metadata": {},
     "output_type": "execute_result"
    }
   ],
   "source": [
    "funding_rounds.isna().sum()"
   ]
  },
  {
   "cell_type": "code",
   "execution_count": 34,
   "metadata": {
    "id": "7IzNhhLsxzIR"
   },
   "outputs": [],
   "source": [
    "funding_rounds.to_csv(\"Startup Investment Dataset/funding_rounds_2.csv\",index=False)"
   ]
  },
  {
   "cell_type": "code",
   "execution_count": null,
   "metadata": {},
   "outputs": [],
   "source": []
  }
 ],
 "metadata": {
  "colab": {
   "collapsed_sections": [],
   "name": "Data Cleaning.ipynb",
   "provenance": [
    {
     "file_id": "1KUu1NfyMSVEtKYBGcl_YoMnISYCCuFE0",
     "timestamp": 1638059223835
    }
   ]
  },
  "kernelspec": {
   "display_name": "Python 3",
   "language": "python",
   "name": "python3"
  },
  "language_info": {
   "codemirror_mode": {
    "name": "ipython",
    "version": 3
   },
   "file_extension": ".py",
   "mimetype": "text/x-python",
   "name": "python",
   "nbconvert_exporter": "python",
   "pygments_lexer": "ipython3",
   "version": "3.8.5"
  }
 },
 "nbformat": 4,
 "nbformat_minor": 1
}
